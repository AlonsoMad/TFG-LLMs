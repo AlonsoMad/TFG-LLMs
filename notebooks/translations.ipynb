{
 "cells": [
  {
   "cell_type": "code",
   "execution_count": 2,
   "metadata": {},
   "outputs": [],
   "source": [
    "import os\n",
    "import pandas as pd"
   ]
  },
  {
   "cell_type": "code",
   "execution_count": 1,
   "metadata": {},
   "outputs": [
    {
     "ename": "NameError",
     "evalue": "name 'pd' is not defined",
     "output_type": "error",
     "traceback": [
      "\u001b[31m---------------------------------------------------------------------------\u001b[39m",
      "\u001b[31mNameError\u001b[39m                                 Traceback (most recent call last)",
      "\u001b[36mCell\u001b[39m\u001b[36m \u001b[39m\u001b[32mIn[1]\u001b[39m\u001b[32m, line 1\u001b[39m\n\u001b[32m----> \u001b[39m\u001b[32m1\u001b[39m df_trans = \u001b[43mpd\u001b[49m.read_parquet(\u001b[33m'\u001b[39m\u001b[33m/export/usuarios_ml4ds/ammesa/Data/1.5_trans_data/es_2025-03-03_segm_trans\u001b[39m\u001b[33m'\u001b[39m)\n\u001b[32m      2\u001b[39m df_trans.shape\n",
      "\u001b[31mNameError\u001b[39m: name 'pd' is not defined"
     ]
    }
   ],
   "source": [
    "df_trans = pd.read_parquet('/export/usuarios_ml4ds/ammesa/Data/1.5_trans_data/es_2025-03-03_segm_trans')\n",
    "df_trans.shape"
   ]
  },
  {
   "cell_type": "code",
   "execution_count": 13,
   "metadata": {},
   "outputs": [
    {
     "data": {
      "text/plain": [
       "(93978, 9)"
      ]
     },
     "execution_count": 13,
     "metadata": {},
     "output_type": "execute_result"
    }
   ],
   "source": [
    "df_trans_en = pd.read_parquet('/export/usuarios_ml4ds/ammesa/Data/1.5_trans_data/en_2025-03-03_segm_trans')\n",
    "df_trans_en.shape"
   ]
  },
  {
   "cell_type": "code",
   "execution_count": 2,
   "metadata": {},
   "outputs": [
    {
     "data": {
      "application/vnd.microsoft.datawrangler.viewer.v0+json": {
       "columns": [
        {
         "name": "index",
         "rawType": "int64",
         "type": "integer"
        },
        {
         "name": "id_preproc",
         "rawType": "object",
         "type": "string"
        },
        {
         "name": "raw_text",
         "rawType": "object",
         "type": "string"
        },
        {
         "name": "lemmas",
         "rawType": "object",
         "type": "string"
        }
       ],
       "conversionMethod": "pd.DataFrame",
       "ref": "89dac777-c13d-4b2d-a5b9-c0f6b03aad86",
       "rows": [
        [
         "0",
         "EN_0_0",
         "George Washington George Washington (February 22 1732 [O.S. February 11, 1731] – December 14, 1799) was a Founding Father and the first president of the United States, serving from 1789 to 1797. As commander of the Continental Army, Washington led Patriot forces to victory in the American Revolutionary War against the British Empire. He is commonly known as the Father of His Country for his role in bringing about American independence.",
         "george_washington george_washington february february december father president united_states serve commander continental_army washington lead patriot force victory american_revolutionary war british_empire father country role bring american independence"
        ],
        [
         "1",
         "EN_0_1",
         "George Washington Born in the Colony of Virginia, Washington became the commander of the Virginia Regiment during the French and Indian War (1754–1763). He was later elected to the Virginia House of Burgesses, and opposed the perceived oppression of the American colonists by the British Crown. When the American Revolutionary War against the British began in 1775, Washington was appointed commander-in-chief of the Continental Army. He directed a poorly organized and equipped force against disciplined British troops. Washington and his army achieved an early victory at the Siege of Boston in March 1776 but were forced to retreat from New York City in November. Washington crossed the Delaware River and won the battles of Trenton in late 1776 and Princeton in early 1777, then lost the battles of Brandywine and Germantown later that year. He faced criticism of his command, low troop morale, and a lack of provisions for his forces as the war continued. Ultimately Washington led a combined French and American force to a decisive victory over the British at Yorktown in 1781. In the resulting Treaty of Paris in 1783, the British acknowledged the sovereign independence of the United States. Washington then served as president of the Constitutional Convention in 1787, which drafted the current Constitution of the United States.",
         "george_washington bear colony virginia washington commander virginia regiment french_indian war elect virginia house_burgesses oppose perceive_oppression american colonist british crown american_revolutionary war british washington appoint_commander chief continental_army direct organize equip force disciplined british troop washington army achieve_victory siege_boston march force retreat new_york city november washington cross_delaware river win battle_trenton late princeton lose battle_brandywine germantown criticism command troop_morale lack provision force war continue washington lead combined french american force decisive_victory british yorktown result treaty_paris british acknowledge sovereign independence united_states washington serve president constitutional_convention draft current constitution united_states"
        ],
        [
         "2",
         "EN_0_2",
         "George Washington Washington was elected president unanimously by the Electoral College in 1788 and again in 1792. As the first U.S. president, he implemented a strong, well-financed national government while remaining impartial in the fierce rivalry that emerged within his cabinet between Thomas Jefferson and Alexander Hamilton. During the French Revolution, he proclaimed a policy of neutrality while supporting the Jay Treaty with Britain. Washington set enduring precedents for the office of president, including republicanism, a peaceful transfer of power, the use of the title \"Mr. President\", and the two-term tradition. His 1796 farewell address became a preeminent statement on republicanism: Washington wrote about the importance of national unity and the dangers that regionalism, partisanship, and foreign influence pose to it. As a planter of tobacco and wheat at Mount Vernon, Washington owned many slaves. He began opposing slavery near the end of his life, and provided in his will for the manumission of his slaves.",
         "george_washington washington elect president electoral_college president implement strong finance national government remain impartial fierce_rivalry emerge cabinet thomas_jefferson alexander_hamilton french_revolution proclaim policy_neutrality support jay_treaty britain washington set endure precedent office president include republicanism peaceful_transfer power title president term tradition farewell_address preeminent statement_republicanism washington write national unity danger regionalism partisanship_foreign influence pose technology planter_tobacco wheat mount_vernon washington slave oppose slavery life provide manumission_slave"
        ],
        [
         "3",
         "EN_0_3",
         "George Washington Washington's image is an icon of American culture and he has been extensively memorialized; his namesakes include the national capital and the State of Washington. In both popular and scholarly polls, he is consistently considered one of the greatest presidents in American history.",
         "george_washington washington image_icon american culture memorialize namesake include national capital state washington popular_scholarly poll president american history"
        ],
        [
         "4",
         "EN_0_4",
         "George Washington George Washington was born on February 22, 1732, at Popes Creek in Westmoreland County, Virginia. He was the first of six children of Augustine and Mary Ball Washington. His father was a justice of the peace and a prominent public figure who had four additional children from his first marriage to Jane Butler. Washington was not close to his father and rarely mentioned him in later years; he had a fractious relationship with his mother. Among his siblings, he was particularly close to his older half-brother Lawrence.",
         "george_washington george_washington bear february popes_creek westmoreland_county virginia child augustine mary_ball washington father justice_peace prominent public figure health_organization additional child marriage jane_butler washington close father mention fractious_relationship mother_sibling close brother_lawrence"
        ],
        [
         "5",
         "EN_0_5",
         "George Washington The family moved to a plantation on Little Hunting Creek in 1735 before settling at Ferry Farm near Fredericksburg, Virginia, in 1738. When Augustine died in 1743, Washington inherited Ferry Farm and ten slaves; Lawrence inherited Little Hunting Creek and renamed it Mount Vernon. Because of his father's death, Washington did not have the formal education his elder half-brothers had received at Appleby Grammar School in England; he instead attended the Lower Church School in Hartfield. He learned mathematics and land surveying, and became a talented draftsman and mapmaker. By early adulthood, he was writing with what his biographer Ron Chernow described as \"considerable force\" and \"precision\". As a teenager, Washington compiled over a hundred rules for social interaction styled The Rules of Civility, copied from an English translation of a French guidebook.",
         "george_washington family plantation little_hunting creek settle ferry_farm fredericksburg_virginia augustine die washington inherit ferry_farm slave lawrence inherit_little hunting_creek rename technology mount_vernon father death washington formal_education eld_brother receive appleby_grammar school england attend lower church school hartfield learn_mathematic land_surveying talented draftsman mapmaker adulthood write biographer_ron chernow considerable force precision teenager washington compile rule social_interaction style rules civility_english translation french guidebook"
        ],
        [
         "6",
         "EN_0_6",
         "George Washington Washington often visited Belvoir, the plantation of William Fairfax, Lawrence's father-in-law, and Mount Vernon. Fairfax became Washington's patron and surrogate father. In 1748, Washington spent a month with a team surveying Fairfax's Shenandoah Valley property. The following year, he received a surveyor's license from the College of William & Mary. Even though Washington had not served the customary apprenticeship, Thomas Fairfax (William's cousin) appointed him surveyor of Culpeper County, Virginia. Washington took his oath of office on July 20, 1749, and resigned in 1750. By 1752, he had bought almost 1,500 acres (600 ha) in the Shenandoah Valley and owned 2,315 acres (937 ha).",
         "george_washington washington visit belvoir plantation william fairfax lawrence father law mount_vernon fairfax washington patron surrogate_father washington spend_month team survey fairfax shenandoah_valley property receive surveyor_license college_william mary washington serve customary apprenticeship thomas_fairfax william cousin appoint surveyor culpeper_county virginia washington oath_office july resign acre shenandoah_valley acre"
        ],
        [
         "7",
         "EN_0_7",
         "George Washington In 1751, Washington left mainland North America for the first and only time, when he accompanied Lawrence to Barbados, hoping the climate would cure his brother's tuberculosis. Washington contracted smallpox during the trip, which left his face slightly scarred. Lawrence died in 1752, and Washington leased Mount Vernon from his widow, Anne; he inherited it outright after her death in 1761.",
         "george_washington washington leave mainland north_america time accompany lawrence barbados hope climate cure brother tuberculosis washington contract_smallpox trip leave scarred lawrence die washington lease mount_vernon widow_anne inherit technology death"
        ],
        [
         "8",
         "EN_0_8",
         "George Washington Lawrence Washington's service as adjutant general of the Virginia militia inspired George to seek a militia commission. Virginia's lieutenant governor, Robert Dinwiddie, appointed Washington as a major and commander of one of the four militia districts. The British and French were competing for control of the Ohio River Valley: the British were constructing forts along the river, and the French between the river and Lake Erie.",
         "george_washington lawrence_washington service adjutant virginia militia inspire george seek militia commission virginia lieutenant_governor robert_dinwiddie appoint washington major commander militia district british french compete control ohio_river valley british construct_fort river french river lake_erie"
        ],
        [
         "9",
         "EN_0_9",
         "George Washington In October 1753, Dinwiddie appointed Washington as a special envoy to demand the French forces vacate land that was claimed by the British. Washington was also directed to make peace with the Iroquois Confederacy and to gather intelligence about the French forces. Washington met with Iroquois leader Tanacharison at Logstown. Washington said that at this meeting Tanacharison named him Conotocaurius. This name, meaning \"devourer of villages\", had previously been given to his great-grandfather John Washington in the late 17th century by the Susquehannock.",
         "george_washington october dinwiddie_appoint washington special_envoy demand french force vacate land claim british washington direct peace iroquois_confederacy gather_intelligence french force washington meet iroquois leader tanacharison logstown washington meeting tanacharison conotocaurius devourer village grandfather john washington late_century susquehannock"
        ],
        [
         "10",
         "EN_0_10",
         "George Washington Washington's party reached the Ohio River in November 1753 and was intercepted by a French patrol. The party was escorted to Fort Le Boeuf, where Washington was received in a friendly manner. He delivered the British demand to vacate to the French commander Jacques Legardeur de Saint-Pierre, but the French refused to leave. Saint-Pierre gave Washington his official answer after a few days' delay, as well as food and winter clothing for his party's journey back to Virginia. Washington completed the precarious mission in difficult winter conditions, achieving a measure of distinction when his report was published in Virginia and London.",
         "george_washington washington party reach ohio_river november intercept french patrol party escort fort_le boeuf washington receive friendly_manner deliver british demand vacate french commander jacques_legardeur saint_pierre french refuse leave saint_pierre washington official answer day delay food winter_clothing party journey virginia washington complete precarious mission difficult winter condition achieve measure distinction report publish virginia london"
        ],
        [
         "11",
         "EN_0_11",
         "George Washington In February 1754, Dinwiddie promoted Washington to lieutenant colonel and second-in-command of the 300-strong Virginia Regiment, with orders to confront the French at the Forks of the Ohio. Washington set out with half the regiment in April and was soon aware that a French force of 1,000 had begun construction of Fort Duquesne there. In May, having established a defensive position at Great Meadows, Washington learned that the French had made camp seven miles (11 km) away; he decided to take the offensive. The French detachment proved to be only about 50 men, so on May 28 Washington commanded an ambush. His small force of Virginians and Indian allies killed the French, including their commander Joseph Coulon de Jumonville, who had been carrying a diplomatic message for the British. The French later found their countrymen dead and scalped, blaming Washington, who had retreated to Fort Necessity.",
         "george_washington february dinwiddie promote washington lieutenant_colonel command strong virginia regiment_confront french forks_ohio washington set regiment april aware french force construction fort_duquesne establish defensive_position great_meadows washington learn french camp mile decide offensive french detachment prove washington command ambush force virginians indian_ally kill french include commander joseph_coulon jumonville health_organization carry diplomatic message british french countryman dead scalp blame washington health_organization retreat fort_necessity"
        ],
        [
         "12",
         "EN_0_12",
         "George Washington The rest of the Virginia Regiment joined Washington the following month with news that he had been promoted to the rank of colonel and given command of the full regiment. They were reinforced by an independent company of a hundred South Carolinians led by Captain James Mackay; his royal commission outranked Washington's and a conflict of command ensued. On July 3, 900 French soldiers attacked Fort Necessity, and the ensuing battle ended in Washington's surrender. Washington did not speak French, but signed a surrender document in which he unwittingly took responsibility for \"assassinating\" Jumonville, later blaming the translator for not properly translating it. The Virginia Regiment was divided and Washington was offered a captaincy in one of the newly formed regiments. He refused, as it would have been a demotion—the British had ordered that \"colonials\" could not be ranked any higher than captain—and instead resigned his commission. The Jumonville affair became the incident which ignited the French and Indian War.",
         "george_washington rest virginia regiment washington follow month news promote rank_colonel command regiment reinforce independent company south_carolinians lead captain james_mackay royal commission outrank washington conflict command ensue july french soldier attack fort_necessity ensue_battle washington surrender washington speak french sign surrender document responsibility assassinate jumonville blame translator translate technology virginia regiment divide washington offer captaincy form regiment refuse technology demotion british colonial rank_captain resign_commission jumonville_affair incident ignite french_indian war"
        ],
        [
         "13",
         "EN_0_13",
         "George Washington In 1755, Washington volunteered as an aide to General Edward Braddock, who led a British expedition to expel the French from Fort Duquesne and the Ohio Country. On Washington's recommendation, Braddock split the army into one main column and a smaller \"flying column\". Washington was suffering from severe dysentery so did not initially travel with the expedition forces. When he rejoined Braddock at Monongahela, still very ill, the French and their Indian allies ambushed the divided army. Two-thirds of the British force became casualties in the ensuing Battle of the Monongahela, and Braddock was killed. Under the command of Lieutenant Colonel Thomas Gage, Washington rallied the survivors and formed a rear guard, allowing the remnants of the force to retreat. During the engagement, Washington had two horses shot out from under him, and his hat and coat were pierced by bullets. His conduct redeemed his reputation among critics of his command in the Battle of Fort Necessity, but he was not included by the succeeding commander (Colonel Thomas Dunbar) in planning subsequent operations.",
         "george_washington washington volunteer_aide general edward_braddock health_organization lead british expedition expel french fort_duquesne ohio_country washington recommendation braddock split army main column fly column washington suffer_severe dysentery travel expedition force rejoin braddock_monongahela french_indian ally ambush divided army british force casualty ensue_battle monongahela_braddock kill command_lieutenant colonel thomas_gage washington rally survivor form rear_guard remnant force retreat engagement washington horse_shoot hat coat pierce_bullet conduct redeem reputation critic command battle fort_necessity include succeed commander colonel thomas dunbar plan subsequent operation"
        ],
        [
         "14",
         "EN_0_14",
         "George Washington The Virginia Regiment was reconstituted in August 1755, and Dinwiddie appointed Washington its commander, again with the rank of colonel. Washington clashed over seniority almost immediately, this time with Captain John Dagworthy, who commanded a detachment of Marylanders at the regiment's headquarters in Fort Cumberland. Washington, impatient for an offensive against Fort Duquesne, was convinced Braddock would have granted him a royal commission and pressed his case in February 1756 with Braddock's successor as Commander-in-Chief, William Shirley, and again in January 1757 with Shirley's successor, Lord Loudoun. Loudoun humiliated Washington, refused him a royal commission, and agreed only to relieve him of the responsibility of manning Fort Cumberland.",
         "george_washington virginia regiment reconstitute august dinwiddie_appoint washington commander rank_colonel washington clash seniority time captain john dagworthy health_organization command detachment marylanders regiment headquarters fort_cumberland washington impatient offensive fort_duquesne convince braddock grant royal commission press february braddock successor commander_chief william_shirley january shirley successor lord_loudoun loudoun humiliate washington refuse royal commission agree relieve responsibility fort_cumberland"
        ],
        [
         "15",
         "EN_0_15",
         "George Washington In 1758, the Virginia Regiment was assigned to the British Forbes Expedition to capture Fort Duquesne. General John Forbes took Washington's advice on some aspects of the expedition but rejected his opinion on the best route to the fort. Forbes nevertheless made Washington a brevet brigadier general and gave him command of one of the three brigades that was assigned to assault the fort. The French had abandoned the fort and the valley before the assault, however, and Washington only saw a friendly fire incident which left 14 dead and 26 injured. Frustrated, he resigned his commission soon afterwards and returned to Mount Vernon.",
         "george_washington virginia regiment assign british forbes_expedition capture_fort duquesne general john forbes washington advice aspect expedition reject opinion route fort forbes washington brevet_brigadier command_brigade assign assault_fort french abandon fort valley assault washington friendly_incident leave dead_injure frustrated resign_commission return mount_vernon"
        ],
        [
         "16",
         "EN_0_16",
         "George Washington Under Washington, the Virginia Regiment had defended 300 miles (480 km) of frontier against twenty Indian attacks in ten months. He increased the professionalism of the regiment as it grew from 300 to 1,000 men. Though he failed to realize a royal commission, which made him hostile towards the British, he gained self-confidence, leadership skills, and knowledge of British military tactics. The destructive competition Washington witnessed among colonial politicians fostered his later support of a strong central government.",
         "george_washington washington virginia regiment defend mile frontier indian attack month increase professionalism regiment technology grow fail realize royal commission hostile british gain_confidence leadership_skill knowledge british military tactic destructive competition washington witness colonial politician foster support strong_central government"
        ],
        [
         "17",
         "EN_0_17",
         "George Washington On January 6, 1759, Washington, at age 26, married Martha Dandridge Custis, the 27-year-old widow of wealthy plantation owner Daniel Parke Custis. Martha was intelligent, gracious, and experienced in managing a planter's estate, and the couple had a happy marriage. They lived at Mount Vernon, where Washington cultivated tobacco and wheat. The marriage gave Washington control over Martha's one-third dower interest in the 18,000-acre (7,300 ha) Custis estate, and he managed the remaining two-thirds for Martha's children. As a result, he became one of the wealthiest men in Virginia, which increased his social standing.",
         "george_washington january washington age marry martha_dandridge custis_widow wealthy plantation_owner daniel_parke custis_martha intelligent gracious experience manage planter estate couple happy_marriage live mount_vernon washington cultivate_tobacco wheat marriage washington control martha dower acre_custis estate manage remain martha child result wealthy virginia increase social_standing"
        ],
        [
         "18",
         "EN_0_18",
         "George Washington At Washington's urging, Governor Lord Botetourt fulfilled Dinwiddie's 1754 promise to grant land bounties to those who served with volunteer militias during the French and Indian War. In late 1770, Washington inspected the lands in the Ohio and Great Kanawha regions, and he engaged surveyor William Crawford to subdivide it. Crawford allotted 23,200 acres (9,400 ha) to Washington, who told the veterans that their land was unsuitable for farming and agreed to purchase 20,147 acres (8,153 ha), leaving some feeling that they had been duped. He also doubled the size of Mount Vernon to 6,500 acres (2,600 ha) and, by 1775, had more than doubled its slave population to over one hundred.",
         "george_washington washington urging_governor lord_botetourt fulfil dinwiddie promise grant land bounty health_organization serve volunteer_militia french_indian war late washington inspect land ohio great kanawha region engage surveyor william_crawford subdivide technology crawford allot acre washington health_organization veteran land unsuitable farming agree purchase_acre leave feeling dupe double_size mount_vernon acre double slave population"
        ],
        [
         "19",
         "EN_0_19",
         "George Washington As a respected military hero and large landowner, Washington held local offices and was elected to the Virginia provincial legislature, representing Frederick County in the Virginia House of Burgesses for seven years beginning in 1758. Early in his legislative career, Washington rarely spoke at or even attended legislative sessions, but was more politically active starting in the 1760s, becoming a prominent critic of Britain's taxation and mercantilist policies towards the American colonies. Washington imported luxury goods from England, paying for them by exporting tobacco. His profligate spending combined with low tobacco prices left him £1,800 in debt by 1764. Washington's complete reliance on London tobacco buyer and merchant Robert Cary also threatened his economic security. Between 1764 and 1766, he sought to diversify his holdings: he changed Mount Vernon's primary cash crop from tobacco to wheat and expanded operations to include flour milling and hemp farming. Washington's stepdaughter Patsy suffered from epileptic attacks, and she died at Mount Vernon in 1773, allowing Washington to use part of the inheritance from her estate to settle his debts.",
         "george_washington respected military hero landowner washington hold local office elect virginia provincial_legislature represent frederick county_virginia house_burgesses legislative career washington speak attend legislative_session active starting prominent critic britain taxation mercantilist_policy american colony washington import_luxury england pay export_tobacco profligate_spending combine tobacco_price leave debt washington complete reliance london tobacco buyer merchant robert_cary threaten economic security seek_diversify holding change mount_vernon primary cash_crop tobacco_wheat expand operation include flour hemp_farming washington stepdaughter patsy suffer_epileptic attack die mount_vernon washington inheritance estate settle debt"
        ],
        [
         "20",
         "EN_0_20",
         "George Washington Washington was opposed to the taxes which the British Parliament imposed on the Colonies without proper representation. He believed the Stamp Act 1765 was oppressive and celebrated its repeal the following year. In response to the Townshend Acts, he introduced a proposal in May 1769 which urged Virginians to boycott British goods; the Townshend Acts were mostly repealed in 1770. Washington and other colonists were also angered by the Royal Proclamation of 1763 (which banned American settlement west of the Allegheny Mountains) and British interference in American western land speculation (in which Washington was a participant).",
         "george_washington washington oppose taxis british parliament impose colonies proper representation stamp_act oppressive celebrate repeal response_townshend introduce proposal urge virginians boycott_british townshend_repeal washington colonist anger royal_proclamation ban american settlement west allegheny_mountains british interference american western land_speculation washington participant"
        ],
        [
         "21",
         "EN_0_21",
         "George Washington Parliament sought to punish Massachusetts colonists for their role in the Boston Tea Party in 1774 by passing the Coercive Acts, which Washington saw as \"an invasion of our rights and privileges\". That July, he and George Mason drafted a list of resolutions for the Fairfax County committee, including a call to end the Atlantic slave trade; the resolutions were adopted. In August, Washington attended the First Virginia Convention and was selected as a delegate to the First Continental Congress. As tensions rose in 1774, he helped train militias in Virginia and organized enforcement of the Continental Association boycott of British goods instituted by the Congress.",
         "george_washington parliament seek punish massachusetts colonist role boston_tea party pass_coercive washington invasion privilege july george_mason draft list resolution fairfax_county committee include atlantic_slave trade resolution adopt august washington attend virginia convention select_delegate continental_congress tension rise train militia virginia organize enforcement continental_association boycott_british institute congress"
        ],
        [
         "22",
         "EN_0_22",
         "George Washington The American Revolutionary War broke out on April 19, 1775. Washington hastily departed Mount Vernon on May 4 to join the Second Continental Congress in Philadelphia. On June 14, Congress created the Continental Army and John Adams nominated Washington as its commander-in-chief, mainly because of his military experience and the belief that a Virginian would better unite the colonies. He was unanimously elected by Congress the next day. Washington gave an acceptance speech on June 16, declining a salary, though he was later reimbursed expenses.",
         "george_washington american_revolutionary war break april washington depart mount_vernon second_continental congress philadelphia june congress create continental_army john_adams nominate washington commander_chief military experience belief virginian unite colony elect congress day washington acceptance_speech june decline salary reimburse_expense"
        ],
        [
         "23",
         "EN_0_23",
         "George Washington Congress chose Washington's primary staff officers, including Artemas Ward, Horatio Gates, Charles Lee, Philip Schuyler, and Nathanael Greene. Henry Knox impressed Adams and Washington with his knowledge of ordnance and was promoted to colonel and chief of artillery. Similarly, Washington was impressed by Alexander Hamilton's intelligence and bravery; he would later promote Hamilton to colonel and appoint him his aide-de-camp.",
         "george_washington congress choose washington primary staff_officer include artemas_ward horatio_gates charles_lee philip_schuyler nathanael_greene henry_knox impress adams washington knowledge ordnance_promote colonel chief artillery washington impress alexander_hamilton intelligence_bravery promote hamilton colonel appoint_aide camp"
        ],
        [
         "24",
         "EN_0_24",
         "George Washington Washington initially banned the enlistment of Black soldiers, both free and enslaved. The British saw an opportunity to divide the colonies: the colonial governor of Virginia issued a proclamation promising freedom to slaves if they joined the British forces. In response to this proclamation and the need for troops, Washington soon overturned his ban. By the end of the war, around one-tenth of the soldiers in the Continental Army were Black, with some obtaining freedom.",
         "george_washington washington ban enlistment black soldier enslave british opportunity divide colony colonial governor virginia issue_proclamation promise_freedom slave british force response proclamation troop washington overturn ban war tenth soldier continental_army black freedom"
        ],
        [
         "25",
         "EN_0_25",
         "George Washington In April 1775, in response to the growing rebellious movement, British troops occupied Boston, led by General Thomas Gage, commander of British forces in America. Local militias surrounded the city and trapped the British troops, resulting in a standoff. As Washington headed for Boston, he was greeted by cheering crowds and political ceremony; he became a symbol of the Patriot cause. Upon Washington's arrival on July 2, he went to inspect the army, but found undisciplined militia. After consultation, he initiated Benjamin Franklin's suggested reforms, instituting military drills and imposing strict disciplinary measures. Washington promoted some of the soldiers who had performed well at Bunker Hill to officer rank, and removed officers who he saw as incompetent. In October, King George III declared that the colonies were in open rebellion and relieved Gage of command, replacing him with General William Howe.",
         "george_washington april response grow rebellious movement british troop occupy boston lead general thomas_gage commander british force america local_militia surround city trap british troop result_standoff washington head boston greet_cheer crowd political ceremony symbol patriot washington arrival july inspect army undisciplined militia consultation initiate benjamin_franklin reform institute military_drill impose strict_disciplinary measure washington promote soldier health_organization perform bunker_hill officer rank remove officer health_organization incompetent october king george_iii declare colony rebellion relieve gage command replace general william_howe"
        ],
        [
         "26",
         "EN_0_26",
         "George Washington When the Charles River froze over, Washington was eager to cross and storm Boston, but Gates and others were opposed to having untrained militia attempt to assault well-garrisoned fortifications. Instead, Washington agreed to secure the Dorchester Heights above Boston to try to force the British out. On March 17, 8,906 British troops, 1,100 Loyalists, and 1,220 women and children began a chaotic naval evacuation. Washington entered the city with 500 men, giving them explicit orders not to plunder. He refrained from exerting military authority in Boston, leaving civilian matters in the hands of local authorities.",
         "george_washington charles river freeze washington eager cross storm boston gates oppose untrained_militia attempt assault garrison fortification washington agree secure dorchester_heights boston force british march british troop loyalist woman child chaotic naval evacuation washington enter city explicit plunder refrain exert military authority boston leave civilian matter hand local authority"
        ],
        [
         "27",
         "EN_0_27",
         "George Washington After the victory at Boston, Washington correctly guessed that the British would return to New York City and retaliate. He arrived there on April 13, 1776, and ordered the construction of fortifications. He also ordered his forces to treat civilians and their property with respect, to avoid the abuses Bostonians suffered at the hands of British troops. The British forces, including more than a hundred ships and thousands of troops, began arriving on Staten Island in July to lay siege to the city.",
         "george_washington victory boston washington guess british return new_york city retaliate arrive april construction_fortification force treat civilian property respect avoid abuse bostonians suffer hand british troop british force include ship troop arrive staten_island july lay_siege city"
        ],
        [
         "28",
         "EN_0_28",
         "George Washington Howe's troop strength totaled 32,000 regulars and Hessian auxiliaries; Washington had 23,000 men, mostly untrained recruits and militia. In August, Howe landed 20,000 troops at Gravesend, Brooklyn, and approached Washington's fortifications. Overruling his generals, Washington chose to fight, based on inaccurate information that Howe's army had only around 8,000 soldiers. In the Battle of Long Island, Howe assaulted Washington's flank and inflicted 1,500 Patriot casualties. Washington retreated to Manhattan.",
         "george_washington howe troop strength total regular hessian_auxiliary washington untrained recruit militia august howe land troop gravesend_brooklyn approach washington fortification overrule washington choose fight base inaccurate howe army soldier battle_long island howe_assault washington flank inflict_patriot casualty washington retreat manhattan"
        ],
        [
         "29",
         "EN_0_29",
         "George Washington Howe sent a message to Washington to negotiate peace, addressing him as \"George Washington, Esq.\" Washington declined to accept the message, demanding to be addressed with diplomatic protocol—not as a rebel. Despite misgivings, Washington heeded the advice of General Greene to defend Fort Washington, but was ultimately forced to abandon it. Howe pursued and Washington retreated across the Hudson River to Fort Lee. In November, Howe captured Fort Washington. Loyalists in New York City considered Howe a liberator and spread a rumor that Washington had set fire to the city. Now reduced to 5,400 troops, Washington's army retreated through New Jersey.",
         "george_washington howe send_message washington negotiate_peace address george_washington esq washington decline accept message demand address diplomatic_protocol rebel misgiving washington heed_advice general greene defend fort washington force abandon technology howe pursue washington retreat hudson_river fort lee november howe capture_fort washington loyalist new_york city howe liberator spread_rumor washington set city reduce troop washington army retreat new_jersey"
        ],
        [
         "30",
         "EN_0_30",
         "George Washington Washington crossed the Delaware River into Pennsylvania, where General John Sullivan joined him with 2,000 more troops. The future of the Continental Army was in doubt due to a lack of supplies, a harsh winter, expiring enlistments, and desertions. Howe posted a Hessian garrison at Trenton to hold western New Jersey and the east shore of the Delaware. At sunrise on December 26, 1776, Washington, aided by Colonel Knox and artillery, led his men in a successful surprise attack on the Hessians.",
         "george_washington washington cross_delaware river pennsylvania general john_sullivan troop future continental_army doubt lack supply harsh_winter expiring_enlistment desertion howe post hessian_garrison trenton hold western new_jersey east shore_delaware sunrise_december washington aid colonel knox_artillery lead successful surprise_attack hessians"
        ],
        [
         "31",
         "EN_0_31",
         "George Washington Washington returned to New Jersey on January 3, 1777, launching an attack on the British regulars at Princeton, with 40 Americans killed or wounded and 273 British killed or captured. Howe retreated to New York City for the winter. Washington took up winter headquarters in Morristown, New Jersey. Strategically, Washington's victories at Trenton and Princeton were pivotal: they revived Patriot morale and quashed the British strategy of showing overwhelming force followed by offering generous terms, changing the course of the war.",
         "george_washington washington return new_jersey january launch_attack british regular princeton americans kill_wound british kill capture howe retreat new_york city winter washington winter headquarters_morristown new_jersey washington victory_trenton princeton pivotal revive patriot_morale quash british strategy overwhelming force follow offer_generous term change war"
        ],
        [
         "32",
         "EN_0_32",
         "George Washington In July 1777, the British general John Burgoyne led his British troops south from Quebec in the Saratoga campaign; he recaptured Fort Ticonderoga, intending to divide New England. However, General Howe took his army from New York City south to Philadelphia rather than joining Burgoyne near Albany. Washington and Gilbert, Marquis de Lafayette rushed to Philadelphia to engage Howe. In the Battle of Brandywine on September 11, 1777, Howe outmaneuvered Washington and marched unopposed into the American capital at Philadelphia. A Patriot attack against the British at Germantown in October failed.",
         "george_washington july british john_burgoyne lead british troop quebec saratoga_campaign recapture_fort ticonderoga intend divide new_england general_howe army new_york city philadelphia burgoyne albany washington gilbert marquis_lafayette rush philadelphia engage howe battle_brandywine september howe_outmaneuver washington march_unopposed american capital philadelphia patriot attack british germantown_october fail"
        ],
        [
         "33",
         "EN_0_33",
         "George Washington In Upstate New York, the Patriots were led by General Horatio Gates. Concerned about Burgoyne's movements southward, Washington sent reinforcements north with Generals Benedict Arnold and Benjamin Lincoln. On October 7, 1777, Burgoyne tried to take Bemis Heights but was isolated from support and forced to surrender. Gates' victory emboldened Washington's critics, who favored Gates as a military leader. According to the biographer John Alden, \"It was inevitable that the defeats of Washington's forces and the concurrent victory of the forces in upper New York should be compared.\" Admiration for Washington was waning.",
         "george_washington upstate_new york patriots lead general_horatio gates concerned burgoyne movement washington send_reinforcement benedict_arnold benjamin_lincoln october burgoyne bemis_heights isolate support force surrender gates victory_embolden washington critic health_organization favor gates military leader accord_biographer john_alden technology inevitable defeat washington force concurrent victory force upper new_york compare admiration washington wane"
        ],
        [
         "34",
         "EN_0_34",
         "George Washington Washington and his army of 11,000 men went into winter quarters at Valley Forge north of Philadelphia in December 1777. There they lost between 2,000 and 3,000 men as a result of disease and lack of food, clothing, and shelter, reducing the army to below 9,000 men. By February, Washington was facing low troop morale and increased desertions. An internal revolt by his officers prompted some members of Congress to consider removing Washington from command. Washington's supporters resisted, and the matter was ultimately dropped.",
         "george_washington washington army winter_quarter valley_forge north philadelphia december lose result disease lack food_clothing shelter reduce army february washington troop_morale increased desertion internal_revolt officer prompt congress remove washington command washington supporter resist matter drop"
        ],
        [
         "35",
         "EN_0_35",
         "George Washington Washington made repeated petitions to Congress for provisions and expressed the urgency of the situation to a congressional delegation. Congress agreed to strengthen the army's supply lines and reorganize the quartermaster and commissary departments, while Washington launched the Grand Forage of 1778 to collect food from the surrounding region. Meanwhile, Baron Friedrich Wilhelm von Steuben's incessant drilling transformed Washington's recruits into a disciplined fighting force. Washington appointed him Inspector General.",
         "george_washington washington repeat petition congress provision express urgency_situation congressional_delegation congress agree strengthen army supply reorganize quartermaster_commissary department washington launch grand forage collect food surround region baron_friedrich wilhelm_von steuben incessant drilling transform washington recruit disciplined fighting force washington appoint_inspector general"
        ],
        [
         "36",
         "EN_0_36",
         "George Washington In early 1778, the French entered into a Treaty of Alliance with the Americans. In May, Howe resigned and was replaced by Sir Henry Clinton. The British evacuated Philadelphia for New York that June and Washington summoned a war council of American and French generals. He chose to order a limited strike on the retreating British. Generals Lee and Lafayette moved with 4,000 men, without Washington's knowledge, and bungled their first strike on June 28. Washington relieved Lee and achieved a draw after an expansive battle. The British continued their retreat to New York. ",
         "george_washington french enter treaty_alliance americans howe_resign replace sir_henry clinton british_evacuate philadelphia new_york june washington summon war council american french choose limited strike retreat british generals lee lafayette washington knowledge bungle strike june washington relieve lee achieve draw expansive battle british continue retreat new_york"
        ],
        [
         "37",
         "EN_0_37",
         "George Washington This battle \"marked the end of the war's campaigning in the northern and middle states. Washington would not fight the British in a major engagement again for more than three years\". British attention shifted to the Southern theatre; in late 1778, General Clinton captured Savannah, Georgia, a key port in the American South. Washington, meanwhile, ordered an expedition against the Iroquois, the Indigenous allies of the British, destroying their villages.",
         "george_washington battle mark war campaigning northern middle washington fight british major_engagement british attention_shift southern theatre late general clinton capture_savannah georgia key port american south washington expedition iroquois indigenous_ally british destroy_village"
        ],
        [
         "38",
         "EN_0_38",
         "George Washington Washington became America's first spymaster by designing an espionage system against the British. In 1778, Major Benjamin Tallmadge formed the Culper Ring at Washington's direction to covertly collect information about the British in New York. Intelligence from the Culper Ring saved French forces from a surprise British attack, which was itself based on intelligence from Washington's general turned British spy Benedict Arnold.",
         "george_washington washington america spymaster design espionage british major benjamin_tallmadge form culper_ring washington direction collect british new_york intelligence culper_ring save french force surprise british attack base intelligence washington british spy benedict_arnold"
        ],
        [
         "39",
         "EN_0_39",
         "George Washington Washington had disregarded incidents of disloyalty by Arnold, who had distinguished himself in many campaigns, including the invasion of Quebec. In 1779, Arnold began supplying the British spymaster John André with sensitive information intended to allow the British to capture West Point, a key American defensive position on the Hudson River. On September 21, Arnold gave André plans to take over the garrison. André was captured by militia who discovered the plans, after which Arnold escaped to New York. On being told about Arnold's treason, Washington recalled the commanders positioned under Arnold at key points around the fort to prevent any complicity. He assumed personal command at West Point and reorganized its defenses.",
         "george_washington washington disregard incident disloyalty arnold health_organization distinguish campaign include invasion_quebec arnold supply british_spymaster john_andré sensitive intend british capture west_point key american defensive_position hudson_river september arnold_andré plan garrison andré_capture militia health_organization discover plan arnold escape new_york arnold_treason washington recall commander position arnold key fort prevent complicity assume personal command west_point reorganize defense"
        ],
        [
         "40",
         "EN_0_40",
         "George Washington By June 1780, the British had occupied the South Carolina Piedmont and had firm control of the South. Washington was reinvigorated, however, when Lafayette returned from France with more ships, men, and supplies, and 5,000 veteran French troops led by Marshal Rochambeau arrived at Newport, Rhode Island in July.",
         "george_washington june british occupy south_carolina piedmont firm control south washington reinvigorate lafayette return france ship supply veteran french troop lead marshal rochambeau arrive newport_rhode island july"
        ],
        [
         "41",
         "EN_0_41",
         "George Washington General Clinton sent Arnold, now a British brigadier general, to Virginia in December with 1,700 troops to capture Portsmouth and conduct raids on Patriot forces. Washington sent Lafayette south to counter Arnold's efforts. Washington initially hoped to bring the fight to New York, drawing the British forces away from Virginia and ending the war there, but Rochambeau advised him that Cornwallis in Virginia was the better target. On August 19, 1781, Washington and Rochambeau began a march to Yorktown, Virginia, known now as the \"celebrated march\". Washington was in command of an army of 7,800 Frenchmen, 3,100 militia, and 8,000 Continental troops. Inexperienced in siege warfare, he often deferred to the judgment of Rochambeau. Despite this, Rochambeau never challenged Washington's authority as the battle's commanding officer.",
         "george_washington general clinton send arnold british brigadier virginia december troop capture portsmouth conduct_raid patriot force washington send lafayette counter arnold effort washington hope bring fight new_york draw british force virginia war rochambeau advise cornwallis virginia target august washington rochambeau march yorktown virginia celebrate march washington command army frenchmen militia continental troop inexperienced siege warfare defer judgment rochambeau_rochambeau challenge washington authority battle command officer"
        ],
        [
         "42",
         "EN_0_42",
         "George Washington By late September, Patriot-French forces surrounded Yorktown, trapping the British Army, while the French navy emerged victorious at the Battle of the Chesapeake. The final American offensive began with a shot fired by Washington. The siege ended with a British surrender on October 19, 1781; over 7,000 British soldiers became prisoners of war. Washington negotiated the terms of surrender for two days, and the official signing ceremony took place on October 19. Although the peace treaty was not negotiated for two more years, Yorktown proved to be the last significant battle of the Revolutionary War, with the British Parliament agreeing to cease hostilities in March 1782.",
         "george_washington late september patriot french force surround yorktown trap british army french navy emerge_victorious battle_chesapeake final american offensive shot washington siege british surrender october british soldier prisoner war washington negotiate term surrender day official signing ceremony october peace_treaty negotiate yorktown prove battle revolutionary_war british parliament agree cease_hostility march"
        ],
        [
         "43",
         "EN_0_43",
         "George Washington When peace negotiations began in April 1782, both the British and French began gradually evacuating their forces. In March 1783, Washington successfully calmed the Newburgh Conspiracy, a planned mutiny by American officers dissatisfied with a lack of pay. Washington submitted an account of $450,000 in expenses which he had advanced to the army. The account was settled, though it was vague about large sums and included expenses his wife had incurred through visits to his headquarters.",
         "george_washington peace_negotiation april british french evacuate force march washington calm newburgh_conspiracy plan mutiny american officer dissatisfied_lack pay washington submit account expense advance army account settle technology vague sum include expense wife incur visit headquarter"
        ],
        [
         "44",
         "EN_0_44",
         "George Washington When the Treaty of Paris was signed on September 3, 1783, Britain officially recognized American independence. Washington disbanded his army, giving a farewell address to his soldiers on November 2. He oversaw the evacuation of British forces in New York and was greeted by parades and celebrations.",
         "george_washington treaty_paris sign september britain recognize american independence washington disband_army farewell_address soldier november oversee_evacuation british force new_york greet parade_celebration"
        ],
        [
         "45",
         "EN_0_45",
         "George Washington In early December 1783, Washington bade farewell to his officers at Fraunces Tavern and resigned as commander-in-chief soon after. In a final appearance in uniform, he gave a statement to the Congress: \"I consider it an indispensable duty to close this last solemn act of my official life, by commending the interests of our dearest country to the protection of Almighty God, and those who have the superintendence of them, to his holy keeping.\" Washington's resignation was acclaimed at home and abroad, \"extolled by later historians as a signal event that set the country's political course\" according to the historian Edward J. Larson. The same month, Washington was appointed president-general of the Society of the Cincinnati, a newly established hereditary fraternity of Revolutionary War officers.",
         "george_washington december washington bade farewell officer fraunces_tavern resign commander_chief final appearance uniform statement congress technology indispensable duty close solemn official life commend country protection almighty_god health_organization superintendence holy keeping washington resignation acclaim extoll late historian signal event set country political accord_historian edward larson month washington appoint president society_cincinnati establish hereditary fraternity revolutionary_war officer"
        ],
        [
         "46",
         "EN_0_46",
         "George Washington After spending just ten days at Mount Vernon out of 8+1⁄2 years of war, Washington was eager to return home. He arrived on Christmas Eve; Professor John E. Ferling wrote that he was delighted to be \"free of the bustle of a camp and the busy scenes of public life\". He received a constant stream of visitors paying their respects at Mount Vernon.",
         "george_washington spend day mount_vernon war washington eager return arrive christmas_eve professor john_ferling write delighted bustle camp busy scene public life receive constant_stream visitor pay respect mount_vernon"
        ],
        [
         "47",
         "EN_0_47",
         "George Washington Washington reactivated his interests in the Great Dismal Swamp and Potomac Canal projects, begun before the war, though neither paid him any dividends. He undertook a 34-day, 680-mile (1,090 km) trip in 1784 to check on his land holdings in the Ohio Country. He oversaw the completion of remodeling work at Mount Vernon, which transformed his residence into the mansion that survives to this day—although his financial situation was not strong. Creditors paid him in depreciated wartime currency, and he owed significant amounts in taxes and wages. Mount Vernon had made no profit during his absence, and he saw persistently poor crop yields due to pestilence and bad weather. His estate recorded its eleventh year running at a deficit in 1787.",
         "george_washington washington reactivate great_dismal swamp potomac canal project war pay_dividend undertake day mile trip check land_holding ohio_country oversee_completion remodel mount_vernon transform residence_mansion survive day financial_situation strong creditor_pay depreciate wartime currency owe taxis wage mount_vernon profit absence poor crop_yield pestilence bad_weather estate record eleventh deficit"
        ],
        [
         "48",
         "EN_0_48",
         "George Washington To make his estate profitable again, Washington undertook a new landscaping plan and succeeded in cultivating a range of fast-growing trees and native shrubs. He also began breeding mules after being gifted a stud by King Charles III of Spain in 1785; he believed that they would revolutionize agriculture.",
         "george_washington estate profitable washington undertake landscaping plan succeed cultivate range grow tree native shrub breed_mule gift_stud king charles_iii spain revolutionize agriculture"
        ],
        [
         "49",
         "EN_0_49",
         "George Washington Before returning to private life in June 1783, Washington called for a strong union. Though he was concerned that he might be criticized for meddling in civil matters, he sent a circular letter to the states, maintaining that the Articles of Confederation were no more than \"a rope of sand\". He believed the nation was on the verge of \"anarchy and confusion\", was vulnerable to foreign intervention, and that a national constitution would unify the states under a strong central government.",
         "george_washington return private life june washington strong union concerned criticize meddle civil matter send circular_letter maintain articles_confederation rope_sand nation verge anarchy confusion vulnerable foreign_intervention national constitution unify strong_central government"
        ]
       ],
       "shape": {
        "columns": 3,
        "rows": 96767
       }
      },
      "text/html": [
       "<div>\n",
       "<style scoped>\n",
       "    .dataframe tbody tr th:only-of-type {\n",
       "        vertical-align: middle;\n",
       "    }\n",
       "\n",
       "    .dataframe tbody tr th {\n",
       "        vertical-align: top;\n",
       "    }\n",
       "\n",
       "    .dataframe thead th {\n",
       "        text-align: right;\n",
       "    }\n",
       "</style>\n",
       "<table border=\"1\" class=\"dataframe\">\n",
       "  <thead>\n",
       "    <tr style=\"text-align: right;\">\n",
       "      <th></th>\n",
       "      <th>id_preproc</th>\n",
       "      <th>raw_text</th>\n",
       "      <th>lemmas</th>\n",
       "    </tr>\n",
       "  </thead>\n",
       "  <tbody>\n",
       "    <tr>\n",
       "      <th>0</th>\n",
       "      <td>EN_0_0</td>\n",
       "      <td>George Washington George Washington (February ...</td>\n",
       "      <td>george_washington george_washington february f...</td>\n",
       "    </tr>\n",
       "    <tr>\n",
       "      <th>1</th>\n",
       "      <td>EN_0_1</td>\n",
       "      <td>George Washington Born in the Colony of Virgin...</td>\n",
       "      <td>george_washington bear colony virginia washing...</td>\n",
       "    </tr>\n",
       "    <tr>\n",
       "      <th>2</th>\n",
       "      <td>EN_0_2</td>\n",
       "      <td>George Washington Washington was elected presi...</td>\n",
       "      <td>george_washington washington elect president e...</td>\n",
       "    </tr>\n",
       "    <tr>\n",
       "      <th>3</th>\n",
       "      <td>EN_0_3</td>\n",
       "      <td>George Washington Washington's image is an ico...</td>\n",
       "      <td>george_washington washington image_icon americ...</td>\n",
       "    </tr>\n",
       "    <tr>\n",
       "      <th>4</th>\n",
       "      <td>EN_0_4</td>\n",
       "      <td>George Washington George Washington was born o...</td>\n",
       "      <td>george_washington george_washington bear febru...</td>\n",
       "    </tr>\n",
       "    <tr>\n",
       "      <th>...</th>\n",
       "      <td>...</td>\n",
       "      <td>...</td>\n",
       "      <td>...</td>\n",
       "    </tr>\n",
       "    <tr>\n",
       "      <th>187281</th>\n",
       "      <td>T_EN_98_101</td>\n",
       "      <td>British Army Personal de la OED (junio de 2013...</td>\n",
       "      <td>british army personal oed junio taffy oxford e...</td>\n",
       "    </tr>\n",
       "    <tr>\n",
       "      <th>187373</th>\n",
       "      <td>T_EN_98_88</td>\n",
       "      <td>British Army Chisholm, Hugh, ed (1911) \"Consta...</td>\n",
       "      <td>british army chisholm_hugh constantinople ency...</td>\n",
       "    </tr>\n",
       "    <tr>\n",
       "      <th>187374</th>\n",
       "      <td>T_EN_98_89</td>\n",
       "      <td>British Army Chandler, David; Beckett, Ian, ed...</td>\n",
       "      <td>british army chandler_david beckett ian la_his...</td>\n",
       "    </tr>\n",
       "    <tr>\n",
       "      <th>187376</th>\n",
       "      <td>T_EN_98_90</td>\n",
       "      <td>British Army Connolly, Sean J (1998) El compañ...</td>\n",
       "      <td>british army connolly sean j el compañero oxfo...</td>\n",
       "    </tr>\n",
       "    <tr>\n",
       "      <th>187377</th>\n",
       "      <td>T_EN_98_91</td>\n",
       "      <td>British Army Ensor, (Sir) Robert (1980) [1936]...</td>\n",
       "      <td>british army ensor sir_robert inglaterra histo...</td>\n",
       "    </tr>\n",
       "  </tbody>\n",
       "</table>\n",
       "<p>96767 rows × 3 columns</p>\n",
       "</div>"
      ],
      "text/plain": [
       "         id_preproc                                           raw_text  \\\n",
       "0            EN_0_0  George Washington George Washington (February ...   \n",
       "1            EN_0_1  George Washington Born in the Colony of Virgin...   \n",
       "2            EN_0_2  George Washington Washington was elected presi...   \n",
       "3            EN_0_3  George Washington Washington's image is an ico...   \n",
       "4            EN_0_4  George Washington George Washington was born o...   \n",
       "...             ...                                                ...   \n",
       "187281  T_EN_98_101  British Army Personal de la OED (junio de 2013...   \n",
       "187373   T_EN_98_88  British Army Chisholm, Hugh, ed (1911) \"Consta...   \n",
       "187374   T_EN_98_89  British Army Chandler, David; Beckett, Ian, ed...   \n",
       "187376   T_EN_98_90  British Army Connolly, Sean J (1998) El compañ...   \n",
       "187377   T_EN_98_91  British Army Ensor, (Sir) Robert (1980) [1936]...   \n",
       "\n",
       "                                                   lemmas  \n",
       "0       george_washington george_washington february f...  \n",
       "1       george_washington bear colony virginia washing...  \n",
       "2       george_washington washington elect president e...  \n",
       "3       george_washington washington image_icon americ...  \n",
       "4       george_washington george_washington bear febru...  \n",
       "...                                                   ...  \n",
       "187281  british army personal oed junio taffy oxford e...  \n",
       "187373  british army chisholm_hugh constantinople ency...  \n",
       "187374  british army chandler_david beckett ian la_his...  \n",
       "187376  british army connolly sean j el compañero oxfo...  \n",
       "187377  british army ensor sir_robert inglaterra histo...  \n",
       "\n",
       "[96767 rows x 3 columns]"
      ]
     },
     "execution_count": 2,
     "metadata": {},
     "output_type": "execute_result"
    }
   ],
   "source": [
    "df_lem = pd.read_parquet('/export/usuarios_ml4ds/ammesa/Data/2_lemmatized_data/en')\n",
    "df_lem"
   ]
  },
  {
   "cell_type": "code",
   "execution_count": 29,
   "metadata": {},
   "outputs": [
    {
     "data": {
      "text/plain": [
       "(89769, 3)"
      ]
     },
     "execution_count": 29,
     "metadata": {},
     "output_type": "execute_result"
    }
   ],
   "source": [
    "df_filtered = df_lem[~df_lem['id_preproc'].str.startswith('T_EN_')]\n",
    "df_filtered = df_filtered[~df_filtered['id_preproc'].str.startswith('ES_')]\n",
    "df_filtered = df_filtered[~df_filtered[\"raw_text\"].str.contains(\"isbn\", case=False, na=False)]\n",
    "\n",
    "df_filtered.shape"
   ]
  },
  {
   "cell_type": "code",
   "execution_count": 10,
   "metadata": {},
   "outputs": [
    {
     "data": {
      "application/vnd.microsoft.datawrangler.viewer.v0+json": {
       "columns": [
        {
         "name": "index",
         "rawType": "int64",
         "type": "integer"
        },
        {
         "name": "id_preproc",
         "rawType": "object",
         "type": "string"
        },
        {
         "name": "raw_text",
         "rawType": "object",
         "type": "string"
        },
        {
         "name": "lemmas",
         "rawType": "object",
         "type": "string"
        }
       ],
       "conversionMethod": "pd.DataFrame",
       "ref": "cb10b87c-2bb8-4711-8043-8799b4372642",
       "rows": [
        [
         "4219",
         "EN_59_17",
         "Battle of Cape St. Vincent (1780) Duro, Cesáreo Fernández (1901). Armada Española Desde la Unión de los Reinos de Castilla y de León, Volume 7 (in Spanish). Madrid: Establecimiento Tipográfico. OCLC 4413652. Reprints Lángara's report.",
         "battle_cape vincent duro_cesáreo fernández armada_española desde unión reinos_castilla león volume spanish madrid_establecimiento tipográfico oclc reprints lángara report"
        ],
        [
         "4221",
         "EN_59_19",
         "Battle of Cape St. Vincent (1780) Lafuente, Modesto (1858). Historia General de España, Volume 20 (in Spanish). Madrid: Establecimiento Tipográfico de Mellado. OCLC 611596.",
         "battle_cape vincent lafuente modesto historia general españa volume spanish madrid_establecimiento tipográfico mellado oclc"
        ],
        [
         "4225",
         "EN_59_23",
         "Battle of Cape St. Vincent (1780) de Ulloa, Antonio; Pérez Mallaína-Bueno; Pablo Emilio (1995). La campaña de las terceras (in Spanish). Salamanca: Universidad de Sevilla. ISBN 978-84-472-0241-6.",
         "battle_cape vincent ulloa_antonio pérez_mallaína bueno pablo_emilio la campaña_terceras spanish salamanca_universidad sevilla isbn"
        ],
        [
         "4227",
         "EN_59_25",
         "Battle of Cape St. Vincent (1780) de Castro, Adolfo (1858). Historia de Cádiz y su Provincia (in Spanish). Cádiz: Imprenta de la Revista Médica. p. 516. OCLC 162549293.",
         "battle_cape vincent castro adolfo_historia cádiz_provincia spanish cádiz_imprenta revista_médica oclc"
        ],
        [
         "17168",
         "EN_269_100",
         "Great Siege of Gibraltar Montero, Francisco Maria (1860). Historia de Gibraltar y de su campo (in Spanish). Imprenta de la Revista Médica.",
         "great_siege gibraltar_montero francisco maria historia gibraltar campo spanish imprenta_revista médica"
        ],
        [
         "17169",
         "EN_269_101",
         "Great Siege of Gibraltar Monti, Ángel María (1852). Historia De Gibraltar: Dedicada A SS. AA. RR., Los Serenisimos Señores Infantes Duques De Montpensier. Juan Moyano. Retrieved 1 June 2020.",
         "great_siege gibraltar monti ángel maría historia de gibraltar dedicada ss aa rr los serenisimos señores infante duques de montpensier juan moyano retrieve june"
        ],
        [
         "17179",
         "EN_269_111",
         "Great Siege of Gibraltar Uxó, José Palasí (2007). \"Referencias en torno al bloqueo naval durante los asedios\". Almoraima (in Spanish) (34).",
         "great_siege gibraltar_uxó josé palasí referencias torno bloqueo_naval asedios_almoraima spanish"
        ],
        [
         "32166",
         "EN_492_61",
         "Cape Horn Expediciones españolas al Estrecho de Magallanes y Tierra de fuego, by Javier Oyarzun. Madrid: Ediciones Cultura Hispánica ISBN 978-84-7232-130-4.",
         "cape_horn expediciones españolas estrecho_magallanes tierra fuego javier oyarzun madrid_ediciones cultura_hispánica isbn"
        ],
        [
         "35777",
         "EN_544_8",
         "Richard Maury Richard F. Maury: \"Manual para el trazado de ferrocarriles\". National University of Tucumán, 1929 - 312 pages",
         "richard_maury richard_maury manual_trazado ferrocarrile national university tucumán page"
        ],
        [
         "40604",
         "EN_607_123",
         "Adolf Galland Medal for the Campaign of 1936−1939 (Medalla de la Campaña 1936–1939 or Medalla de la Campaña, Spain)",
         "adolf_galland medal campaign medalla_campaña medalla_campaña spain"
        ],
        [
         "42466",
         "EN_638_25",
         "Auto-da-fé Miscelanea de Zapata, Mem. histórico español: colección de documentos, opúsculos y antigüedades que publica la Real Academia de la Historia (in Spanish, 1851) vol.XI, p.202",
         "auto_fé miscelanea zapata mem histórico españold colección_documentos opúsculos antigüedade publica real_academia historia spanish vol xi"
        ],
        [
         "42467",
         "EN_638_26",
         "Auto-da-fé (in Spanish) La Inquisición Española: origen, desarrollo, organización, administración, métodos y proceso inquisitorial",
         "auto_fé spanish la inquisición_española origen desarrollo organización administración método proceso inquisitorial"
        ],
        [
         "51233",
         "EN_776_153",
         "Christianization Jorge Quiroga and Monica R. Lovelle, \"Ciudades atlánticas en transición: La \"ciudad\" tardo-antigua y alto-medieval en el noroeste de la Península Ibérica (s.V-XI)\" from Archeologia Medievale vol xxvii (1999), pp 257–268 Christianizing Late Antique Roman sites from the 6th century onwards.",
         "christianization jorge quiroga monica lovelle ciudade atlánticas transición la ciudad tardo antigua alto medieval noroeste_península ibérica v xi archeologia medievale vol xxvii christianize late antique roman site century"
        ],
        [
         "54812",
         "EN_846_16",
         "Eighty Years' War La Guerra de Flandes, desde la muerte del emperador Carlos V hasta la Tregua de los Doce Años (in Spanish)",
         "years_war la guerra flandes muerte emperador_carlos v tregua_doce años spanish"
        ],
        [
         "57324",
         "EN_878_256",
         "Erasmus Erasmo y España: Estudios Sobre la Historia Espiritual del Siglo XVI (1950), Fondo de Cultura Económica (1997) ISBN 968-16-1069-5",
         "erasmus_erasmo españa estudios sobre historia espiritual siglo_xvi fondo cultura económica isbn"
        ],
        [
         "60590",
         "EN_951_7",
         "French Uruguayans Pi Hugarte, Renzo; Vidart, Daniel (1970). El legado de los inmigrantes (PDF) (in Spanish). Montevideo: Nuestra Tierra.",
         "french_uruguayans pi hugarte renzo vidart daniel el legado inmigrantes pdf spanish montevideo nuestra tierra"
        ],
        [
         "64411",
         "T_ES_1049_32",
         "Federalismo Mora Sifuentes, Francisco M (2019) \"Foundations and dimensions of federalism\" Revista del Instituto de la Judicatura Federal (48) ISSN 1405-8073.",
         "federalismo mora sifuentes francisco m foundation dimension federalism revista instituto judicatura_federal issn"
        ],
        [
         "64636",
         "T_ES_1053_12",
         "Barbados Trinidad Island, Tobago, Granada, Granadillos, Bequia, Saint Vincent, Saint Lucia, Martinino, Dominica, Marigalante, Santos, Guadalupe, Deseada, Antigua, Monserrate, Barbada, Barbados and many others.",
         "barbado trinidad island tobago granada granadillos bequia saint vincent saint lucia martinino dominica marigalante santos guadalupe deseada antigua monserrate barbada barbados"
        ],
        [
         "66346",
         "T_ES_1118_66",
         "Carlos III de España Antonio Pascual, Infante de España (December 31, 1755 – April 20, 1817) Married to Maria Amalia de Borbón, Infanta de España; without offspring.",
         "carlos_iii españa antonio pascual infante_españa december april marry maria amalia borbón infanta_españa offspring"
        ],
        [
         "67659",
         "T_ES_1169_13",
         "Florida Oriental Santalo Rodríguez de Viguri, José Luis: Don José Solano y Bote, First Marquis del Socorro, Captain General of the Navy Instituto Histórico de Marina, Madrid, 1973 ISBN 84-00-03891-6",
         "florida_oriental santalo rodríguez viguri josé_luis don josé solano bote marquis socorro captain general navy instituto histórico marina madrid isbn"
        ],
        [
         "68982",
         "T_ES_1232_121",
         "Francmasonería Cortijo, E (coord.) Masonry and Extremadura Edita Caja de Ahorros de Extremadura, 2008 ISBN 978-84-691-4233-2",
         "francmasonería cortijo e coord masonry extremadura_edita caja_ahorros extremadura_isbn"
        ],
        [
         "68986",
         "T_ES_1232_125",
         "Francmasonería Reveron, MSC Eloy Herederos de las Guildas: (Masonería Rituales y Cofradías) Spanish edition IVEM-Amazon Paperback 17 December, 2014 ISBN 1505620317 ISBN 978-1505620313",
         "francmasonería reveron msc eloy herederos guildas masonería rituales cofradías spanish edition ivem amazon paperback december isbn isbn"
        ],
        [
         "70454",
         "T_ES_1269_32",
         "Sitio de Gibraltar (1779-1783) Panero, Daniel (2008) The Gibraltar campaign 1779-1783 Madrid: Almena Ediciones pp 97 pp ISBN 9788496170865",
         "sitio_gibraltar panero daniel gibraltar campaign madrid almena ediciones_isbn"
        ],
        [
         "70471",
         "T_ES_1269_48",
         "Sitio de Gibraltar (1779-1783) De Borja Cienfuegos Jovellanos, Francisco (2004) Memories of gunner José María Cienfuegos Jovellanos (1763-1825) Gijón: Fundación Foro Jovellanos p 293 ISBN 8493319112.",
         "sitio_gibraltar de borja cienfuegos_jovellanos francisco memories gunner josé_maría cienfuegos_jovellanos gijón fundación foro jovellanos isbn"
        ],
        [
         "70819",
         "T_ES_1279_32",
         "Cáñamo Beniko, Bialobrzeskie, Carmagnola, Cs, Delta-Llosa, Delta 405, Dioïca 88, Epsilon 68, Fasamo, Fédora 17, Fedora 19, Fedrina 74, Felina 32, Felina 34, Ferimón, Fibranova, Fibrimon 24, Fibrimon 56, Futura, Futura 75, Juso 14, Kompolti, Lovrin 110, Santhica 23, Uso 31.",
         "cáñamo beniko bialobrzeskie carmagnola cs delta llosa delta dioïca epsilon fasamo fédora fedora fedrina felina felina ferimón fibranova fibrimon fibrimon futura futura juso kompolti lovrin santhica uso"
        ],
        [
         "73049",
         "T_ES_1347_101",
         "John Locke LOCKE, J., Two Essays on the Civil Government, ed Joaquín Abellán, translation Francisco Giménez Gracia, Madrid, Espasa-Calpe, 1991 ISBN 84-239-7240-2.",
         "john_locke locke essay civil government ed joaquín abellán translation francisco giménez gracia madrid_espasa calpe_isbn"
        ],
        [
         "73053",
         "T_ES_1347_105",
         "John Locke FILMER R and LOCKE, J., The Filmer-Locke Controversy on Political Obedience, ed Preliminary study by Rafael Gambra, translation Carmela Guitierrez de Gambra, ed Political Classics, Madrid, Instituto de Estudios Políticos, 1966.",
         "john_locke filmer_locke filmer_locke controversy political obedience ed preliminary study rafael gambra translation carmela guitierrez gambra ed political classics madrid instituto_estudios políticos"
        ],
        [
         "73138",
         "T_ES_1347_86",
         "John Locke LOCKE, J., La ley de la naturaleza, translation Carlos Mellizo, Clásicos del Pensamiento, Madrid, Tecnos, D L., 2007 ISBN 978-84-309-4538-2.",
         "john_locke locke la ley translation carlos_mellizo clásicos_pensamiento madrid_tecnos d isbn"
        ],
        [
         "73149",
         "T_ES_1347_96",
         "John Locke LOCKE, J., Essays on Natural Law Critical edition by Isabel Ruiz-Gallard Madrid : Universidad Complutense, Facultad de Derecho, Servicio de Publicaciones: Centro de Estudios Superiores y Jurídicos Ramón Carande, D.L 1998 ISBN 84-89764-96-4.",
         "john_locke locke essay natural law critical edition isabel ruiz gallard madrid universidad_complutense facultad_derecho servicio publicaciones centro_estudios superiore jurídicos ramón carande isbn"
        ],
        [
         "73150",
         "T_ES_1347_97",
         "John Locke LOCKE, J., Lessons on Natural Law: Censor's Funeral Speech Introduction by Manuel Salguero; Latin translation and notes by Manuel Salguero and Andrés Espinosa Grenada: Comares, 1998 ISBN 84-8151-753-4.",
         "john_locke locke lessons natural law censor funeral speech introduction manuel_salguero latin translation note manuel_salguero andrés espinosa grenada comares isbn"
        ],
        [
         "74271",
         "T_ES_1395_78",
         "Mark Twain Mark Twain, Alma Fernández Simón tr, Rubén Pujante Corbalán epi (2011) Love letters Funambulist ISBN 978-84-93904-57-9",
         "mark_twain mark_twain alma fernández simón tr rubén pujante corbalán epi love letter funambulist isbn"
        ],
        [
         "74350",
         "T_ES_1400_13",
         "Logia (masonería) Esteban Cortijo (Coordinator) Masonry and Extremadura Edita Caja de Ahorros de Extremadura], 2008 ISBN 978-84-691-4233-2",
         "logia_masonería esteban cortijo coordinator masonry extremadura_edita caja_ahorros extremadura_isbn"
        ],
        [
         "77444",
         "T_ES_1512_29",
         "Hugonotes Vila, Samuel y Santamaría, Darío; Encyclopedia Illustrada de Historia de la Iglesia, Libros CLIE, Barcelona, Spain, 1989 ISBN 84-7228-447-6",
         "hugonotes vila samuel santamaría darío encyclopedia illustrada historia iglesia libros clie barcelona spain isbn"
        ],
        [
         "77510",
         "T_ES_1516_13",
         "Istmo de Panamá Mellander, Gustavo A.; Nelly Maldonado Mellander (1999) Charles Edward Magoon: The Panama Years Río Piedras, Puerto Rico: Editorial Plaza Mayor ISBN 1-56328-155-4 OCLC 42970390.",
         "istmo_panamá mellander_gustavo nelly maldonado_mellander charles edward_magoon panama_years río piedras_puerto rico_editorial plaza_mayor isbn_oclc"
        ],
        [
         "77824",
         "T_ES_1529_109",
         "México The Mexican political system includes autonomous bodies that act as counterweights in specific areas (Fiscalía General de la República, CNDH, Instituto Nacional Electoral, Audio Superior de la Federación, Banco de México and INEGI).",
         "méxico mexican political system include autonomous body act counterweight specific area fiscalía_general república cndh instituto_nacional electoral audio superior federación banco méxico inegi"
        ],
        [
         "78041",
         "T_ES_1529_304",
         "México Although there are also other private institutions such as the Instituto Tecnológico y de Estudios Superiores de Monterrey, Universidad de las Américas de Puebla, Universidad Anahuac, Universidad La Salle, Universidad Panamericana, Universidad Iberoamericana, Universidad Regional del Sureste, Instituto Tecnológico Autónoma de México, Universidad Tecnológica de México, Universidad del Valle de México, among others.",
         "méxico private institution instituto_tecnológico estudios superiores monterrey universidad américas puebla universidad anahuac universidad la_salle universidad_panamericana universidad_iberoamericana universidad regional sureste instituto_tecnológico autónoma_méxico universidad_tecnológica méxico universidad valle méxico"
        ],
        [
         "78072",
         "T_ES_1529_332",
         "México In the Baroque period, authors such as playwright Juan Ruiz de Alarcón (who emigrated to Spain), Diego de Ribera, Alonso Ramírez de Vargas, Ioseph de Valdés, Sr Juana Inés de la Cruz and Carlos de Sigüenza and Góngora stand out.",
         "méxico baroque period author playwright juan_ruiz alarcón emigrate spain diego ribera alonso ramírez vargas ioseph valdés sr juana_inés cruz carlos sigüenza góngora stand"
        ],
        [
         "78074",
         "T_ES_1529_334",
         "México In the 19th century, romantic writers such as: José María Lacunza, Guillermo Prieto, Manuel Carpio, Andrés Quintana Roo, José Joaquín Pesado, Ignacio Rodríguez Galván, Ignacio Ramírez; and neoclassical or academic writers such as: Ignacio Manuel Altamirano, Manuel Acuña, Manuel M Flores, Vicente Riva Palacio, Joaquín Arcadio Pagaza, Justo Sierra, Manuel José Othón and playwright Fernando Calderón and Beltrán.",
         "méxico century romantic writer josé_maría lacunza guillermo_prieto manuel carpio andrés_quintana roo josé_joaquín pesado ignacio rodríguez galván ignacio ramírez neoclassical academic writer ignacio_manuel altamirano manuel_acuña manuel m flores vicente_riva palacio joaquín arcadio pagaza justo sierra manuel josé othón playwright fernando calderón beltrán"
        ],
        [
         "78137",
         "T_ES_1529_391",
         "México Six Mexicans have played in the NBA: Horacio Llamas, Eduardo Nájera, Gustavo Ayón, Jorge Gutiérrez, Juan Toscano-Anderson and Jaime Jáquez Jr..[493]",
         "méxico mexicans play nba horacio llamas eduardo nájera gustavo ayón jorge gutiérrez juan toscano anderson jaime jáquez jr"
        ],
        [
         "78653",
         "T_ES_1539_54",
         "Geografía física Francisco Calvo García-Tornel: Some questions about risk geography Barcelona: University of Barcelona, Revista Scripta Nova número 10, 15 de noviembre de 1997.",
         "geografía_física francisco_calvo garcía_tornel question risk geography barcelona university barcelona revista scripta nova número"
        ],
        [
         "79686",
         "T_ES_1564_151",
         "Theodore Roosevelt Mellander, Gustavo A.; Maldonado Mellander, Nelly (1999) Charles Edward Magoon: The Panama Years Río Piedras, Puerto Rico: Editorial Plaza Mayor ISBN 1563281554 OCLC 42970390",
         "theodore_roosevelt mellander_gustavo maldonado_mellander nelly charles edward_magoon panama_years río piedras_puerto rico_editorial plaza_mayor isbn_oclc"
        ],
        [
         "80665",
         "T_ES_1584_149",
         "Washington Irving Seville, Alcalá de Guadaíra, Arahal, Carmona, Écija, Marchena, Osuna, Estepa, La Roda de Andalucía, Fuente de Piedra, Humilladero, Mollina, Antequera, Archidona, Loja, Alhama de Granada, Huétor Tájar, Moraleda de Zafayona, Montefrío, Illora, Chauchina, Fuente Vaqueros, Santa Fe and Granada.",
         "washington_irving seville alcalá_guadaíra arahal carmona écija marchena osuna estepa la roda andalucía fuente piedra humilladero mollina antequera archidona_loja alhama granada huétor tájar moraleda zafayona montefrío illora chauchina fuente vaqueros santa_fe granada"
        ],
        [
         "80668",
         "T_ES_1584_151",
         "Washington Irving La Rábida, Palos de la Frontera, Moguer, Niebla, Villarrasa, La Palma del Condado, Villalba del Alcor, Sanlúcar la Mayor and Sevilla.",
         "washington_irving la_rábida palos_frontera moguer niebla villarrasa la palma_condado villalba_alcor sanlúcar_mayor sevilla"
        ],
        [
         "80671",
         "T_ES_1584_154",
         "Washington Irving Hilton, Silvia L (1986) Washington Irving Madrid: Consejo Superior de Investigaciones Científicas ISBN 84-00-06415-1",
         "washington_irving hilton silvia l washington_irving madrid consejo superior investigaciones_científicas isbn"
        ],
        [
         "80674",
         "T_ES_1584_157",
         "Washington Irving Garrido Domínguez, Antonio (2007) American travelers in 19th century Andalusia Ronda: La Serrania ISBN 978-84-96607-29-3",
         "washington_irving garrido_domínguez antonio american traveler century andalusia ronda la serrania isbn"
        ],
        [
         "80680",
         "T_ES_1584_162",
         "Washington Irving Méndez Rodríguez, Luis (June 2008) The image of Andalusia in 19th century art Seville: Centro de Estudios Andaluces Junta de Andalucía ISBN 978-84-612-4817-9",
         "washington_irving méndez rodríguez luis june image andalusia century art seville centro_estudios andaluces junta_andalucía isbn"
        ],
        [
         "82257",
         "T_ES_1634_85",
         "Agustín de Hipona Ferrer Santos, Urbano — Román Ortiz, Ángel Damián, San Agustín de Hippona, in Fernández Labastida, Francisco – Mercado, Juan Andrés (editors), Philosophica: Encyclopedia philosophic online.",
         "agustín_hipona ferrer santos urbano román ortiz ángel damián san_agustín hippona fernández labastida francisco mercado juan_andrés editor philosophica encyclopedia philosophic"
        ],
        [
         "82938",
         "T_ES_1654_90",
         "Bernardo de Claraval Pérez Sánchez, Alfonso (1996) The Prado Museum Fundación Amigos del Prado y Fonds Mercator ISBN 90-6153-363-5",
         "bernardo_claraval pérez sánchez alfonso prado museum fundación amigos prado fonds mercator isbn"
        ],
        [
         "83879",
         "T_ES_1689_12",
         "Derecho canónico Interview with Juan Manuel Cabezas Cañavate in La 2 de Televisión Española: Why study Canon Law?",
         "derecho_canónico interview juan_manuel cabezas cañavate la televisión española study canon_law"
        ],
        [
         "84157",
         "T_ES_1699_176",
         "Catarismo Maciel Regalado, Cynthia (2022) ‘Historiographical pugnas for medieval heresy: dualist heretics (XII-XIII centuries)’ Medievalia (Instituto de Investigaciones Filológicas de la Universidad Autónoma de México) 54 (1) ISSN 0188-6657 doi:10.19130/medievalia.2022.1.370X71 Retrieved 19 September 2023",
         "catarismo maciel regalado cynthia historiographical pugna medieval heresy dualist heretic xii_xiii century medievalia instituto_investigaciones filológicas universidad_autónoma méxico issn retrieve september"
        ]
       ],
       "shape": {
        "columns": 3,
        "rows": 89774
       }
      },
      "text/html": [
       "<div>\n",
       "<style scoped>\n",
       "    .dataframe tbody tr th:only-of-type {\n",
       "        vertical-align: middle;\n",
       "    }\n",
       "\n",
       "    .dataframe tbody tr th {\n",
       "        vertical-align: top;\n",
       "    }\n",
       "\n",
       "    .dataframe thead th {\n",
       "        text-align: right;\n",
       "    }\n",
       "</style>\n",
       "<table border=\"1\" class=\"dataframe\">\n",
       "  <thead>\n",
       "    <tr style=\"text-align: right;\">\n",
       "      <th></th>\n",
       "      <th>id_preproc</th>\n",
       "      <th>raw_text</th>\n",
       "      <th>lemmas</th>\n",
       "    </tr>\n",
       "  </thead>\n",
       "  <tbody>\n",
       "    <tr>\n",
       "      <th>4219</th>\n",
       "      <td>EN_59_17</td>\n",
       "      <td>Battle of Cape St. Vincent (1780) Duro, Cesáre...</td>\n",
       "      <td>battle_cape vincent duro_cesáreo fernández arm...</td>\n",
       "    </tr>\n",
       "    <tr>\n",
       "      <th>4221</th>\n",
       "      <td>EN_59_19</td>\n",
       "      <td>Battle of Cape St. Vincent (1780) Lafuente, Mo...</td>\n",
       "      <td>battle_cape vincent lafuente modesto historia ...</td>\n",
       "    </tr>\n",
       "    <tr>\n",
       "      <th>4225</th>\n",
       "      <td>EN_59_23</td>\n",
       "      <td>Battle of Cape St. Vincent (1780) de Ulloa, An...</td>\n",
       "      <td>battle_cape vincent ulloa_antonio pérez_mallaí...</td>\n",
       "    </tr>\n",
       "    <tr>\n",
       "      <th>4227</th>\n",
       "      <td>EN_59_25</td>\n",
       "      <td>Battle of Cape St. Vincent (1780) de Castro, A...</td>\n",
       "      <td>battle_cape vincent castro adolfo_historia cád...</td>\n",
       "    </tr>\n",
       "    <tr>\n",
       "      <th>17168</th>\n",
       "      <td>EN_269_100</td>\n",
       "      <td>Great Siege of Gibraltar Montero, Francisco Ma...</td>\n",
       "      <td>great_siege gibraltar_montero francisco maria ...</td>\n",
       "    </tr>\n",
       "    <tr>\n",
       "      <th>...</th>\n",
       "      <td>...</td>\n",
       "      <td>...</td>\n",
       "      <td>...</td>\n",
       "    </tr>\n",
       "    <tr>\n",
       "      <th>187948</th>\n",
       "      <td>T_EN_9_95</td>\n",
       "      <td>Alexander Graham Bell Alexander Graham Bell oc...</td>\n",
       "      <td>alexander_graham bell alexander_graham bell oc...</td>\n",
       "    </tr>\n",
       "    <tr>\n",
       "      <th>187949</th>\n",
       "      <td>T_EN_9_96</td>\n",
       "      <td>Alexander Graham Bell Alexander Graham Bell, q...</td>\n",
       "      <td>alexander_graham bell alexander_graham bell co...</td>\n",
       "    </tr>\n",
       "    <tr>\n",
       "      <th>187950</th>\n",
       "      <td>T_EN_9_97</td>\n",
       "      <td>Alexander Graham Bell John Tench retrata a Bel...</td>\n",
       "      <td>alexander_graham bell john tench retrata bell ...</td>\n",
       "    </tr>\n",
       "    <tr>\n",
       "      <th>187951</th>\n",
       "      <td>T_EN_9_98</td>\n",
       "      <td>Alexander Graham Bell Una señal suya, de Sarah...</td>\n",
       "      <td>alexander_graham bell una señal sarah marsh no...</td>\n",
       "    </tr>\n",
       "    <tr>\n",
       "      <th>187952</th>\n",
       "      <td>T_EN_9_99</td>\n",
       "      <td>Alexander Graham Bell Walters, Eric El misteri...</td>\n",
       "      <td>alexander_graham bell walters eric el misterio...</td>\n",
       "    </tr>\n",
       "  </tbody>\n",
       "</table>\n",
       "<p>89774 rows × 3 columns</p>\n",
       "</div>"
      ],
      "text/plain": [
       "        id_preproc                                           raw_text  \\\n",
       "4219      EN_59_17  Battle of Cape St. Vincent (1780) Duro, Cesáre...   \n",
       "4221      EN_59_19  Battle of Cape St. Vincent (1780) Lafuente, Mo...   \n",
       "4225      EN_59_23  Battle of Cape St. Vincent (1780) de Ulloa, An...   \n",
       "4227      EN_59_25  Battle of Cape St. Vincent (1780) de Castro, A...   \n",
       "17168   EN_269_100  Great Siege of Gibraltar Montero, Francisco Ma...   \n",
       "...            ...                                                ...   \n",
       "187948   T_EN_9_95  Alexander Graham Bell Alexander Graham Bell oc...   \n",
       "187949   T_EN_9_96  Alexander Graham Bell Alexander Graham Bell, q...   \n",
       "187950   T_EN_9_97  Alexander Graham Bell John Tench retrata a Bel...   \n",
       "187951   T_EN_9_98  Alexander Graham Bell Una señal suya, de Sarah...   \n",
       "187952   T_EN_9_99  Alexander Graham Bell Walters, Eric El misteri...   \n",
       "\n",
       "                                                   lemmas  \n",
       "4219    battle_cape vincent duro_cesáreo fernández arm...  \n",
       "4221    battle_cape vincent lafuente modesto historia ...  \n",
       "4225    battle_cape vincent ulloa_antonio pérez_mallaí...  \n",
       "4227    battle_cape vincent castro adolfo_historia cád...  \n",
       "17168   great_siege gibraltar_montero francisco maria ...  \n",
       "...                                                   ...  \n",
       "187948  alexander_graham bell alexander_graham bell oc...  \n",
       "187949  alexander_graham bell alexander_graham bell co...  \n",
       "187950  alexander_graham bell john tench retrata bell ...  \n",
       "187951  alexander_graham bell una señal sarah marsh no...  \n",
       "187952  alexander_graham bell walters eric el misterio...  \n",
       "\n",
       "[89774 rows x 3 columns]"
      ]
     },
     "execution_count": 10,
     "metadata": {},
     "output_type": "execute_result"
    }
   ],
   "source": [
    "df_lem_es = pd.read_parquet('/export/usuarios_ml4ds/ammesa/Data/2_lemmatized_data/es')\n",
    "df_lem_es"
   ]
  },
  {
   "cell_type": "code",
   "execution_count": 28,
   "metadata": {},
   "outputs": [
    {
     "name": "stdout",
     "output_type": "stream",
     "text": [
      "(87727, 3)\n"
     ]
    }
   ],
   "source": [
    "df_filtered2 = df_lem_es[~df_lem_es['id_preproc'].str.startswith('T_ES_')]\n",
    "df_filtered2 = df_filtered2[~df_filtered2['id_preproc'].str.startswith('EN_')]\n",
    "df_filtered2 = df_filtered2[~df_filtered2[\"raw_text\"].str.contains(\"isbn\", case=False, na=False)]\n",
    "\n",
    "\n",
    "print(df_filtered2.shape)\n"
   ]
  },
  {
   "cell_type": "code",
   "execution_count": 26,
   "metadata": {},
   "outputs": [],
   "source": [
    "df = df_filtered2.copy().reset_index()\n",
    "\n",
    "# Find the first occurrence where id_preproc starts with \"T\"\n",
    "idx = df[df[\"id_preproc\"].str.startswith(\"T\")].index.min()\n",
    "\n",
    "if idx is not None:\n",
    "    # Select the portion of the DataFrame from that index onward\n",
    "    df_pre = df.iloc[idx:].copy()\n",
    "    df_pos = df.iloc[:idx].copy()\n",
    "    # Prepend it to the original DataFrame\n",
    "    df = pd.concat([df_pre, df_pos], ignore_index=True)"
   ]
  },
  {
   "cell_type": "code",
   "execution_count": 27,
   "metadata": {},
   "outputs": [
    {
     "data": {
      "application/vnd.microsoft.datawrangler.viewer.v0+json": {
       "columns": [
        {
         "name": "index",
         "rawType": "int64",
         "type": "integer"
        },
        {
         "name": "index",
         "rawType": "int64",
         "type": "integer"
        },
        {
         "name": "id_preproc",
         "rawType": "object",
         "type": "string"
        },
        {
         "name": "raw_text",
         "rawType": "object",
         "type": "string"
        },
        {
         "name": "lemmas",
         "rawType": "object",
         "type": "string"
        }
       ],
       "conversionMethod": "pd.DataFrame",
       "ref": "27f94137-2fc7-4534-8f5d-3d2f86f9b7b6",
       "rows": [
        [
         "0",
         "124941",
         "T_EN_0_0",
         "George Washington George Washington (22 de febrero de 1732) [O.S 11 de febrero de 1731 – 14 de diciembre de 1799) fue un padre fundador y primer presidente de los Estados Unidos, sirviendo desde 1789 hasta 1797. Como comandante del Ejército Continental, Washington llevó a las fuerzas Patriotas a la victoria en la Guerra Revolucionaria Americana contra el Imperio Británico Es comúnmente conocido como el Padre de Su País por su papel en la realización de la independencia americana.",
         "george_washington george_washington febrero diciembre padre_fundador presidente estados_unidos sirviendo como comandante ejército_continental washington llevó fuerzas_patriotas guerra_revolucionaria americana imperio_británico es comúnmente_conocido padre su país papel realización independencia_americana"
        ],
        [
         "1",
         "124942",
         "T_EN_0_1",
         "George Washington Nacido en la Colonia de Virginia, Washington se convirtió en el comandante del Regimiento de Virginia durante la Guerra de Francia y la India (1754-1763) Más tarde fue elegido para la Casa de Burgesses de Virginia, y se opuso a la opresión percibida de los colonos estadounidenses por la Corona Británica Cuando la Guerra Revolucionaria Americana contra los Británicos comenzó en 1775, Washington fue nombrado comandante en jefe del Ejército Continental Dirigió una fuerza mal organizada y equipada contra las tropas británicas disciplinadas Washington y su ejército lograron una victoria temprana en el asedio de Boston en marzo de 1776, pero se vieron obligados a retirarse de la ciudad de Nueva York en noviembre Washington cruzó el río Delaware y ganó las batallas de Trenton a finales de 1776 y Princeton a principios de 1777, luego perdió las batallas de Brandywine y Germantown a finales de ese año Enfrentó críticas a su mando, baja moral de tropas y falta de provisiones para sus fuerzas mientras continuaba la guerra. En última instancia, Washington llevó a una fuerza combinada francesa y estadounidense a una victoria decisiva sobre los británicos en Yorktown en 1781 En el Tratado de París de 1783, los británicos reconocieron la independencia soberana de los Estados Unidos Washington fue entonces presidente de la Convención Constitucional en 1787, que redactó la actual Constitución de los Estados Unidos.",
         "george_washington nacido colonia_virginia washington convirtió comandante_regimiento virginia guerra francia india más elegido casa_burgesses virginia opuso opresión_percibida colonos estadounidense corona_británica cuando guerra_revolucionaria americana británicos comenzó washington nombrado_comandante jefe_ejército continental dirigió fuerza organizada_equipada tropas_británicas disciplinadas washington ejército lograron victoria temprana asedio_boston vieron_obligado retirarse ciudad_nueva york noviembre washington_cruzó río_delaware ganó batallas_trenton finale princeton perdió batallas_brandywine germantown finale año enfrentó crítica mando baja_moral tropa falta_provisione fuerzas continuaba guerra en_instancia washington llevó fuerza_combinada francesa estadounidense victoria_decisiva británicos yorktown en tratado_parís británicos reconocieron_independencia soberana estados_unidos washington entonce presidente convención_constitucional redactó actual constitución_estados unidos"
        ],
        [
         "2",
         "124943",
         "T_EN_0_10",
         "George Washington El partido de Washington llegó al río Ohio en noviembre de 1753 y fue interceptado por una patrulla francesa El partido fue acompañado a Fort Le Boeuf, donde Washington fue recibido de manera amistosa. Él entregó la demanda británica para desalojar al comandante francés Jacques Legardeur de Saint-Pierre, pero los franceses se negaron a salir Saint-Pierre dio a Washington su respuesta oficial después de unos días de retraso, así como comida y ropa de invierno para el viaje de regreso de su partido a Virginia Washington completó la precaria misión en difíciles condiciones invernales, logrando cierto grado de distinción cuando su informe fue publicado en Virginia y Londres.",
         "george_washington el partido washington río_ohio interceptado patrulla_francesa el partido acompañado fort_le boeuf washington amistosa entregó demanda británica desalojar comandante francés jacques_legardeur saint_pierre franceses_negaron salir saint_pierre washington respuesta oficial retraso comida_ropa invierno viaje_regreso partido virginia washington completó precaria misión difícile_condicione invernale logrando grado distinción informe_publicado virginia londres"
        ],
        [
         "3",
         "124944",
         "T_EN_0_11",
         "George Washington En febrero de 1754, Dinwiddie ascendió a Washington a teniente coronel y segundo al mando del Regimiento de Virginia, con órdenes de enfrentarse a los franceses en los Forks de Ohio. Washington partió con la mitad del regimiento en abril y pronto fue consciente de que una fuerza francesa de 1.000 había comenzado la construcción de Fort Duquesne allí En mayo, después de haber establecido una posición defensiva en Great Meadows, Washington se enteró de que los franceses habían hecho campamento siete millas (11 km) de distancia; decidió tomar la ofensiva El destacamento francés resultó ser sólo unos 50 hombres, así que el 28 de mayo Washington ordenó una emboscada Su pequeña fuerza de virginios y aliados indios mató a los franceses, incluyendo a su comandante Joseph Coulon de Jumonville, quien había estado llevando un mensaje diplomático para los británicos. Los franceses más tarde encontraron a sus compatriotas muertos y con el cuero cabelludo, culpando a Washington, que se había retirado a Fort Necessity.",
         "george_washington en febrero dinwiddie ascendió washington teniente_coronel mando_regimiento virginia órdene enfrentarse francese forks_ohio washington partió mitad regimiento abril consciente fuerza francesa comenzado construcción fort_duquesne en mayo despué establecido posición_defensiva great_meadows washington enteró franceses millas_km distancia decidió_tomar ofensiva el destacamento francés resultó hombre mayo washington ordenó emboscada su pequeña_fuerza virginio aliado_indios francese incluyendo comandante joseph_coulon jumonville llevando mensaje diplomático británicos los francese encontraron compatriota_muerto cuero_cabelludo culpando washington retirado fort_necessity"
        ],
        [
         "4",
         "124945",
         "T_EN_0_12",
         "George Washington El resto del Regimiento de Virginia se unió a Washington al mes siguiente con la noticia de que había sido ascendido al rango de coronel y dado el mando del regimiento completo Fueron reforzados por una compañía independiente de cien carolinas del sur dirigida por el capitán James Mackay; su comisión real superó el rango de Washington y un conflicto de mando siguió El 3 de julio, 900 soldados franceses atacaron Fort Necessity, y la batalla terminó en la rendición de Washington Washington no hablaba francés, pero firmó un documento de rendición en el que, inconscientemente, asumió la responsabilidad de \"asesinar\" a Jumonville, después culpando al traductor por no traducirlo correctamente. El Regimiento de Virginia fue dividido y Washington fue ofrecido una capitanía en uno de los regimientos recién formados Se negó, ya que habría sido un descenso —los británicos habían ordenado que los \"coloniales\" no pudieran ser clasificados como más altos que el capitán— y en su lugar renunció a su comisión El asunto Jumonville se convirtió en el incidente que encendió la guerra francesa e india.",
         "george_washington el resto regimiento virginia unió washington mes noticia ascendido_rango coronel mando_regimiento completo fueron reforzado compañía independiente cien carolinas sur dirigida_capitán james_mackay comisión real superó rango washington conflicto mando siguió el julio soldado francese atacaron_fort necessity batalla terminó_rendición washington washington hablaba_francés firmó_documento rendición inconscientemente responsabilidad asesinar jumonville culpando traductor traducirlo correctamente el regimiento virginia dividido washington ofrecido capitanía regimientos recién_formado se negó descenso británicos ordenado coloniale pudieran clasificado altos capitán renunció_comisión el jumonville convirtió incidente guerra francesa_india"
        ],
        [
         "5",
         "124946",
         "T_EN_0_13",
         "George Washington En 1755, Washington se ofreció como asistente del general Edward Braddock, quien encabezó una expedición británica para expulsar a los franceses de Fort Duquesne y Ohio Country. Por recomendación de Washington, Braddock dividió el ejército en una columna principal y una \"columna voladora\" más pequeña. Washington sufría de disentería severa por lo que inicialmente no viajaba con las fuerzas de la expedición Cuando se reunió con Braddock en Monongahela, todavía muy enfermo, los franceses y sus aliados indios emboscaron al ejército dividido Dos tercios de la fuerza británica se convirtieron en víctimas en la batalla de Monongahela, y Braddock fue asesinado Bajo el mando del Teniente Coronel Thomas Gage, Washington reunió a los sobrevivientes y formó una retaguardia, permitiendo que los restos de la fuerza se retiraran. Durante el compromiso, Washington tenía dos caballos disparados desde debajo de él, y su sombrero y abrigo fueron perforados por balas Su conducta redimió su reputación entre los críticos de su mando en la Batalla de Fort Necessity, pero no fue incluido por el siguiente comandante (Coronel Thomas Dunbar) en la planificación de operaciones posteriores.",
         "george_washington en washington ofreció asistente edward_braddock encabezó_expedición británica expulsar_franceses fort_duquesne ohio_country por_recomendación washington braddock_dividió ejército columna principal columna_voladora pequeña washington sufría disentería_severa inicialmente viajaba fuerzas expedición cuando reunió braddock monongahela enfermo franceses_aliado indios emboscaron ejército dividido tercio fuerza_británica convirtieron_víctimas batalla_monongahela braddock asesinado bajo_mando teniente_coronel thomas_gage washington reunió sobreviviente formó_retaguardia permitiendo restos fuerza_retiraran durante compromiso washington do caballo disparados sombrero abrigo perforado su conducta redimió reputación críticos mando batalla_fort necessity incluido comandante coronel thomas_dunbar planificación operaciones posteriore"
        ],
        [
         "6",
         "124947",
         "T_EN_0_14",
         "George Washington El Regimiento de Virginia fue reconstituido en agosto de 1755, y Dinwiddie nombró a Washington su comandante, de nuevo con el rango de coronel Washington se enfrentó por antigüedad casi de inmediato, esta vez con el capitán John Dagworthy, quien comandaba un destacamento de Marylanders en el cuartel general del regimiento en Fort Cumberland Washington, impaciente por una ofensiva contra Fort Duquesne, estaba convencido de que Braddock le habría concedido una comisión real y presionó su caso en febrero de 1756 con el sucesor de Braddock como Comandante en Jefe, William Shirley, y de nuevo en enero de 1757 con el sucesor de Shirley, Lord Loudoun Loudoun humilló a Washington, le negó una comisión real, y sólo acordó relevarlo de la responsabilidad de ocupar Fort Cumberland.",
         "george_washington el regimiento virginia reconstituido agosto dinwiddie_nombró washington comandante rango_coronel washington enfrentó antigüedad inmediato capitán john dagworthy comandaba destacamento marylanders cuartel_regimiento fort_cumberland washington impaciente ofensiva fort_duquesne convencido braddock concedido comisión real presionó caso febrero sucesor braddock comandante_jefe william_shirley enero sucesor shirley lord_loudoun loudoun humilló washington negó comisión real acordó relevarlo responsabilidad ocupar fort_cumberland"
        ],
        [
         "7",
         "124948",
         "T_EN_0_15",
         "George Washington En 1758, el Regimiento de Virginia fue asignado a la Expedición Británica de Forbes para capturar Fort Duquesne El general John Forbes siguió el consejo de Washington sobre algunos aspectos de la expedición, pero rechazó su opinión sobre la mejor ruta hacia el fuerte Forbes, sin embargo, hizo de Washington un brigadier general breve y le dio el mando de una de las tres brigadas que fue asignado para atacar el fuerte Los franceses habían abandonado el fuerte y el valle antes del asalto, sin embargo, y Washington sólo vio un incidente de fuego amistoso que dejó 14 muertos y 26 heridos Frustrado, renunció a su comisión poco después y regresó al Monte Vernon.",
         "george_washington en regimiento virginia asignado expedición_británica forbes capturar_fort duquesne el john_forbes siguió consejo washington aspectos expedición rechazó opinión ruta fuerte forbes washington brigadier_mando tre brigadas asignado atacar fuerte los francese abandonado fuerte valle asalto washington vio incidente_fuego amistoso muerto_heridos frustrado renunció_comisión despué regresó monte_vernon"
        ],
        [
         "8",
         "124949",
         "T_EN_0_16",
         "George Washington Bajo Washington, el Regimiento de Virginia había defendido 300 millas (480 km) de frontera contra veinte ataques indios en diez meses. Incrementó la profesionalidad del regimiento ya que creció de 300 a 1.000 hombres Aunque no se dio cuenta de una comisión real, que lo hizo hostil hacia los británicos, ganó confianza en sí mismo, habilidades de liderazgo y conocimiento de las tácticas militares británicas La competencia destructiva que Washington presenció entre los políticos coloniales fomentó su posterior apoyo a un gobierno central fuerte.",
         "george_washington bajo washington regimiento virginia defendido milla_km frontera veinte ataque indios diez_mese incrementó profesionalidad regimiento creció hombre aunque comisión real hostil británicos ganó_confianza habilidade liderazgo conocimiento tácticas_militare británicas la competencia destructiva washington presenció políticos coloniale fomentó posterior apoyo gobierno_central fuerte"
        ],
        [
         "9",
         "124950",
         "T_EN_0_17",
         "George Washington El 6 de enero de 1759, Washington, a los 26 años, se casó con Martha Dandridge Custis, la viuda de 27 años del rico dueño de la plantación Daniel Parke Custis Martha era inteligente, amable y experimentada en la gestión de la propiedad de un plantador, y la pareja tuvo un matrimonio feliz Vivían en Mount Vernon, donde Washington cultivaba tabaco y trigo El matrimonio le dio a Washington control sobre el interés de una tercera parte de la dote de Martha en el patrimonio Custis de 7300 hectáreas, y él dirigió los dos tercios restantes para los hijos de Martha. Como resultado, se convirtió en uno de los hombres más ricos de Virginia, lo que aumentó su posición social.",
         "george_washington el enero washington años casó martha_dandridge custis viuda años rico_dueño daniel_parke custis_martha inteligente amable experimentada gestión propiedad plantador pareja matrimonio_feliz vivían mount_vernon washington cultivaba_tabaco trigo el matrimonio washington control interés dote martha patrimonio custis hectárea dirigió do_tercio restante hijos_martha como_resultado convirtió hombres_ricos virginia aumentó posición social"
        ],
        [
         "10",
         "124951",
         "T_EN_0_18",
         "George Washington A instancias de Washington, el Gobernador Lord Botetourt cumplió la promesa de Dinwiddie de 1754 de conceder beneficios de tierras a aquellos que sirvieron con milicias voluntarias durante la Guerra de Francia e India. A finales de 1770, Washington inspeccionó las tierras en las regiones de Ohio y Gran Kanawha, y contrató al agrimensor William Crawford para subdividirla. Crawford asignó 9.400 hectáreas a Washington, quien les dijo a los veteranos que sus tierras no eran adecuadas para la agricultura y accedió a comprar 8.153 hectáreas, lo que dejó la sensación de que habían sido engañados. También duplicó el tamaño del monte Vernon a 6.500 acres (2.600 hectáreas) y, para 1775, había más del doble de su población de esclavos a más de cien.",
         "george_washington instancias washington gobernador lord_botetourt cumplió_promesa dinwiddie conceder beneficios tierras sirvieron_milicias voluntarias guerra francia india finale washington_inspeccionó tierras regione ohio gran kanawha contrató agrimensor william_crawford subdividirla crawford asignó hectárea washington veteranos tierras adecuadas agricultura accedió comprar_hectárea sensación engañado también duplicó_tamaño monte_vernon acre_hectárea doble población cien"
        ],
        [
         "11",
         "124952",
         "T_EN_0_19",
         "George Washington Como un respetado héroe militar y gran terrateniente, Washington ocupó cargos locales y fue elegido para la legislatura provincial de Virginia, representando al Condado Frederick en la Casa de Virginia de Burgesses durante siete años a partir de 1758 Al principio de su carrera legislativa, Washington rara vez habló en las sesiones legislativas o incluso asistió a ellas, pero fue más activo políticamente a partir de la década de 1760, convirtiéndose en un destacado crítico de las políticas tributarias y mercantilistas británicas hacia las colonias americanas. Washington importó artículos de lujo de Inglaterra, pagando por ellos exportando tabaco Su derroche de gastos combinado con los bajos precios del tabaco le dejó 1.800 libras en deuda para 1764 La total dependencia de Washington en el comprador y comerciante de tabaco de Londres Robert Cary también amenazó su seguridad económica Entre 1764 y 1766, trató de diversificar sus explotaciones: cambió el principal cultivo comercial de Mount Vernon del tabaco al trigo y amplió las operaciones para incluir la molienda de harina y la cría de cáñamo Patsy, hijastra de Washington, sufrió ataques epilépticos, y murió en Mount Vernon en 1773, permitiendo a Washington utilizar parte de la herencia de su patrimonio para saldar sus deudas.",
         "george_washington como respetado héroe_militar terrateniente washington ocupó_cargo locale elegido_legislatura provincial virginia representando condado_frederick casa virginia burgesses años al_principio carrera legislativa washington rara_habló sesiones_legislativas activo_políticamente década convirtiéndose destacado crítico políticas tributaria mercantilistas británicas colonias_americanas washington importó artículos_lujo inglaterra pagando exportando tabaco su derroche_gasto combinado bajos_precios tabaco libra deuda la dependencia washington comprador comerciante londres robert_cary amenazó seguridad_económica entre diversificar explotacione cambió principal_cultivo comercial mount_vernon tabaco_trigo amplió operaciones incluir molienda_harina cría_cáñamo patsy hijastra washington sufrió_ataque epiléptico murió mount_vernon permitiendo washington utilizar herencia_patrimonio saldar_deuda"
        ],
        [
         "12",
         "124953",
         "T_EN_0_2",
         "George Washington Washington fue elegido presidente por unanimidad por el Colegio Electoral en 1788 y de nuevo en 1792 Como el primer U.S. presidente, implementó un gobierno nacional fuerte y bien financiado mientras permanecía imparcial en la feroz rivalidad que surgió dentro de su gabinete entre Thomas Jefferson y Alexander Hamilton Durante la Revolución Francesa, proclamó una política de neutralidad mientras apoyaba el Tratado Jay con Gran Bretaña Washington sentó precedentes perdurables para el cargo de presidente, incluyendo el republicanismo, una transferencia pacífica del poder, el uso del título \"Mr. Presidente\", y la tradición de dos períodos Su discurso de despedida de 1796 se convirtió en una declaración preeminente sobre el republicanismo: Washington escribió acerca de la importancia de la unidad nacional y los peligros que el regionalismo, el partidismo y la influencia extranjera le plantean Como plantador de tabaco y trigo en Mount Vernon, Washington era dueño de muchos esclavos Comenzó a oponerse a la esclavitud cerca del final de su vida, y proveyó en su voluntad para la manipulación de sus esclavos.",
         "george_washington washington elegido_presidente unanimidad colegio_electoral como presidente implementó gobierno nacional fuerte financiado permanecía imparcial feroz_rivalidad surgió gabinete thomas_jefferson alexander_hamilton durante revolución_francesa política_neutralidad tratado_jay gran_bretaña washington sentó_precedente perdurable cargo presidente incluyendo republicanismo transferencia_pacífica título presidente tradición período su discurso_despedida convirtió declaración preeminente republicanismo washington escribió_acerca importancia unidad nacional peligros regionalismo partidismo influencia_extranjera plantean como plantador_tabaco trigo mount_vernon washington dueño comenzó oponerse_esclavitud vida proveyó voluntad manipulación"
        ],
        [
         "13",
         "124954",
         "T_EN_0_20",
         "George Washington Washington se opuso a los impuestos que el Parlamento británico impuso a las Colonias sin una representación adecuada Creyó que la Stamp Act 1765 era opresiva y celebró su derogación al año siguiente. En respuesta a las Leyes Townshend, presentó una propuesta en mayo de 1769 que instaba a los virgineros a boicotear los bienes británicos; las Leyes Townshend fueron revocadas en su mayoría en 1770. Washington y otros colonos también se enojaron por la Proclamación Real de 1763 (que prohibió el asentamiento estadounidense al oeste de las montañas Allegheny) y la injerencia británica en la especulación estadounidense de tierras occidentales (en la que Washington participó).",
         "george_washington washington opuso impuesto parlamento_británico impuso colonias representación_adecuada creyó stamp_act opresiva celebró derogación año respuesta leyes_townshend presentó_propuesta mayo instaba virgineros boicotear_biene británicos leyes_townshend revocadas mayoría washington colonos enojaron proclamación_real prohibió_asentamiento estadounidense oeste_montañas allegheny injerencia británica especulación estadounidense tierras_occidentales washington participó"
        ],
        [
         "14",
         "124955",
         "T_EN_0_21",
         "George Washington El Parlamento trató de castigar a los colonos de Massachusetts por su papel en el Boston Tea Party en 1774 aprobando las leyes coercitivas, que Washington vio como \"una invasión de nuestros derechos y privilegios\" En julio, él y George Mason redactaron una lista de resoluciones para el comité del condado de Fairfax, incluyendo un llamamiento para poner fin a la trata de esclavos del Atlántico; las resoluciones fueron aprobadas En agosto, Washington asistió a la Primera Convención de Virginia y fue seleccionado como delegado en el Primer Congreso Continental A medida que las tensiones aumentaron en 1774, ayudó a entrenar a las milicias en Virginia y organizó la aplicación del boicot de la Asociación Continental a los bienes británicos instituido por el Congreso.",
         "george_washington el parlamento castigar colonos massachusetts papel boston_tea party aprobando_leyes coercitivas washington vio invasión derechos privilegio en julio george_mason redactaron lista resoluciones comité condado_fairfax incluyendo llamamiento atlántico resolucione aprobadas en agosto washington primera convención virginia seleccionado_delegado primer_congreso continental medida tensiones_aumentaron ayudó entrenar_milicias virginia organizó aplicación boicot asociación_continental biene_británicos instituido congreso"
        ],
        [
         "15",
         "124956",
         "T_EN_0_22",
         "George Washington La Guerra Revolucionaria Americana estalló el 19 de abril de 1775 Washington partió apresuradamente de Mount Vernon el 4 de mayo para unirse al Segundo Congreso Continental en Filadelfia El 14 de junio, el Congreso creó el Ejército Continental y John Adams nominó a Washington como su comandante en jefe, principalmente debido a su experiencia militar y la creencia de que un Virginiano uniría mejor las colonias Fue elegido unánimemente por el Congreso al día siguiente Washington dio un discurso de aceptación el 16 de junio, declinando un salario, aunque más tarde se le reembolsaron los gastos.",
         "george_washington la guerra_revolucionaria americana_estalló abril washington partió mount_vernon mayo unirse segundo_congreso continental filadelfia el junio congreso creó ejército_continental john_adams nominó washington comandante_jefe experiencia_militar creencia virginiano uniría colonias fue_elegido unánimemente congreso washington discurso_aceptación junio declinando salario reembolsaron gasto"
        ],
        [
         "16",
         "124957",
         "T_EN_0_23",
         "George Washington El Congreso eligió a los oficiales principales de Washington, incluyendo Artemas Ward, Horatio Gates, Charles Lee, Philip Schuyler y Nathanael Greene Henry Knox impresionó a Adams y Washington con su conocimiento de la munición y fue ascendido a coronel y jefe de artillería De manera similar, Washington quedó impresionado por la inteligencia y la valentía de Alexander Hamilton; más tarde ascendería a Hamilton a coronel y lo nombraría su ayudante de campo.",
         "george_washington el congreso eligió oficiales principale washington incluyendo artemas_ward horatio_gates charles_lee philip_schuyler nathanael_greene henry_knox impresionó adams washington conocimiento munición ascendido_coronel jefe_artillería de_similar washington impresionado inteligencia_valentía alexander_hamilton ascendería hamilton coronel nombraría ayudante_campo"
        ],
        [
         "17",
         "124958",
         "T_EN_0_24",
         "George Washington Washington prohibió inicialmente el alistamiento de soldados negros, tanto libres como esclavizados Los británicos vieron una oportunidad de dividir las colonias: el gobernador colonial de Virginia emitió una proclamación prometiendo libertad a los esclavos si se unían a las fuerzas británicas En respuesta a esta proclamación y a la necesidad de tropas, Washington pronto revocó su prohibición Al final de la guerra, alrededor de una décima parte de los soldados del Ejército Continental eran negros, con algunos obteniendo libertad.",
         "george_washington washington prohibió inicialmente alistamiento negros_libre esclavizado los británicos vieron_oportunidad dividir_colonias gobernador colonial virginia emitió_proclamación prometiendo_libertad unían fuerzas_británicas respuesta proclamación tropa washington revocó_prohibición al guerra décima soldados ejército_continental negros obteniendo libertad"
        ],
        [
         "18",
         "124959",
         "T_EN_0_25",
         "George Washington En abril de 1775, en respuesta al creciente movimiento rebelde, las tropas británicas ocuparon Boston, encabezadas por el general Thomas Gage, comandante de las fuerzas británicas en América. Las milicias locales rodearon la ciudad y atraparon a las tropas británicas, resultando en un enfrentamiento Mientras Washington se dirigía a Boston, fue recibido por multitudes de vítores y ceremonia política; se convirtió en un símbolo de la causa Patriota A la llegada de Washington el 2 de julio, fue a inspeccionar el ejército, pero encontró milicias indisciplinadas. Después de la consulta, inició las reformas sugeridas por Benjamin Franklin, instituyendo ejercicios militares e imponiendo estrictas medidas disciplinarias. Washington promovió a algunos de los soldados que habían actuado bien en Bunker Hill a rango de oficiales, y destituyó a los oficiales que él consideraba incompetentes En octubre, el rey Jorge III declaró que las colonias estaban en abierta rebelión y relevaron a Gage de mando, reemplazándolo con el general William Howe.",
         "george_washington en abril respuesta_creciente movimiento rebelde tropas_británicas ocuparon boston encabezada thomas_gage comandante fuerzas_británicas américa las milicias_locale rodearon_ciudad atraparon tropas_británicas resultando enfrentamiento mientras washington dirigía boston recibido multitude vítores ceremonia política convirtió_símbolo causa_patriota llegada washington julio inspeccionar ejército encontró milicias indisciplinadas después consulta inició_reformas sugeridas benjamin_franklin instituyendo ejercicio_militare imponiendo estrictas_medidas disciplinaria washington promovió soldados actuado bunker_hill oficiales destituyó oficiales consideraba incompetente en octubre rey_jorge iii declaró colonias abierta_rebelión relevaron gage mando reemplazándolo_william howe"
        ],
        [
         "19",
         "124960",
         "T_EN_0_26",
         "George Washington Cuando el río Charles se congeló, Washington estaba ansioso por cruzar y asaltar Boston, pero Gates y otros se opusieron a que la milicia no entrenada intentara atacar fortificaciones bien asentadas. En lugar de eso, Washington accedió a asegurar el Dorchester Heights sobre Boston para tratar de forzar a los británicos a salir. El 17 de marzo, 8.906 tropas británicas, 1.100 leales y 1.220 mujeres y niños iniciaron una evacuación naval caótica Washington entró en la ciudad con 500 hombres, dándoles órdenes explícitas de no saquear Se abstuvo de ejercer autoridad militar en Boston, dejando asuntos civiles en manos de las autoridades locales.",
         "george_washington cuando río charles congeló washington ansioso cruzar asaltar boston gates opusieron milicia_entrenada intentara atacar fortificacione asentadas washington accedió asegurar dorchester_heights boston tratar_forzar británicos salir el marzo tropas británica leale mujere_niños iniciaron evacuación naval caótica washington entró ciudad hombre dándole órdene explícitas saquear se_abstuvo ejercer_autoridad militar boston dejando asunto_civile manos autoridades_locale"
        ],
        [
         "20",
         "124961",
         "T_EN_0_27",
         "George Washington Después de la victoria en Boston, Washington adivinó correctamente que los británicos volverían a la ciudad de Nueva York y tomarían represalias Llegó allí el 13 de abril de 1776, y ordenó la construcción de fortificaciones También ordenó a sus fuerzas que trataran a los civiles y sus bienes con respeto, para evitar los abusos que sufrieron los bostonianos a manos de las tropas británicas. Las fuerzas británicas, incluyendo más de cien barcos y miles de tropas, comenzaron a llegar a Staten Island en julio para sitiar la ciudad.",
         "george_washington después victoria boston washington adivinó correctamente británicos_volverían ciudad_nueva york tomarían represalia llegó abril ordenó_construcción fortificacione también ordenó fuerzas trataran civiles_biene respeto evitar_abusos sufrieron bostonianos manos tropas_británicas las fuerzas_británicas incluyendo cien barcos miles tropa comenzaron_llegar staten_island julio_sitiar ciudad"
        ],
        [
         "21",
         "124962",
         "T_EN_0_28",
         "George Washington Los efectivos de Howe sumaron 32.000 regulares y auxiliares de Hessian; Washington tenía 23.000 hombres, en su mayoría reclutas no entrenados y milicianos En agosto, Howe aterrizó 20.000 tropas en Gravesend, Brooklyn, y se acercó a las fortificaciones de Washington Superando a sus generales, Washington optó por luchar, basándose en información inexacta de que el ejército de Howe sólo tenía alrededor de 8.000 soldados. En la batalla de Long Island, Howe asaltó el flanco de Washington e infligió 1.500 bajas Patriotas Washington se retiró a Manhattan.",
         "george_washington los howe sumaron regulare auxiliare_hessian washington hombre mayoría recluta entrenado milicianos en agosto howe_aterrizó tropa gravesend_brooklyn acercó fortificacione washington superando generale washington optó_luchar basándose_información inexacta ejército howe soldado long_island howe asaltó flanco washington infligió_bajas patriotas washington retiró manhattan"
        ],
        [
         "22",
         "124963",
         "T_EN_0_29",
         "George Washington Howe envió un mensaje a Washington para negociar la paz, dirigiéndose a él como \"George Washington, Esq\". Washington se negó a aceptar el mensaje, exigiendo ser abordado con protocolo diplomático, no como un rebelde A pesar de sus dudas, Washington prestó atención al consejo del General Greene de defender Fort Washington, pero finalmente se vio obligado a abandonarlo. Howe persiguió y Washington se retiró a través del río Hudson hacia Fort Lee En noviembre, Howe capturó Fort Washington Los leales de la ciudad de Nueva York consideraron a Howe un liberador y difundieron el rumor de que Washington había incendiado la ciudad. Ahora reducido a 5.400 soldados, el ejército de Washington se retiró a través de Nueva Jersey.",
         "george_washington howe_envió mensaje washington negociar_paz dirigiéndose george_washington esq washington negó_aceptar mensaje exigiendo abordado protocolo_diplomático rebelde duda washington prestó_atención consejo general_greene defender fort_washington finalmente vio_obligado abandonarlo howe_persiguió washington retiró río_hudson fort_lee en noviembre howe capturó_fort washington los leales ciudad_nueva york consideraron howe liberador difundieron_rumor washington incendiado ciudad ahora reducido soldado ejército washington retiró nueva_jersey"
        ],
        [
         "23",
         "124964",
         "T_EN_0_3",
         "George Washington La imagen de Washington es un icono de la cultura estadounidense y ha sido ampliamente conmemorado; sus nombres incluyen la capital nacional y el Estado de Washington Tanto en las encuestas populares como en las académicas, es considerado uno de los presidentes más grandes de la historia estadounidense.",
         "george_washington la imagen washington icono cultura estadounidense ampliamente conmemorado nombre incluyen capital nacional estado washington tanto encuestas_populare académicas considerado presidentes grande historia estadounidense"
        ],
        [
         "24",
         "124965",
         "T_EN_0_30",
         "George Washington Washington cruzó el río Delaware hacia Pensilvania, donde el general John Sullivan se unió a él con 2.000 tropas más. El futuro del Ejército Continental estaba en duda debido a la falta de suministros, un invierno duro, alistamientos que terminaban, y deserciones Howe publicó una guarnición de Hessian en Trenton para celebrar el oeste de Nueva Jersey y la costa este del Delaware Al amanecer del 26 de diciembre de 1776, Washington, ayudado por el coronel Knox y la artillería, dirigió a sus hombres en un exitoso ataque sorpresa contra los hessianos.",
         "george_washington washington_cruzó río_delaware pensilvania john_sullivan unió tropa el futuro ejército_continental duda falta_suministros invierno_duro alistamiento terminaban desercione howe publicó guarnición hessian_trenton celebrar oeste nueva_jersey costa delaware al_amanecer diciembre washington ayudado coronel knox_artillería dirigió hombre exitoso ataque_sorpresa hessianos"
        ],
        [
         "25",
         "124966",
         "T_EN_0_31",
         "George Washington Washington regresó a Nueva Jersey el 3 de enero de 1777, lanzando un ataque contra los regulares británicos en Princeton, con 40 estadounidenses muertos o heridos y 273 británicos muertos o capturados Howe se retiró a Nueva York para el invierno Washington tomó la sede de invierno en Morristown, Nueva Jersey Estratégicamente, las victorias de Washington en Trenton y Princeton fueron fundamentales: revivieron la moral de Patriot y anularon la estrategia británica de mostrar una fuerza abrumadora seguida de ofrecer términos generosos, cambiando el curso de la guerra.",
         "george_washington washington regresó nueva_jersey enero lanzando_ataque regulares_británicos princeton estadounidense muerto_heridos británicos muerto capturado howe retiró nueva_york invierno washington tomó sede invierno_morristown nueva_jersey estratégicamente victorias washington trenton_princeton fundamentale revivieron moral_patriot anularon estrategia_británica mostrar fuerza_abrumadora seguida ofrecer término_generosos cambiando curso guerra"
        ],
        [
         "26",
         "124967",
         "T_EN_0_32",
         "George Washington En julio de 1777, el general británico John Burgoyne dirigió sus tropas británicas al sur de Quebec en la campaña de Saratoga; recapturó Fort Ticonderoga, con la intención de dividir Nueva Inglaterra Sin embargo, el general Howe llevó su ejército de la ciudad de Nueva York al sur de Filadelfia en lugar de unirse a Burgoyne cerca de Albany Washington y Gilbert, el marqués de Lafayette se precipitó a Filadelfia para involucrar a Howe En la batalla de Brandywine el 11 de septiembre de 1777, Howe superó a Washington y marchó sin oposición a la capital estadounidense en Filadelfia Un ataque Patriota contra los británicos en Germantown en octubre fracasó.",
         "george_washington en julio británico john_burgoyne dirigió tropas_británicas sur quebec campaña_saratoga recapturó fort_ticonderoga intención_dividir nueva_inglaterra howe llevó ejército ciudad_nueva york sur filadelfia unirse_burgoyne albany washington gilbert marqués_lafayette precipitó filadelfia involucrar howe en brandywine_septiembre howe_superó washington marchó_oposición capital estadounidense filadelfia un ataque patriota británicos germantown_octubre fracasó"
        ],
        [
         "27",
         "124968",
         "T_EN_0_33",
         "George Washington En el norte de Nueva York, los Patriotas fueron dirigidos por el General Horatio Gates. Preocupado por los movimientos de Burgoyne hacia el sur, Washington envió refuerzos al norte con los generales Benedict Arnold y Benjamin Lincoln El 7 de octubre de 1777, Burgoyne intentó tomar Bemis Heights, pero fue aislado del apoyo y obligado a rendirse La victoria de Gates envalentonó a los críticos de Washington, que favoreció a Gates como líder militar Según el biógrafo John Alden, \"era inevitable que se compararan las derrotas de las fuerzas de Washington y la victoria concurrente de las fuerzas en la parte alta de Nueva York\". La admiración por Washington estaba disminuyendo.",
         "george_washington en norte nueva_york patriotas dirigido general_horatio gates preocupado movimiento burgoyne sur washington envió_refuerzos norte benedict_arnold benjamin_lincoln el burgoyne intentó_tomar bemis_heights aislado apoyo obligado_rendirse la victoria gates envalentonó críticos washington favoreció gates líder militar según_biógrafo john_alden inevitable compararan derrotas_fuerzas washington victoria concurrente fuerzas alta nueva_york la admiración washington disminuyendo"
        ],
        [
         "28",
         "124969",
         "T_EN_0_34",
         "George Washington Washington y su ejército de 11.000 hombres entraron en los cuarteles de invierno en Valley Forge, al norte de Filadelfia, en diciembre de 1777. Allí perdieron entre 2.000 y 3.000 hombres como consecuencia de enfermedades y falta de alimentos, ropa y refugio, reduciendo el ejército a menos de 9.000 hombres En febrero, Washington se enfrentaba a una baja moral de las tropas y a un aumento de las deserciones Una revuelta interna de sus oficiales llevó a algunos miembros del Congreso a considerar quitar a Washington del mando Los partidarios de Washington se resistieron, y el asunto fue finalmente abandonado.",
         "george_washington washington ejército hombre entraron cuarteles_invierno valley_forge norte filadelfia diciembre allí perdieron hombre consecuencia enfermedade falta alimento_ropa refugio reduciendo ejército hombre en febrero washington enfrentaba baja_moral tropas aumento deserciones una revuelta interna oficiale llevó miembros congreso considerar quitar washington mando los partidarios washington resistieron asunto finalmente_abandonado"
        ],
        [
         "29",
         "124970",
         "T_EN_0_35",
         "George Washington Washington hizo reiteradas peticiones al Congreso de disposiciones y expresó la urgencia de la situación a una delegación del Congreso El Congreso acordó fortalecer las líneas de abastecimiento del ejército y reorganizar los departamentos de intendencia y economato, mientras que Washington lanzó el Gran Forraje de 1778 para recoger alimentos de la región circundante Mientras tanto, la incesante perforación del barón Friedrich Wilhelm von Steuben transformó a los reclutas de Washington en una fuerza de combate disciplinada Washington lo nombró Inspector General.",
         "george_washington washington reiterada peticione congreso disposicione urgencia_situación delegación congreso el congreso acordó fortalecer_líneas abastecimiento ejército reorganizar departamentos intendencia economato mientra washington lanzó gran forraje recoger alimentos región_circundante mientras incesante_perforación barón_friedrich wilhelm_von steuben transformó reclutas washington fuerza_combate disciplinada washington nombró_inspector general"
        ],
        [
         "30",
         "124971",
         "T_EN_0_36",
         "George Washington A principios de 1778, los franceses entraron en un Tratado de Alianza con los americanos En mayo, Howe renunció y fue reemplazado por Sir Henry Clinton Los británicos evacuaron Filadelfia a Nueva York que junio y Washington convocaron un consejo de guerra de generales americanos y franceses Eligió ordenar una huelga limitada a los británicos en retirada. Los generales Lee y Lafayette se mudaron con 4.000 hombres, sin el conocimiento de Washington, y empuñaron su primera huelga el 28 de junio Washington relevó a Lee y logró un empate después de una batalla expansiva Los británicos continuaron su retiro a Nueva York",
         "george_washington principio franceses_entraron tratado_alianza americanos en mayo howe_renunció reemplazado_sir henry_clinton los británicos_evacuaron filadelfia nueva_york junio washington convocaron_consejo guerra francese eligió ordenar huelga limitada británicos retirada los generale lee lafayette mudaron hombre conocimiento washington empuñaron huelga junio washington_relevó lee logró empate batalla expansiva los británicos continuaron retiro nueva_york"
        ],
        [
         "31",
         "124972",
         "T_EN_0_37",
         "George Washington Esta batalla \"marcó el fin de la campaña de la guerra en los estados del norte y medio Washington no volvería a luchar contra los británicos en un gran compromiso durante más de tres años\" A finales de 1778, el general Clinton capturó Savannah, Georgia, un puerto clave en el sur de América. Washington, mientras tanto, ordenó una expedición contra los iroqueses, los aliados indígenas de los británicos, destruyendo sus aldeas.",
         "george_washington esta batalla marcó campaña guerra norte washington volvería luchar británicos compromiso años finale clinton capturó_savannah georgia puerto clave sur américa washington mientra ordenó expedición iroquese aliados_indígenas británicos destruyendo_aldeas"
        ],
        [
         "32",
         "124973",
         "T_EN_0_38",
         "George Washington Washington se convirtió en el primer maestro espía de Estados Unidos al diseñar un sistema de espionaje contra los británicos En 1778, el Mayor Benjamin Tallmadge formó el Anillo Culper en la dirección de Washington para recopilar encubiertamente información sobre los británicos en Nueva York La inteligencia del Culper Ring salvó a las fuerzas francesas de un ataque británico sorpresa, que fue en sí mismo basado en la inteligencia del general de Washington convertido en espía británico Benedict Arnold.",
         "george_washington washington convirtió maestro_espía estados_unidos diseñar sistema_espionaje británicos en mayor_benjamin tallmadge formó anillo_culper dirección washington recopilar encubiertamente información británicos nueva_york la inteligencia culper ring salvó fuerzas_francesas ataque_británico sorpresa basado inteligencia washington convertido espía_británico benedict_arnold"
        ],
        [
         "33",
         "124974",
         "T_EN_0_39",
         "George Washington Washington había hecho caso omiso de los incidentes de deslealtad de Arnold, que se había distinguido en muchas campañas, incluida la invasión de Quebec En 1779, Arnold comenzó a suministrar al maestro espía británico John André información sensible destinada a permitir a los británicos capturar West Point, una posición defensiva estadounidense clave en el río Hudson El 21 de septiembre, Arnoldo le dio a André planes para hacerse cargo de la guarnición André fue capturado por la milicia que descubrió los planes, después de lo cual Arnold escapó a Nueva York Al ser informado sobre la traición de Arnold, Washington recordó a los comandantes colocados bajo Arnold en puntos clave alrededor del fuerte para evitar cualquier complicidad Asumió el mando personal en West Point y reorganizó sus defensas.",
         "george_washington washington caso_omiso incidente deslealtad arnold distinguido campañas incluida invasión_quebec en arnold comenzó suministrar maestro_espía británico john_andré información sensible destinada permitir británicos capturar west_point posición_defensiva estadounidense clave río_hudson el septiembre arnoldo andré plane hacerse_cargo guarnición andré_capturado milicia descubrió plane arnold_escapó nueva_york al informado traición_arnold washington recordó comandantes colocado arnold punto clave fuerte evitar complicidad asumió_mando personal west_point reorganizó defensas"
        ],
        [
         "34",
         "124975",
         "T_EN_0_4",
         "George Washington George Washington nació el 22 de febrero de 1732 en Popes Creek, en el condado de Westmoreland, Virginia. Fue el primero de seis hijos de Augustine y Mary Ball Washington Su padre era un juez de paz y una prominente figura pública que tuvo cuatro hijos adicionales desde su primer matrimonio con Jane Butler Washington no era cercano a su padre y rara vez lo mencionaba en años posteriores; tenía una relación fracciosa con su madre Entre sus hermanos, estaba particularmente cerca de su medio hermano mayor Lawrence.",
         "george_washington george_washington nació_febrero popes_creek condado_westmoreland virginia fue hijos augustine mary_ball washington su_padre juez_paz prominente figura_pública hijos adicionale matrimonio jane_butler washington cercano padre rara mencionaba años_posteriore relación_fracciosa madre entre hermano particularmente hermano_lawrence"
        ],
        [
         "35",
         "124976",
         "T_EN_0_40",
         "George Washington En junio de 1780, los británicos habían ocupado el Piamonte de Carolina del Sur y tenían un control firme del Sur. Washington fue revigorizado, sin embargo, cuando Lafayette regresó de Francia con más barcos, hombres y suministros, y 5.000 veteranos soldados franceses dirigidos por el Mariscal Rochambeau llegaron a Newport, Rhode Island en julio.",
         "george_washington en junio británicos ocupado piamonte carolina_sur control firme sur washington revigorizado lafayette_regresó francia barcos hombre suministros veterano soldado francese dirigido_mariscal rochambeau llegaron newport_rhode island julio"
        ],
        [
         "36",
         "124977",
         "T_EN_0_41",
         "George Washington El general Clinton envió a Arnold, ahora general británico de brigada, a Virginia en diciembre con 1.700 soldados para capturar Portsmouth y realizar incursiones contra las fuerzas Patriotas Washington envió a Lafayette al sur para contrarrestar los esfuerzos de Arnold Washington inicialmente esperaba llevar la lucha a Nueva York, alejando a las fuerzas británicas de Virginia y terminando la guerra allí, pero Rochambeau le aconsejó que Cornwallis en Virginia era el mejor objetivo El 19 de agosto de 1781, Washington y Rochambeau comenzaron una marcha a Yorktown, Virginia, conocida ahora como la \"marcha célebre\" Washington estaba al mando de un ejército de 7.800 franceses, 3.100 milicianos y 8.000 tropas continentales. Sin experiencia en la guerra de asedio, a menudo aplazó al juicio de Rochambeau A pesar de esto, Rochambeau nunca desafió la autoridad de Washington como oficial al mando de la batalla.",
         "george_washington el clinton envió arnold británico brigada virginia diciembre soldado capturar portsmouth incursiones fuerza patriotas washington envió lafayette sur contrarrestar_esfuerzos arnold washington inicialmente_esperaba lucha nueva_york alejando fuerzas_británicas virginia terminando guerra rochambeau aconsejó cornwallis virginia objetivo el agosto washington_rochambeau comenzaron marcha yorktown_virginia conocida marcha célebre washington mando ejército francese milicianos tropa continentale experiencia guerra asedio aplazó juicio rochambeau_rochambeau desafió washington oficial_mando batalla"
        ],
        [
         "37",
         "124978",
         "T_EN_0_42",
         "George Washington A finales de septiembre, las fuerzas patriota-francesas rodearon Yorktown, atrapando al ejército británico, mientras que la armada francesa salió victoriosa en la batalla del Chesapeake La ofensiva estadounidense final comenzó con un disparo de Washington El asedio terminó con una rendición británica el 19 de octubre de 1781; más de 7.000 soldados británicos se convirtieron en prisioneros de guerra Washington negoció los términos de la rendición durante dos días, y la ceremonia oficial de la firma tuvo lugar el 19 de octubre Aunque el tratado de paz no se negoció durante dos años más, Yorktown resultó ser la última batalla significativa de la Guerra Revolucionaria, con el Parlamento británico acordando poner fin a las hostilidades en marzo de 1782.",
         "george_washington finale septiembre fuerzas patriota francesas_rodearon yorktown atrapando_ejército británico mientra armada_francesa salió_victoriosa batalla_chesapeake la ofensiva estadounidense comenzó disparo washington el asedio terminó_rendición británica soldado_británicos convirtieron_prisioneros guerra washington negoció_términos rendición do ceremonia oficial firma octubre aunque tratado_paz negoció do años yorktown resultó batalla significativa guerra_revolucionaria parlamento_británico acordando hostilidades"
        ],
        [
         "38",
         "124979",
         "T_EN_0_43",
         "George Washington Cuando las negociaciones de paz comenzaron en abril de 1782, tanto los británicos como los franceses comenzaron a evacuar gradualmente sus fuerzas. En marzo de 1783, Washington calmó con éxito la conspiración de Newburgh, un motín planeado por oficiales estadounidenses insatisfechos con la falta de pago Washington presentó una cuenta de 450.000 dólares en gastos que había adelantado al ejército La cuenta se saldó, aunque era vaga en cuanto a grandes sumas e incluía los gastos en que había incurrido su esposa mediante visitas a su sede.",
         "george_washington cuando negociaciones_paz comenzaron abril británicos franceses_comenzaron evacuar gradualmente fuerza marzo washington calmó éxito conspiración_newburgh motín planeado oficiale estadounidense falta pago washington presentó dólare gasto adelantado ejército la saldó vaga suma incluía gastos_incurrido esposa visita sede"
        ],
        [
         "39",
         "124980",
         "T_EN_0_44",
         "George Washington Cuando se firmó el Tratado de París el 3 de septiembre de 1783, Gran Bretaña reconoció oficialmente la independencia estadounidense Washington disolvió su ejército, dando un discurso de despedida a sus soldados el 2 de noviembre Supervisó la evacuación de las fuerzas británicas en Nueva York y fue recibido por desfiles y celebraciones.",
         "george_washington cuando firmó_tratado parís septiembre gran_bretaña reconoció_oficialmente independencia estadounidense washington disolvió ejército dando_discurso despedida soldados noviembre supervisó_evacuación fuerzas_británicas nueva_york desfile celebracione"
        ],
        [
         "40",
         "124981",
         "T_EN_0_45",
         "George Washington A principios de diciembre de 1783, Washington se despidió de sus oficiales en Fraunces Tavern y renunció como comandante en jefe poco después En una última aparición en uniforme, dio una declaración al Congreso: \"Considero un deber indispensable cerrar este último acto solemne de mi vida oficial, al encomiar los intereses de nuestro querido país a la protección de Dios Todopoderoso, y de aquellos que tienen la superintendencia de ellos, a su santo cumplimiento.\" La renuncia de Washington fue aclamada en casa y en el extranjero, \"extollada por los historiadores posteriores como un acontecimiento señal que marcó el rumbo político del país\" según el historiador Edward J. Larson El mismo mes, Washington fue nombrado presidente general de la Sociedad de los Cincinnati, una fraternidad hereditaria recién establecida de oficiales de la Guerra Revolucionaria.",
         "george_washington washington oficiale_fraunces tavern renunció comandante_jefe despué en aparición uniforme declaración congreso considero_deber indispensable cerrar acto solemne vida oficial encomiar interese querido país dios_todopoderoso superintendencia santo cumplimiento la renuncia washington aclamada casa extranjero extollada historiadores posteriores señal marcó rumbo político país historiador edward larson el washington nombrado presidente sociedad_cincinnati fraternidad hereditaria recién_establecida oficiale guerra_revolucionaria"
        ],
        [
         "41",
         "124982",
         "T_EN_0_46",
         "George Washington Después de pasar solo diez días en Mount Vernon después de 8+1⁄2 años de guerra, Washington estaba ansioso por volver a casa. Llegó en Nochebuena; Profesor John E. Ferling escribió que estaba encantado de estar \"libre del bullicio de un campamento y de las ajetreadas escenas de la vida pública\" Recibió un flujo constante de visitantes presentando sus respetos en Mount Vernon.",
         "george_washington después_pasar diez mount_vernon años guerra washington ansioso volver_casa llegó nochebuena profesor john ferling escribió encantado libre bullicio campamento ajetreadas escenas_vida pública recibió flujo_constante visitantes presentando respeto mount_vernon"
        ],
        [
         "42",
         "124983",
         "T_EN_0_47",
         "George Washington Washington reactivó sus intereses en los proyectos del Gran Pantano Dismal y del Canal Potomac, iniciados antes de la guerra, aunque ninguno le dio dividendos En 1784 realizó un viaje de 34 días, de 1.090 km (680-millas) para comprobar sus propiedades en el país de Ohio. Supervisó la finalización de las obras de remodelación en el Monte Vernon, que transformó su residencia en la mansión que sobrevive hasta el día de hoy, aunque su situación financiera no era fuerte Los acreedores le pagaron en moneda depreciada en tiempo de guerra, y debía cantidades significativas en impuestos y salarios Mount Vernon no había obtenido ningún beneficio durante su ausencia, y vio rendimientos persistentemente pobres debido a la pestilencia y el mal tiempo Su patrimonio registró su undécimo año consecutivo con un déficit en 1787.",
         "george_washington washington reactivó interese proyecto gran_pantano dismal canal potomac iniciado guerra dividendo viaje km_millas comprobar propiedades país_ohio supervisó finalización obras remodelación monte_vernon transformó residencia mansión sobrevive situación_financiera fuerte los acreedore pagaron moneda_depreciada guerra debía cantidades_significativas impuestos salario mount_vernon obtenido_beneficio ausencia vio rendimientos persistentemente pobre pestilencia su patrimonio registró undécimo año_consecutivo déficit"
        ],
        [
         "43",
         "124984",
         "T_EN_0_48",
         "George Washington Para hacer su finca rentable de nuevo, Washington emprendió un nuevo plan de paisajismo y logró cultivar una gama de árboles de rápido crecimiento y arbustos nativos También comenzó a criar mulas después de haber sido dotado de un semental por el rey Carlos III de España en 1785; creía que revolucionarían la agricultura.",
         "george_washington para finca washington plan paisajismo logró cultivar gama árboles rápido_crecimiento arbustos_también comenzó criar mulas dotado semental rey_carlos iii_españa creía revolucionarían agricultura"
        ],
        [
         "44",
         "124985",
         "T_EN_0_49",
         "George Washington Antes de regresar a la vida privada en junio de 1783, Washington pidió una unión fuerte Aunque le preocupaba que pudiera ser criticado por inmiscuirse en asuntos civiles, envió una carta circular a los estados, sosteniendo que los Artículos de la Confederación no eran más que \"una cuerda de arena\" Creía que la nación estaba al borde de la \"anarquía y la confusión\", era vulnerable a la intervención extranjera, y que una constitución nacional unificaría a los estados bajo un gobierno central fuerte.",
         "george_washington antes regresar vida_privada junio washington pidió unión fuerte aunque preocupaba_pudiera criticado inmiscuirse asuntos_civile envió_carta circular sosteniendo artículos_confederación arena creía nación borde anarquía confusión vulnerable intervención_extranjera constitución nacional unificaría gobierno_central fuerte"
        ],
        [
         "45",
         "124986",
         "T_EN_0_5",
         "George Washington La familia se mudó a una plantación en Little Hunting Creek en 1735 antes de establecerse en Ferry Farm cerca de Fredericksburg, Virginia, en 1738 Cuando Augustine murió en 1743, Washington heredó Ferry Farm y diez esclavos; Lawrence heredó Little Hunting Creek y lo renombró Mount Vernon Debido a la muerte de su padre, Washington no tenía la educación formal que sus hermanos mayores habían recibido en Appleby Grammar School en Inglaterra; en cambio, asistió a la Escuela de la Iglesia Baja en Hartfield Aprendió matemáticas y topografía de la tierra, y se convirtió en un dibujante talentoso y mapeador de mapas Al principio de la edad adulta, estaba escribiendo con lo que su biógrafo Ron Chernow describió como \"fuerza considerable\" y \"precisión\" De adolescente, Washington compiló más de cien reglas para la interacción social estilo Las Reglas de la Civilidad, copiado de una traducción al inglés de una guía francesa.",
         "george_washington la mudó_plantación little_hunting creek establecerse ferry_farm fredericksburg_virginia cuando augustine murió washington_heredó ferry_farm diez lawrence heredó little_hunting creek_renombró mount_vernon debido muerte padre washington educación_formal hermano_mayore recibido appleby grammar_school inglaterra cambio escuela iglesia baja_hartfield aprendió_matemáticas topografía tierra convirtió dibujante talentoso mapeador mapas al_principio edad_adulta escribiendo biógrafo_ron chernow_describió fuerza considerable precisión de_adolescente washington compiló cien reglas interacción_social estilo las_reglas civilidad copiado traducción_inglés guía francesa"
        ],
        [
         "46",
         "124987",
         "T_EN_0_50",
         "George Washington Cuando la rebelión de Shays estalló en Massachusetts en agosto de 1786, Washington estaba convencido de que se necesitaba una constitución nacional Algunos nacionalistas temían que la nueva república hubiera descendido a la anarquía, y se reunieron el 11 de septiembre de 1786 en Anápolis para pedir al Congreso que revisara los Artículos de la Confederación Congreso acordó una Convención Constitucional que se celebrará en Filadelfia en 1787, con cada estado para enviar delegados Washington fue elegido para dirigir la delegación de Virginia, pero se negó Tenía preocupaciones sobre la legalidad de la convención y consultó a James Madison, Henry Knox y otros Lo convencieron de que asistiera, ya que sentían que su presencia podría inducir a los Estados reacios a enviar delegados y allanar el camino para el proceso de ratificación, al tiempo que daban legitimidad a la convención.",
         "george_washington cuando rebelión_shays estalló massachusetts agosto washington convencido_necesitaba constitución nacional algunos nacionalista temían república descendido anarquía reunieron septiembre anápolis pedir congreso_revisara artículos_confederación congreso acordó convención_constitucional filadelfia enviar_delegado washington elegido dirigir_delegación virginia negó tenía preocupacione legalidad convención consultó james_madison henry_knox lo convencieron asistiera sentían presencia inducir estados reacio_enviar delegado allanar camino proceso_ratificación daban legitimidad convención"
        ],
        [
         "47",
         "124988",
         "T_EN_0_51",
         "George Washington Washington llegó a Filadelfia el 9 de mayo de 1787, y la asamblea comenzó el 25 de mayo. Benjamin Franklin nominó a Washington para presidir la reunión, y fue elegido por unanimidad El delegado Edmund Randolph presentó el Plan Virginia de Madison; pidió una constitución completamente nueva y un gobierno nacional soberano, que Washington recomendó encarecidamente Sin embargo, los detalles en torno a la representación fueron particularmente polémicos, lo que dio lugar a la presentación de un plan de Nueva Jersey en competencia El 10 de julio, Washington escribió a Alexander Hamilton: \"Casi desespero ver un tema favorable a los procedimientos de nuestra convención y por lo tanto me arrepiento de haber tenido cualquier agencia en el negocio.\" Sin embargo, prestó su prestigio a la labor de los otros delegados, cabildeando a muchos para apoyar la ratificación de la Constitución La versión final adoptó el Compromiso de Connecticut entre los dos planes, y fue firmado por 39 de 55 delegados el 17 de septiembre de 1787.",
         "george_washington washington filadelfia mayo asamblea comenzó mayo benjamin_franklin nominó washington presidir_reunión elegido_unanimidad el delegado edmund_randolph presentó_plan virginia madison pidió constitución completamente gobierno nacional soberano washington recomendó encarecidamente sin detalle torno representación particularmente polémicos_plan nueva_jersey competencia el julio washington escribió alexander_hamilton casi desespero tema procedimientos convención cualqui agencia negocio prestó_prestigio labor delegado cabildeando apoyar ratificación_constitución la versión adoptó_compromiso connecticut plane firmado delegado septiembre"
        ],
        [
         "48",
         "124989",
         "T_EN_0_52",
         "George Washington Justo antes de la primera elección presidencial de 1789, en 1788 Washington fue nombrado canciller del Colegio de William & Mary Continuó sirviendo a través de su presidencia hasta su muerte Los delegados a la convención para la primera elección presidencial anticiparon una presidencia de Washington y se lo dejaron a él para definir el cargo una vez elegido Cuando los electores estatales votaron el 4 de febrero de 1789, Washington fue elegido por unanimidad, único entre Estados Unidos Presidentes John Adams fue elegido vicepresidente A pesar de escribir que sentía \"sensaciones ansiosas y dolorosas\" por dejar Mount Vernon, Washington partió a Nueva York el 16 de abril.",
         "george_washington justo elección_presidencial washington nombrado_canciller colegio_william mary continuó_sirviendo presidencia muerte los delegado_convención elección_presidencial anticiparon presidencia washington dejaron definir cargo elegido cuando electores estatale votaron febrero washington elegido_unanimidad único estados_unidos presidente john_adams elegido_vicepresidente escribir sensacione ansiosas dolorosas dejar mount_vernon washington partió nueva_york abril"
        ],
        [
         "49",
         "124990",
         "T_EN_0_53",
         "George Washington Washington fue inaugurado el 30 de abril de 1789, tomando el juramento de cargo en el Salón Federal de Nueva York Su entrenador fue dirigido por milicianos y una banda de marchas y seguido por estadistas y dignatarios extranjeros en un desfile inaugural, con una multitud de 10.000 Robert R Livingston administró el juramento, usando una Biblia proporcionada por los masones Washington leyó un discurso en la Cámara del Senado, preguntando \"ese Ser Todopoderoso .. consagrar las libertades y la felicidad del pueblo de los Estados Unidos\" Aunque deseaba servir sin salario, el Congreso insistió en que recibiera uno, proporcionando a Washington $25,000 anuales (en comparación con $5,000 anuales para el vicepresidente).",
         "george_washington washington inaugurado_tomando juramento_cargo salón_federal nueva_york su entrenador dirigido milicianos banda_marchas seguido estadista dignatarios_extranjeros desfile_inaugural multitud robert_r livingston_administró juramento usando biblia proporcionada masone washington leyó discurso cámara senado preguntando ser todopoderoso consagrar libertades felicidad pueblo estados_unidos aunque deseaba servir salario congreso insistió recibiera proporcionando washington anuale comparación anuale vicepresidente"
        ]
       ],
       "shape": {
        "columns": 4,
        "rows": 89716
       }
      },
      "text/html": [
       "<div>\n",
       "<style scoped>\n",
       "    .dataframe tbody tr th:only-of-type {\n",
       "        vertical-align: middle;\n",
       "    }\n",
       "\n",
       "    .dataframe tbody tr th {\n",
       "        vertical-align: top;\n",
       "    }\n",
       "\n",
       "    .dataframe thead th {\n",
       "        text-align: right;\n",
       "    }\n",
       "</style>\n",
       "<table border=\"1\" class=\"dataframe\">\n",
       "  <thead>\n",
       "    <tr style=\"text-align: right;\">\n",
       "      <th></th>\n",
       "      <th>index</th>\n",
       "      <th>id_preproc</th>\n",
       "      <th>raw_text</th>\n",
       "      <th>lemmas</th>\n",
       "    </tr>\n",
       "  </thead>\n",
       "  <tbody>\n",
       "    <tr>\n",
       "      <th>0</th>\n",
       "      <td>124941</td>\n",
       "      <td>T_EN_0_0</td>\n",
       "      <td>George Washington George Washington (22 de feb...</td>\n",
       "      <td>george_washington george_washington febrero di...</td>\n",
       "    </tr>\n",
       "    <tr>\n",
       "      <th>1</th>\n",
       "      <td>124942</td>\n",
       "      <td>T_EN_0_1</td>\n",
       "      <td>George Washington Nacido en la Colonia de Virg...</td>\n",
       "      <td>george_washington nacido colonia_virginia wash...</td>\n",
       "    </tr>\n",
       "    <tr>\n",
       "      <th>2</th>\n",
       "      <td>124943</td>\n",
       "      <td>T_EN_0_10</td>\n",
       "      <td>George Washington El partido de Washington lle...</td>\n",
       "      <td>george_washington el partido washington río_oh...</td>\n",
       "    </tr>\n",
       "    <tr>\n",
       "      <th>3</th>\n",
       "      <td>124944</td>\n",
       "      <td>T_EN_0_11</td>\n",
       "      <td>George Washington En febrero de 1754, Dinwiddi...</td>\n",
       "      <td>george_washington en febrero dinwiddie ascendi...</td>\n",
       "    </tr>\n",
       "    <tr>\n",
       "      <th>4</th>\n",
       "      <td>124945</td>\n",
       "      <td>T_EN_0_12</td>\n",
       "      <td>George Washington El resto del Regimiento de V...</td>\n",
       "      <td>george_washington el resto regimiento virginia...</td>\n",
       "    </tr>\n",
       "    <tr>\n",
       "      <th>...</th>\n",
       "      <td>...</td>\n",
       "      <td>...</td>\n",
       "      <td>...</td>\n",
       "      <td>...</td>\n",
       "    </tr>\n",
       "    <tr>\n",
       "      <th>89711</th>\n",
       "      <td>124926</td>\n",
       "      <td>ES_1999_38</td>\n",
       "      <td>Antecedentes históricos del Nuevo Testamento D...</td>\n",
       "      <td>antecedentes_históricos nuevo_testamento despu...</td>\n",
       "    </tr>\n",
       "    <tr>\n",
       "      <th>89712</th>\n",
       "      <td>124927</td>\n",
       "      <td>ES_1999_39</td>\n",
       "      <td>Antecedentes históricos del Nuevo Testamento E...</td>\n",
       "      <td>antecedentes_históricos nuevo_testamento en em...</td>\n",
       "    </tr>\n",
       "    <tr>\n",
       "      <th>89713</th>\n",
       "      <td>124928</td>\n",
       "      <td>ES_1999_40</td>\n",
       "      <td>Antecedentes históricos del Nuevo Testamento E...</td>\n",
       "      <td>antecedentes_históricos nuevo_testamento esta ...</td>\n",
       "    </tr>\n",
       "    <tr>\n",
       "      <th>89714</th>\n",
       "      <td>124929</td>\n",
       "      <td>ES_1999_41</td>\n",
       "      <td>Antecedentes históricos del Nuevo Testamento D...</td>\n",
       "      <td>antecedentes_históricos nuevo_testamento despu...</td>\n",
       "    </tr>\n",
       "    <tr>\n",
       "      <th>89715</th>\n",
       "      <td>124930</td>\n",
       "      <td>ES_1999_42</td>\n",
       "      <td>Antecedentes históricos del Nuevo Testamento E...</td>\n",
       "      <td>antecedentes_históricos nuevo_testamento el nu...</td>\n",
       "    </tr>\n",
       "  </tbody>\n",
       "</table>\n",
       "<p>89716 rows × 4 columns</p>\n",
       "</div>"
      ],
      "text/plain": [
       "        index  id_preproc                                           raw_text  \\\n",
       "0      124941    T_EN_0_0  George Washington George Washington (22 de feb...   \n",
       "1      124942    T_EN_0_1  George Washington Nacido en la Colonia de Virg...   \n",
       "2      124943   T_EN_0_10  George Washington El partido de Washington lle...   \n",
       "3      124944   T_EN_0_11  George Washington En febrero de 1754, Dinwiddi...   \n",
       "4      124945   T_EN_0_12  George Washington El resto del Regimiento de V...   \n",
       "...       ...         ...                                                ...   \n",
       "89711  124926  ES_1999_38  Antecedentes históricos del Nuevo Testamento D...   \n",
       "89712  124927  ES_1999_39  Antecedentes históricos del Nuevo Testamento E...   \n",
       "89713  124928  ES_1999_40  Antecedentes históricos del Nuevo Testamento E...   \n",
       "89714  124929  ES_1999_41  Antecedentes históricos del Nuevo Testamento D...   \n",
       "89715  124930  ES_1999_42  Antecedentes históricos del Nuevo Testamento E...   \n",
       "\n",
       "                                                  lemmas  \n",
       "0      george_washington george_washington febrero di...  \n",
       "1      george_washington nacido colonia_virginia wash...  \n",
       "2      george_washington el partido washington río_oh...  \n",
       "3      george_washington en febrero dinwiddie ascendi...  \n",
       "4      george_washington el resto regimiento virginia...  \n",
       "...                                                  ...  \n",
       "89711  antecedentes_históricos nuevo_testamento despu...  \n",
       "89712  antecedentes_históricos nuevo_testamento en em...  \n",
       "89713  antecedentes_históricos nuevo_testamento esta ...  \n",
       "89714  antecedentes_históricos nuevo_testamento despu...  \n",
       "89715  antecedentes_históricos nuevo_testamento el nu...  \n",
       "\n",
       "[89716 rows x 4 columns]"
      ]
     },
     "execution_count": 27,
     "metadata": {},
     "output_type": "execute_result"
    }
   ],
   "source": [
    "df"
   ]
  },
  {
   "cell_type": "code",
   "execution_count": 23,
   "metadata": {},
   "outputs": [
    {
     "data": {
      "application/vnd.microsoft.datawrangler.viewer.v0+json": {
       "columns": [
        {
         "name": "index",
         "rawType": "int64",
         "type": "integer"
        },
        {
         "name": "index",
         "rawType": "int64",
         "type": "integer"
        },
        {
         "name": "id_preproc",
         "rawType": "object",
         "type": "string"
        },
        {
         "name": "raw_text",
         "rawType": "object",
         "type": "string"
        },
        {
         "name": "lemmas",
         "rawType": "object",
         "type": "string"
        }
       ],
       "conversionMethod": "pd.DataFrame",
       "ref": "78bc2c26-4ff7-486d-a432-efbece8bc7e1",
       "rows": [
        [
         "28399",
         "124941",
         "T_EN_0_0",
         "George Washington George Washington (22 de febrero de 1732) [O.S 11 de febrero de 1731 – 14 de diciembre de 1799) fue un padre fundador y primer presidente de los Estados Unidos, sirviendo desde 1789 hasta 1797. Como comandante del Ejército Continental, Washington llevó a las fuerzas Patriotas a la victoria en la Guerra Revolucionaria Americana contra el Imperio Británico Es comúnmente conocido como el Padre de Su País por su papel en la realización de la independencia americana.",
         "george_washington george_washington febrero diciembre padre_fundador presidente estados_unidos sirviendo como comandante ejército_continental washington llevó fuerzas_patriotas guerra_revolucionaria americana imperio_británico es comúnmente_conocido padre su país papel realización independencia_americana"
        ],
        [
         "28400",
         "124942",
         "T_EN_0_1",
         "George Washington Nacido en la Colonia de Virginia, Washington se convirtió en el comandante del Regimiento de Virginia durante la Guerra de Francia y la India (1754-1763) Más tarde fue elegido para la Casa de Burgesses de Virginia, y se opuso a la opresión percibida de los colonos estadounidenses por la Corona Británica Cuando la Guerra Revolucionaria Americana contra los Británicos comenzó en 1775, Washington fue nombrado comandante en jefe del Ejército Continental Dirigió una fuerza mal organizada y equipada contra las tropas británicas disciplinadas Washington y su ejército lograron una victoria temprana en el asedio de Boston en marzo de 1776, pero se vieron obligados a retirarse de la ciudad de Nueva York en noviembre Washington cruzó el río Delaware y ganó las batallas de Trenton a finales de 1776 y Princeton a principios de 1777, luego perdió las batallas de Brandywine y Germantown a finales de ese año Enfrentó críticas a su mando, baja moral de tropas y falta de provisiones para sus fuerzas mientras continuaba la guerra. En última instancia, Washington llevó a una fuerza combinada francesa y estadounidense a una victoria decisiva sobre los británicos en Yorktown en 1781 En el Tratado de París de 1783, los británicos reconocieron la independencia soberana de los Estados Unidos Washington fue entonces presidente de la Convención Constitucional en 1787, que redactó la actual Constitución de los Estados Unidos.",
         "george_washington nacido colonia_virginia washington convirtió comandante_regimiento virginia guerra francia india más elegido casa_burgesses virginia opuso opresión_percibida colonos estadounidense corona_británica cuando guerra_revolucionaria americana británicos comenzó washington nombrado_comandante jefe_ejército continental dirigió fuerza organizada_equipada tropas_británicas disciplinadas washington ejército lograron victoria temprana asedio_boston vieron_obligado retirarse ciudad_nueva york noviembre washington_cruzó río_delaware ganó batallas_trenton finale princeton perdió batallas_brandywine germantown finale año enfrentó crítica mando baja_moral tropa falta_provisione fuerzas continuaba guerra en_instancia washington llevó fuerza_combinada francesa estadounidense victoria_decisiva británicos yorktown en tratado_parís británicos reconocieron_independencia soberana estados_unidos washington entonce presidente convención_constitucional redactó actual constitución_estados unidos"
        ],
        [
         "28401",
         "124943",
         "T_EN_0_10",
         "George Washington El partido de Washington llegó al río Ohio en noviembre de 1753 y fue interceptado por una patrulla francesa El partido fue acompañado a Fort Le Boeuf, donde Washington fue recibido de manera amistosa. Él entregó la demanda británica para desalojar al comandante francés Jacques Legardeur de Saint-Pierre, pero los franceses se negaron a salir Saint-Pierre dio a Washington su respuesta oficial después de unos días de retraso, así como comida y ropa de invierno para el viaje de regreso de su partido a Virginia Washington completó la precaria misión en difíciles condiciones invernales, logrando cierto grado de distinción cuando su informe fue publicado en Virginia y Londres.",
         "george_washington el partido washington río_ohio interceptado patrulla_francesa el partido acompañado fort_le boeuf washington amistosa entregó demanda británica desalojar comandante francés jacques_legardeur saint_pierre franceses_negaron salir saint_pierre washington respuesta oficial retraso comida_ropa invierno viaje_regreso partido virginia washington completó precaria misión difícile_condicione invernale logrando grado distinción informe_publicado virginia londres"
        ],
        [
         "28402",
         "124944",
         "T_EN_0_11",
         "George Washington En febrero de 1754, Dinwiddie ascendió a Washington a teniente coronel y segundo al mando del Regimiento de Virginia, con órdenes de enfrentarse a los franceses en los Forks de Ohio. Washington partió con la mitad del regimiento en abril y pronto fue consciente de que una fuerza francesa de 1.000 había comenzado la construcción de Fort Duquesne allí En mayo, después de haber establecido una posición defensiva en Great Meadows, Washington se enteró de que los franceses habían hecho campamento siete millas (11 km) de distancia; decidió tomar la ofensiva El destacamento francés resultó ser sólo unos 50 hombres, así que el 28 de mayo Washington ordenó una emboscada Su pequeña fuerza de virginios y aliados indios mató a los franceses, incluyendo a su comandante Joseph Coulon de Jumonville, quien había estado llevando un mensaje diplomático para los británicos. Los franceses más tarde encontraron a sus compatriotas muertos y con el cuero cabelludo, culpando a Washington, que se había retirado a Fort Necessity.",
         "george_washington en febrero dinwiddie ascendió washington teniente_coronel mando_regimiento virginia órdene enfrentarse francese forks_ohio washington partió mitad regimiento abril consciente fuerza francesa comenzado construcción fort_duquesne en mayo despué establecido posición_defensiva great_meadows washington enteró franceses millas_km distancia decidió_tomar ofensiva el destacamento francés resultó hombre mayo washington ordenó emboscada su pequeña_fuerza virginio aliado_indios francese incluyendo comandante joseph_coulon jumonville llevando mensaje diplomático británicos los francese encontraron compatriota_muerto cuero_cabelludo culpando washington retirado fort_necessity"
        ],
        [
         "28403",
         "124945",
         "T_EN_0_12",
         "George Washington El resto del Regimiento de Virginia se unió a Washington al mes siguiente con la noticia de que había sido ascendido al rango de coronel y dado el mando del regimiento completo Fueron reforzados por una compañía independiente de cien carolinas del sur dirigida por el capitán James Mackay; su comisión real superó el rango de Washington y un conflicto de mando siguió El 3 de julio, 900 soldados franceses atacaron Fort Necessity, y la batalla terminó en la rendición de Washington Washington no hablaba francés, pero firmó un documento de rendición en el que, inconscientemente, asumió la responsabilidad de \"asesinar\" a Jumonville, después culpando al traductor por no traducirlo correctamente. El Regimiento de Virginia fue dividido y Washington fue ofrecido una capitanía en uno de los regimientos recién formados Se negó, ya que habría sido un descenso —los británicos habían ordenado que los \"coloniales\" no pudieran ser clasificados como más altos que el capitán— y en su lugar renunció a su comisión El asunto Jumonville se convirtió en el incidente que encendió la guerra francesa e india.",
         "george_washington el resto regimiento virginia unió washington mes noticia ascendido_rango coronel mando_regimiento completo fueron reforzado compañía independiente cien carolinas sur dirigida_capitán james_mackay comisión real superó rango washington conflicto mando siguió el julio soldado francese atacaron_fort necessity batalla terminó_rendición washington washington hablaba_francés firmó_documento rendición inconscientemente responsabilidad asesinar jumonville culpando traductor traducirlo correctamente el regimiento virginia dividido washington ofrecido capitanía regimientos recién_formado se negó descenso británicos ordenado coloniale pudieran clasificado altos capitán renunció_comisión el jumonville convirtió incidente guerra francesa_india"
        ],
        [
         "28404",
         "124946",
         "T_EN_0_13",
         "George Washington En 1755, Washington se ofreció como asistente del general Edward Braddock, quien encabezó una expedición británica para expulsar a los franceses de Fort Duquesne y Ohio Country. Por recomendación de Washington, Braddock dividió el ejército en una columna principal y una \"columna voladora\" más pequeña. Washington sufría de disentería severa por lo que inicialmente no viajaba con las fuerzas de la expedición Cuando se reunió con Braddock en Monongahela, todavía muy enfermo, los franceses y sus aliados indios emboscaron al ejército dividido Dos tercios de la fuerza británica se convirtieron en víctimas en la batalla de Monongahela, y Braddock fue asesinado Bajo el mando del Teniente Coronel Thomas Gage, Washington reunió a los sobrevivientes y formó una retaguardia, permitiendo que los restos de la fuerza se retiraran. Durante el compromiso, Washington tenía dos caballos disparados desde debajo de él, y su sombrero y abrigo fueron perforados por balas Su conducta redimió su reputación entre los críticos de su mando en la Batalla de Fort Necessity, pero no fue incluido por el siguiente comandante (Coronel Thomas Dunbar) en la planificación de operaciones posteriores.",
         "george_washington en washington ofreció asistente edward_braddock encabezó_expedición británica expulsar_franceses fort_duquesne ohio_country por_recomendación washington braddock_dividió ejército columna principal columna_voladora pequeña washington sufría disentería_severa inicialmente viajaba fuerzas expedición cuando reunió braddock monongahela enfermo franceses_aliado indios emboscaron ejército dividido tercio fuerza_británica convirtieron_víctimas batalla_monongahela braddock asesinado bajo_mando teniente_coronel thomas_gage washington reunió sobreviviente formó_retaguardia permitiendo restos fuerza_retiraran durante compromiso washington do caballo disparados sombrero abrigo perforado su conducta redimió reputación críticos mando batalla_fort necessity incluido comandante coronel thomas_dunbar planificación operaciones posteriore"
        ],
        [
         "28405",
         "124947",
         "T_EN_0_14",
         "George Washington El Regimiento de Virginia fue reconstituido en agosto de 1755, y Dinwiddie nombró a Washington su comandante, de nuevo con el rango de coronel Washington se enfrentó por antigüedad casi de inmediato, esta vez con el capitán John Dagworthy, quien comandaba un destacamento de Marylanders en el cuartel general del regimiento en Fort Cumberland Washington, impaciente por una ofensiva contra Fort Duquesne, estaba convencido de que Braddock le habría concedido una comisión real y presionó su caso en febrero de 1756 con el sucesor de Braddock como Comandante en Jefe, William Shirley, y de nuevo en enero de 1757 con el sucesor de Shirley, Lord Loudoun Loudoun humilló a Washington, le negó una comisión real, y sólo acordó relevarlo de la responsabilidad de ocupar Fort Cumberland.",
         "george_washington el regimiento virginia reconstituido agosto dinwiddie_nombró washington comandante rango_coronel washington enfrentó antigüedad inmediato capitán john dagworthy comandaba destacamento marylanders cuartel_regimiento fort_cumberland washington impaciente ofensiva fort_duquesne convencido braddock concedido comisión real presionó caso febrero sucesor braddock comandante_jefe william_shirley enero sucesor shirley lord_loudoun loudoun humilló washington negó comisión real acordó relevarlo responsabilidad ocupar fort_cumberland"
        ],
        [
         "28406",
         "124948",
         "T_EN_0_15",
         "George Washington En 1758, el Regimiento de Virginia fue asignado a la Expedición Británica de Forbes para capturar Fort Duquesne El general John Forbes siguió el consejo de Washington sobre algunos aspectos de la expedición, pero rechazó su opinión sobre la mejor ruta hacia el fuerte Forbes, sin embargo, hizo de Washington un brigadier general breve y le dio el mando de una de las tres brigadas que fue asignado para atacar el fuerte Los franceses habían abandonado el fuerte y el valle antes del asalto, sin embargo, y Washington sólo vio un incidente de fuego amistoso que dejó 14 muertos y 26 heridos Frustrado, renunció a su comisión poco después y regresó al Monte Vernon.",
         "george_washington en regimiento virginia asignado expedición_británica forbes capturar_fort duquesne el john_forbes siguió consejo washington aspectos expedición rechazó opinión ruta fuerte forbes washington brigadier_mando tre brigadas asignado atacar fuerte los francese abandonado fuerte valle asalto washington vio incidente_fuego amistoso muerto_heridos frustrado renunció_comisión despué regresó monte_vernon"
        ],
        [
         "28407",
         "124949",
         "T_EN_0_16",
         "George Washington Bajo Washington, el Regimiento de Virginia había defendido 300 millas (480 km) de frontera contra veinte ataques indios en diez meses. Incrementó la profesionalidad del regimiento ya que creció de 300 a 1.000 hombres Aunque no se dio cuenta de una comisión real, que lo hizo hostil hacia los británicos, ganó confianza en sí mismo, habilidades de liderazgo y conocimiento de las tácticas militares británicas La competencia destructiva que Washington presenció entre los políticos coloniales fomentó su posterior apoyo a un gobierno central fuerte.",
         "george_washington bajo washington regimiento virginia defendido milla_km frontera veinte ataque indios diez_mese incrementó profesionalidad regimiento creció hombre aunque comisión real hostil británicos ganó_confianza habilidade liderazgo conocimiento tácticas_militare británicas la competencia destructiva washington presenció políticos coloniale fomentó posterior apoyo gobierno_central fuerte"
        ],
        [
         "28408",
         "124950",
         "T_EN_0_17",
         "George Washington El 6 de enero de 1759, Washington, a los 26 años, se casó con Martha Dandridge Custis, la viuda de 27 años del rico dueño de la plantación Daniel Parke Custis Martha era inteligente, amable y experimentada en la gestión de la propiedad de un plantador, y la pareja tuvo un matrimonio feliz Vivían en Mount Vernon, donde Washington cultivaba tabaco y trigo El matrimonio le dio a Washington control sobre el interés de una tercera parte de la dote de Martha en el patrimonio Custis de 7300 hectáreas, y él dirigió los dos tercios restantes para los hijos de Martha. Como resultado, se convirtió en uno de los hombres más ricos de Virginia, lo que aumentó su posición social.",
         "george_washington el enero washington años casó martha_dandridge custis viuda años rico_dueño daniel_parke custis_martha inteligente amable experimentada gestión propiedad plantador pareja matrimonio_feliz vivían mount_vernon washington cultivaba_tabaco trigo el matrimonio washington control interés dote martha patrimonio custis hectárea dirigió do_tercio restante hijos_martha como_resultado convirtió hombres_ricos virginia aumentó posición social"
        ],
        [
         "28409",
         "124951",
         "T_EN_0_18",
         "George Washington A instancias de Washington, el Gobernador Lord Botetourt cumplió la promesa de Dinwiddie de 1754 de conceder beneficios de tierras a aquellos que sirvieron con milicias voluntarias durante la Guerra de Francia e India. A finales de 1770, Washington inspeccionó las tierras en las regiones de Ohio y Gran Kanawha, y contrató al agrimensor William Crawford para subdividirla. Crawford asignó 9.400 hectáreas a Washington, quien les dijo a los veteranos que sus tierras no eran adecuadas para la agricultura y accedió a comprar 8.153 hectáreas, lo que dejó la sensación de que habían sido engañados. También duplicó el tamaño del monte Vernon a 6.500 acres (2.600 hectáreas) y, para 1775, había más del doble de su población de esclavos a más de cien.",
         "george_washington instancias washington gobernador lord_botetourt cumplió_promesa dinwiddie conceder beneficios tierras sirvieron_milicias voluntarias guerra francia india finale washington_inspeccionó tierras regione ohio gran kanawha contrató agrimensor william_crawford subdividirla crawford asignó hectárea washington veteranos tierras adecuadas agricultura accedió comprar_hectárea sensación engañado también duplicó_tamaño monte_vernon acre_hectárea doble población cien"
        ],
        [
         "28410",
         "124952",
         "T_EN_0_19",
         "George Washington Como un respetado héroe militar y gran terrateniente, Washington ocupó cargos locales y fue elegido para la legislatura provincial de Virginia, representando al Condado Frederick en la Casa de Virginia de Burgesses durante siete años a partir de 1758 Al principio de su carrera legislativa, Washington rara vez habló en las sesiones legislativas o incluso asistió a ellas, pero fue más activo políticamente a partir de la década de 1760, convirtiéndose en un destacado crítico de las políticas tributarias y mercantilistas británicas hacia las colonias americanas. Washington importó artículos de lujo de Inglaterra, pagando por ellos exportando tabaco Su derroche de gastos combinado con los bajos precios del tabaco le dejó 1.800 libras en deuda para 1764 La total dependencia de Washington en el comprador y comerciante de tabaco de Londres Robert Cary también amenazó su seguridad económica Entre 1764 y 1766, trató de diversificar sus explotaciones: cambió el principal cultivo comercial de Mount Vernon del tabaco al trigo y amplió las operaciones para incluir la molienda de harina y la cría de cáñamo Patsy, hijastra de Washington, sufrió ataques epilépticos, y murió en Mount Vernon en 1773, permitiendo a Washington utilizar parte de la herencia de su patrimonio para saldar sus deudas.",
         "george_washington como respetado héroe_militar terrateniente washington ocupó_cargo locale elegido_legislatura provincial virginia representando condado_frederick casa virginia burgesses años al_principio carrera legislativa washington rara_habló sesiones_legislativas activo_políticamente década convirtiéndose destacado crítico políticas tributaria mercantilistas británicas colonias_americanas washington importó artículos_lujo inglaterra pagando exportando tabaco su derroche_gasto combinado bajos_precios tabaco libra deuda la dependencia washington comprador comerciante londres robert_cary amenazó seguridad_económica entre diversificar explotacione cambió principal_cultivo comercial mount_vernon tabaco_trigo amplió operaciones incluir molienda_harina cría_cáñamo patsy hijastra washington sufrió_ataque epiléptico murió mount_vernon permitiendo washington utilizar herencia_patrimonio saldar_deuda"
        ],
        [
         "28411",
         "124953",
         "T_EN_0_2",
         "George Washington Washington fue elegido presidente por unanimidad por el Colegio Electoral en 1788 y de nuevo en 1792 Como el primer U.S. presidente, implementó un gobierno nacional fuerte y bien financiado mientras permanecía imparcial en la feroz rivalidad que surgió dentro de su gabinete entre Thomas Jefferson y Alexander Hamilton Durante la Revolución Francesa, proclamó una política de neutralidad mientras apoyaba el Tratado Jay con Gran Bretaña Washington sentó precedentes perdurables para el cargo de presidente, incluyendo el republicanismo, una transferencia pacífica del poder, el uso del título \"Mr. Presidente\", y la tradición de dos períodos Su discurso de despedida de 1796 se convirtió en una declaración preeminente sobre el republicanismo: Washington escribió acerca de la importancia de la unidad nacional y los peligros que el regionalismo, el partidismo y la influencia extranjera le plantean Como plantador de tabaco y trigo en Mount Vernon, Washington era dueño de muchos esclavos Comenzó a oponerse a la esclavitud cerca del final de su vida, y proveyó en su voluntad para la manipulación de sus esclavos.",
         "george_washington washington elegido_presidente unanimidad colegio_electoral como presidente implementó gobierno nacional fuerte financiado permanecía imparcial feroz_rivalidad surgió gabinete thomas_jefferson alexander_hamilton durante revolución_francesa política_neutralidad tratado_jay gran_bretaña washington sentó_precedente perdurable cargo presidente incluyendo republicanismo transferencia_pacífica título presidente tradición período su discurso_despedida convirtió declaración preeminente republicanismo washington escribió_acerca importancia unidad nacional peligros regionalismo partidismo influencia_extranjera plantean como plantador_tabaco trigo mount_vernon washington dueño comenzó oponerse_esclavitud vida proveyó voluntad manipulación"
        ],
        [
         "28412",
         "124954",
         "T_EN_0_20",
         "George Washington Washington se opuso a los impuestos que el Parlamento británico impuso a las Colonias sin una representación adecuada Creyó que la Stamp Act 1765 era opresiva y celebró su derogación al año siguiente. En respuesta a las Leyes Townshend, presentó una propuesta en mayo de 1769 que instaba a los virgineros a boicotear los bienes británicos; las Leyes Townshend fueron revocadas en su mayoría en 1770. Washington y otros colonos también se enojaron por la Proclamación Real de 1763 (que prohibió el asentamiento estadounidense al oeste de las montañas Allegheny) y la injerencia británica en la especulación estadounidense de tierras occidentales (en la que Washington participó).",
         "george_washington washington opuso impuesto parlamento_británico impuso colonias representación_adecuada creyó stamp_act opresiva celebró derogación año respuesta leyes_townshend presentó_propuesta mayo instaba virgineros boicotear_biene británicos leyes_townshend revocadas mayoría washington colonos enojaron proclamación_real prohibió_asentamiento estadounidense oeste_montañas allegheny injerencia británica especulación estadounidense tierras_occidentales washington participó"
        ],
        [
         "28413",
         "124955",
         "T_EN_0_21",
         "George Washington El Parlamento trató de castigar a los colonos de Massachusetts por su papel en el Boston Tea Party en 1774 aprobando las leyes coercitivas, que Washington vio como \"una invasión de nuestros derechos y privilegios\" En julio, él y George Mason redactaron una lista de resoluciones para el comité del condado de Fairfax, incluyendo un llamamiento para poner fin a la trata de esclavos del Atlántico; las resoluciones fueron aprobadas En agosto, Washington asistió a la Primera Convención de Virginia y fue seleccionado como delegado en el Primer Congreso Continental A medida que las tensiones aumentaron en 1774, ayudó a entrenar a las milicias en Virginia y organizó la aplicación del boicot de la Asociación Continental a los bienes británicos instituido por el Congreso.",
         "george_washington el parlamento castigar colonos massachusetts papel boston_tea party aprobando_leyes coercitivas washington vio invasión derechos privilegio en julio george_mason redactaron lista resoluciones comité condado_fairfax incluyendo llamamiento atlántico resolucione aprobadas en agosto washington primera convención virginia seleccionado_delegado primer_congreso continental medida tensiones_aumentaron ayudó entrenar_milicias virginia organizó aplicación boicot asociación_continental biene_británicos instituido congreso"
        ],
        [
         "28414",
         "124956",
         "T_EN_0_22",
         "George Washington La Guerra Revolucionaria Americana estalló el 19 de abril de 1775 Washington partió apresuradamente de Mount Vernon el 4 de mayo para unirse al Segundo Congreso Continental en Filadelfia El 14 de junio, el Congreso creó el Ejército Continental y John Adams nominó a Washington como su comandante en jefe, principalmente debido a su experiencia militar y la creencia de que un Virginiano uniría mejor las colonias Fue elegido unánimemente por el Congreso al día siguiente Washington dio un discurso de aceptación el 16 de junio, declinando un salario, aunque más tarde se le reembolsaron los gastos.",
         "george_washington la guerra_revolucionaria americana_estalló abril washington partió mount_vernon mayo unirse segundo_congreso continental filadelfia el junio congreso creó ejército_continental john_adams nominó washington comandante_jefe experiencia_militar creencia virginiano uniría colonias fue_elegido unánimemente congreso washington discurso_aceptación junio declinando salario reembolsaron gasto"
        ],
        [
         "28415",
         "124957",
         "T_EN_0_23",
         "George Washington El Congreso eligió a los oficiales principales de Washington, incluyendo Artemas Ward, Horatio Gates, Charles Lee, Philip Schuyler y Nathanael Greene Henry Knox impresionó a Adams y Washington con su conocimiento de la munición y fue ascendido a coronel y jefe de artillería De manera similar, Washington quedó impresionado por la inteligencia y la valentía de Alexander Hamilton; más tarde ascendería a Hamilton a coronel y lo nombraría su ayudante de campo.",
         "george_washington el congreso eligió oficiales principale washington incluyendo artemas_ward horatio_gates charles_lee philip_schuyler nathanael_greene henry_knox impresionó adams washington conocimiento munición ascendido_coronel jefe_artillería de_similar washington impresionado inteligencia_valentía alexander_hamilton ascendería hamilton coronel nombraría ayudante_campo"
        ],
        [
         "28416",
         "124958",
         "T_EN_0_24",
         "George Washington Washington prohibió inicialmente el alistamiento de soldados negros, tanto libres como esclavizados Los británicos vieron una oportunidad de dividir las colonias: el gobernador colonial de Virginia emitió una proclamación prometiendo libertad a los esclavos si se unían a las fuerzas británicas En respuesta a esta proclamación y a la necesidad de tropas, Washington pronto revocó su prohibición Al final de la guerra, alrededor de una décima parte de los soldados del Ejército Continental eran negros, con algunos obteniendo libertad.",
         "george_washington washington prohibió inicialmente alistamiento negros_libre esclavizado los británicos vieron_oportunidad dividir_colonias gobernador colonial virginia emitió_proclamación prometiendo_libertad unían fuerzas_británicas respuesta proclamación tropa washington revocó_prohibición al guerra décima soldados ejército_continental negros obteniendo libertad"
        ],
        [
         "28417",
         "124959",
         "T_EN_0_25",
         "George Washington En abril de 1775, en respuesta al creciente movimiento rebelde, las tropas británicas ocuparon Boston, encabezadas por el general Thomas Gage, comandante de las fuerzas británicas en América. Las milicias locales rodearon la ciudad y atraparon a las tropas británicas, resultando en un enfrentamiento Mientras Washington se dirigía a Boston, fue recibido por multitudes de vítores y ceremonia política; se convirtió en un símbolo de la causa Patriota A la llegada de Washington el 2 de julio, fue a inspeccionar el ejército, pero encontró milicias indisciplinadas. Después de la consulta, inició las reformas sugeridas por Benjamin Franklin, instituyendo ejercicios militares e imponiendo estrictas medidas disciplinarias. Washington promovió a algunos de los soldados que habían actuado bien en Bunker Hill a rango de oficiales, y destituyó a los oficiales que él consideraba incompetentes En octubre, el rey Jorge III declaró que las colonias estaban en abierta rebelión y relevaron a Gage de mando, reemplazándolo con el general William Howe.",
         "george_washington en abril respuesta_creciente movimiento rebelde tropas_británicas ocuparon boston encabezada thomas_gage comandante fuerzas_británicas américa las milicias_locale rodearon_ciudad atraparon tropas_británicas resultando enfrentamiento mientras washington dirigía boston recibido multitude vítores ceremonia política convirtió_símbolo causa_patriota llegada washington julio inspeccionar ejército encontró milicias indisciplinadas después consulta inició_reformas sugeridas benjamin_franklin instituyendo ejercicio_militare imponiendo estrictas_medidas disciplinaria washington promovió soldados actuado bunker_hill oficiales destituyó oficiales consideraba incompetente en octubre rey_jorge iii declaró colonias abierta_rebelión relevaron gage mando reemplazándolo_william howe"
        ],
        [
         "28418",
         "124960",
         "T_EN_0_26",
         "George Washington Cuando el río Charles se congeló, Washington estaba ansioso por cruzar y asaltar Boston, pero Gates y otros se opusieron a que la milicia no entrenada intentara atacar fortificaciones bien asentadas. En lugar de eso, Washington accedió a asegurar el Dorchester Heights sobre Boston para tratar de forzar a los británicos a salir. El 17 de marzo, 8.906 tropas británicas, 1.100 leales y 1.220 mujeres y niños iniciaron una evacuación naval caótica Washington entró en la ciudad con 500 hombres, dándoles órdenes explícitas de no saquear Se abstuvo de ejercer autoridad militar en Boston, dejando asuntos civiles en manos de las autoridades locales.",
         "george_washington cuando río charles congeló washington ansioso cruzar asaltar boston gates opusieron milicia_entrenada intentara atacar fortificacione asentadas washington accedió asegurar dorchester_heights boston tratar_forzar británicos salir el marzo tropas británica leale mujere_niños iniciaron evacuación naval caótica washington entró ciudad hombre dándole órdene explícitas saquear se_abstuvo ejercer_autoridad militar boston dejando asunto_civile manos autoridades_locale"
        ],
        [
         "28419",
         "124961",
         "T_EN_0_27",
         "George Washington Después de la victoria en Boston, Washington adivinó correctamente que los británicos volverían a la ciudad de Nueva York y tomarían represalias Llegó allí el 13 de abril de 1776, y ordenó la construcción de fortificaciones También ordenó a sus fuerzas que trataran a los civiles y sus bienes con respeto, para evitar los abusos que sufrieron los bostonianos a manos de las tropas británicas. Las fuerzas británicas, incluyendo más de cien barcos y miles de tropas, comenzaron a llegar a Staten Island en julio para sitiar la ciudad.",
         "george_washington después victoria boston washington adivinó correctamente británicos_volverían ciudad_nueva york tomarían represalia llegó abril ordenó_construcción fortificacione también ordenó fuerzas trataran civiles_biene respeto evitar_abusos sufrieron bostonianos manos tropas_británicas las fuerzas_británicas incluyendo cien barcos miles tropa comenzaron_llegar staten_island julio_sitiar ciudad"
        ],
        [
         "28420",
         "124962",
         "T_EN_0_28",
         "George Washington Los efectivos de Howe sumaron 32.000 regulares y auxiliares de Hessian; Washington tenía 23.000 hombres, en su mayoría reclutas no entrenados y milicianos En agosto, Howe aterrizó 20.000 tropas en Gravesend, Brooklyn, y se acercó a las fortificaciones de Washington Superando a sus generales, Washington optó por luchar, basándose en información inexacta de que el ejército de Howe sólo tenía alrededor de 8.000 soldados. En la batalla de Long Island, Howe asaltó el flanco de Washington e infligió 1.500 bajas Patriotas Washington se retiró a Manhattan.",
         "george_washington los howe sumaron regulare auxiliare_hessian washington hombre mayoría recluta entrenado milicianos en agosto howe_aterrizó tropa gravesend_brooklyn acercó fortificacione washington superando generale washington optó_luchar basándose_información inexacta ejército howe soldado long_island howe asaltó flanco washington infligió_bajas patriotas washington retiró manhattan"
        ],
        [
         "28421",
         "124963",
         "T_EN_0_29",
         "George Washington Howe envió un mensaje a Washington para negociar la paz, dirigiéndose a él como \"George Washington, Esq\". Washington se negó a aceptar el mensaje, exigiendo ser abordado con protocolo diplomático, no como un rebelde A pesar de sus dudas, Washington prestó atención al consejo del General Greene de defender Fort Washington, pero finalmente se vio obligado a abandonarlo. Howe persiguió y Washington se retiró a través del río Hudson hacia Fort Lee En noviembre, Howe capturó Fort Washington Los leales de la ciudad de Nueva York consideraron a Howe un liberador y difundieron el rumor de que Washington había incendiado la ciudad. Ahora reducido a 5.400 soldados, el ejército de Washington se retiró a través de Nueva Jersey.",
         "george_washington howe_envió mensaje washington negociar_paz dirigiéndose george_washington esq washington negó_aceptar mensaje exigiendo abordado protocolo_diplomático rebelde duda washington prestó_atención consejo general_greene defender fort_washington finalmente vio_obligado abandonarlo howe_persiguió washington retiró río_hudson fort_lee en noviembre howe capturó_fort washington los leales ciudad_nueva york consideraron howe liberador difundieron_rumor washington incendiado ciudad ahora reducido soldado ejército washington retiró nueva_jersey"
        ],
        [
         "28422",
         "124964",
         "T_EN_0_3",
         "George Washington La imagen de Washington es un icono de la cultura estadounidense y ha sido ampliamente conmemorado; sus nombres incluyen la capital nacional y el Estado de Washington Tanto en las encuestas populares como en las académicas, es considerado uno de los presidentes más grandes de la historia estadounidense.",
         "george_washington la imagen washington icono cultura estadounidense ampliamente conmemorado nombre incluyen capital nacional estado washington tanto encuestas_populare académicas considerado presidentes grande historia estadounidense"
        ],
        [
         "28423",
         "124965",
         "T_EN_0_30",
         "George Washington Washington cruzó el río Delaware hacia Pensilvania, donde el general John Sullivan se unió a él con 2.000 tropas más. El futuro del Ejército Continental estaba en duda debido a la falta de suministros, un invierno duro, alistamientos que terminaban, y deserciones Howe publicó una guarnición de Hessian en Trenton para celebrar el oeste de Nueva Jersey y la costa este del Delaware Al amanecer del 26 de diciembre de 1776, Washington, ayudado por el coronel Knox y la artillería, dirigió a sus hombres en un exitoso ataque sorpresa contra los hessianos.",
         "george_washington washington_cruzó río_delaware pensilvania john_sullivan unió tropa el futuro ejército_continental duda falta_suministros invierno_duro alistamiento terminaban desercione howe publicó guarnición hessian_trenton celebrar oeste nueva_jersey costa delaware al_amanecer diciembre washington ayudado coronel knox_artillería dirigió hombre exitoso ataque_sorpresa hessianos"
        ],
        [
         "28424",
         "124966",
         "T_EN_0_31",
         "George Washington Washington regresó a Nueva Jersey el 3 de enero de 1777, lanzando un ataque contra los regulares británicos en Princeton, con 40 estadounidenses muertos o heridos y 273 británicos muertos o capturados Howe se retiró a Nueva York para el invierno Washington tomó la sede de invierno en Morristown, Nueva Jersey Estratégicamente, las victorias de Washington en Trenton y Princeton fueron fundamentales: revivieron la moral de Patriot y anularon la estrategia británica de mostrar una fuerza abrumadora seguida de ofrecer términos generosos, cambiando el curso de la guerra.",
         "george_washington washington regresó nueva_jersey enero lanzando_ataque regulares_británicos princeton estadounidense muerto_heridos británicos muerto capturado howe retiró nueva_york invierno washington tomó sede invierno_morristown nueva_jersey estratégicamente victorias washington trenton_princeton fundamentale revivieron moral_patriot anularon estrategia_británica mostrar fuerza_abrumadora seguida ofrecer término_generosos cambiando curso guerra"
        ],
        [
         "28425",
         "124967",
         "T_EN_0_32",
         "George Washington En julio de 1777, el general británico John Burgoyne dirigió sus tropas británicas al sur de Quebec en la campaña de Saratoga; recapturó Fort Ticonderoga, con la intención de dividir Nueva Inglaterra Sin embargo, el general Howe llevó su ejército de la ciudad de Nueva York al sur de Filadelfia en lugar de unirse a Burgoyne cerca de Albany Washington y Gilbert, el marqués de Lafayette se precipitó a Filadelfia para involucrar a Howe En la batalla de Brandywine el 11 de septiembre de 1777, Howe superó a Washington y marchó sin oposición a la capital estadounidense en Filadelfia Un ataque Patriota contra los británicos en Germantown en octubre fracasó.",
         "george_washington en julio británico john_burgoyne dirigió tropas_británicas sur quebec campaña_saratoga recapturó fort_ticonderoga intención_dividir nueva_inglaterra howe llevó ejército ciudad_nueva york sur filadelfia unirse_burgoyne albany washington gilbert marqués_lafayette precipitó filadelfia involucrar howe en brandywine_septiembre howe_superó washington marchó_oposición capital estadounidense filadelfia un ataque patriota británicos germantown_octubre fracasó"
        ],
        [
         "28426",
         "124968",
         "T_EN_0_33",
         "George Washington En el norte de Nueva York, los Patriotas fueron dirigidos por el General Horatio Gates. Preocupado por los movimientos de Burgoyne hacia el sur, Washington envió refuerzos al norte con los generales Benedict Arnold y Benjamin Lincoln El 7 de octubre de 1777, Burgoyne intentó tomar Bemis Heights, pero fue aislado del apoyo y obligado a rendirse La victoria de Gates envalentonó a los críticos de Washington, que favoreció a Gates como líder militar Según el biógrafo John Alden, \"era inevitable que se compararan las derrotas de las fuerzas de Washington y la victoria concurrente de las fuerzas en la parte alta de Nueva York\". La admiración por Washington estaba disminuyendo.",
         "george_washington en norte nueva_york patriotas dirigido general_horatio gates preocupado movimiento burgoyne sur washington envió_refuerzos norte benedict_arnold benjamin_lincoln el burgoyne intentó_tomar bemis_heights aislado apoyo obligado_rendirse la victoria gates envalentonó críticos washington favoreció gates líder militar según_biógrafo john_alden inevitable compararan derrotas_fuerzas washington victoria concurrente fuerzas alta nueva_york la admiración washington disminuyendo"
        ],
        [
         "28427",
         "124969",
         "T_EN_0_34",
         "George Washington Washington y su ejército de 11.000 hombres entraron en los cuarteles de invierno en Valley Forge, al norte de Filadelfia, en diciembre de 1777. Allí perdieron entre 2.000 y 3.000 hombres como consecuencia de enfermedades y falta de alimentos, ropa y refugio, reduciendo el ejército a menos de 9.000 hombres En febrero, Washington se enfrentaba a una baja moral de las tropas y a un aumento de las deserciones Una revuelta interna de sus oficiales llevó a algunos miembros del Congreso a considerar quitar a Washington del mando Los partidarios de Washington se resistieron, y el asunto fue finalmente abandonado.",
         "george_washington washington ejército hombre entraron cuarteles_invierno valley_forge norte filadelfia diciembre allí perdieron hombre consecuencia enfermedade falta alimento_ropa refugio reduciendo ejército hombre en febrero washington enfrentaba baja_moral tropas aumento deserciones una revuelta interna oficiale llevó miembros congreso considerar quitar washington mando los partidarios washington resistieron asunto finalmente_abandonado"
        ],
        [
         "28428",
         "124970",
         "T_EN_0_35",
         "George Washington Washington hizo reiteradas peticiones al Congreso de disposiciones y expresó la urgencia de la situación a una delegación del Congreso El Congreso acordó fortalecer las líneas de abastecimiento del ejército y reorganizar los departamentos de intendencia y economato, mientras que Washington lanzó el Gran Forraje de 1778 para recoger alimentos de la región circundante Mientras tanto, la incesante perforación del barón Friedrich Wilhelm von Steuben transformó a los reclutas de Washington en una fuerza de combate disciplinada Washington lo nombró Inspector General.",
         "george_washington washington reiterada peticione congreso disposicione urgencia_situación delegación congreso el congreso acordó fortalecer_líneas abastecimiento ejército reorganizar departamentos intendencia economato mientra washington lanzó gran forraje recoger alimentos región_circundante mientras incesante_perforación barón_friedrich wilhelm_von steuben transformó reclutas washington fuerza_combate disciplinada washington nombró_inspector general"
        ],
        [
         "28429",
         "124971",
         "T_EN_0_36",
         "George Washington A principios de 1778, los franceses entraron en un Tratado de Alianza con los americanos En mayo, Howe renunció y fue reemplazado por Sir Henry Clinton Los británicos evacuaron Filadelfia a Nueva York que junio y Washington convocaron un consejo de guerra de generales americanos y franceses Eligió ordenar una huelga limitada a los británicos en retirada. Los generales Lee y Lafayette se mudaron con 4.000 hombres, sin el conocimiento de Washington, y empuñaron su primera huelga el 28 de junio Washington relevó a Lee y logró un empate después de una batalla expansiva Los británicos continuaron su retiro a Nueva York",
         "george_washington principio franceses_entraron tratado_alianza americanos en mayo howe_renunció reemplazado_sir henry_clinton los británicos_evacuaron filadelfia nueva_york junio washington convocaron_consejo guerra francese eligió ordenar huelga limitada británicos retirada los generale lee lafayette mudaron hombre conocimiento washington empuñaron huelga junio washington_relevó lee logró empate batalla expansiva los británicos continuaron retiro nueva_york"
        ],
        [
         "28430",
         "124972",
         "T_EN_0_37",
         "George Washington Esta batalla \"marcó el fin de la campaña de la guerra en los estados del norte y medio Washington no volvería a luchar contra los británicos en un gran compromiso durante más de tres años\" A finales de 1778, el general Clinton capturó Savannah, Georgia, un puerto clave en el sur de América. Washington, mientras tanto, ordenó una expedición contra los iroqueses, los aliados indígenas de los británicos, destruyendo sus aldeas.",
         "george_washington esta batalla marcó campaña guerra norte washington volvería luchar británicos compromiso años finale clinton capturó_savannah georgia puerto clave sur américa washington mientra ordenó expedición iroquese aliados_indígenas británicos destruyendo_aldeas"
        ],
        [
         "28431",
         "124973",
         "T_EN_0_38",
         "George Washington Washington se convirtió en el primer maestro espía de Estados Unidos al diseñar un sistema de espionaje contra los británicos En 1778, el Mayor Benjamin Tallmadge formó el Anillo Culper en la dirección de Washington para recopilar encubiertamente información sobre los británicos en Nueva York La inteligencia del Culper Ring salvó a las fuerzas francesas de un ataque británico sorpresa, que fue en sí mismo basado en la inteligencia del general de Washington convertido en espía británico Benedict Arnold.",
         "george_washington washington convirtió maestro_espía estados_unidos diseñar sistema_espionaje británicos en mayor_benjamin tallmadge formó anillo_culper dirección washington recopilar encubiertamente información británicos nueva_york la inteligencia culper ring salvó fuerzas_francesas ataque_británico sorpresa basado inteligencia washington convertido espía_británico benedict_arnold"
        ],
        [
         "28432",
         "124974",
         "T_EN_0_39",
         "George Washington Washington había hecho caso omiso de los incidentes de deslealtad de Arnold, que se había distinguido en muchas campañas, incluida la invasión de Quebec En 1779, Arnold comenzó a suministrar al maestro espía británico John André información sensible destinada a permitir a los británicos capturar West Point, una posición defensiva estadounidense clave en el río Hudson El 21 de septiembre, Arnoldo le dio a André planes para hacerse cargo de la guarnición André fue capturado por la milicia que descubrió los planes, después de lo cual Arnold escapó a Nueva York Al ser informado sobre la traición de Arnold, Washington recordó a los comandantes colocados bajo Arnold en puntos clave alrededor del fuerte para evitar cualquier complicidad Asumió el mando personal en West Point y reorganizó sus defensas.",
         "george_washington washington caso_omiso incidente deslealtad arnold distinguido campañas incluida invasión_quebec en arnold comenzó suministrar maestro_espía británico john_andré información sensible destinada permitir británicos capturar west_point posición_defensiva estadounidense clave río_hudson el septiembre arnoldo andré plane hacerse_cargo guarnición andré_capturado milicia descubrió plane arnold_escapó nueva_york al informado traición_arnold washington recordó comandantes colocado arnold punto clave fuerte evitar complicidad asumió_mando personal west_point reorganizó defensas"
        ],
        [
         "28433",
         "124975",
         "T_EN_0_4",
         "George Washington George Washington nació el 22 de febrero de 1732 en Popes Creek, en el condado de Westmoreland, Virginia. Fue el primero de seis hijos de Augustine y Mary Ball Washington Su padre era un juez de paz y una prominente figura pública que tuvo cuatro hijos adicionales desde su primer matrimonio con Jane Butler Washington no era cercano a su padre y rara vez lo mencionaba en años posteriores; tenía una relación fracciosa con su madre Entre sus hermanos, estaba particularmente cerca de su medio hermano mayor Lawrence.",
         "george_washington george_washington nació_febrero popes_creek condado_westmoreland virginia fue hijos augustine mary_ball washington su_padre juez_paz prominente figura_pública hijos adicionale matrimonio jane_butler washington cercano padre rara mencionaba años_posteriore relación_fracciosa madre entre hermano particularmente hermano_lawrence"
        ],
        [
         "28434",
         "124976",
         "T_EN_0_40",
         "George Washington En junio de 1780, los británicos habían ocupado el Piamonte de Carolina del Sur y tenían un control firme del Sur. Washington fue revigorizado, sin embargo, cuando Lafayette regresó de Francia con más barcos, hombres y suministros, y 5.000 veteranos soldados franceses dirigidos por el Mariscal Rochambeau llegaron a Newport, Rhode Island en julio.",
         "george_washington en junio británicos ocupado piamonte carolina_sur control firme sur washington revigorizado lafayette_regresó francia barcos hombre suministros veterano soldado francese dirigido_mariscal rochambeau llegaron newport_rhode island julio"
        ],
        [
         "28435",
         "124977",
         "T_EN_0_41",
         "George Washington El general Clinton envió a Arnold, ahora general británico de brigada, a Virginia en diciembre con 1.700 soldados para capturar Portsmouth y realizar incursiones contra las fuerzas Patriotas Washington envió a Lafayette al sur para contrarrestar los esfuerzos de Arnold Washington inicialmente esperaba llevar la lucha a Nueva York, alejando a las fuerzas británicas de Virginia y terminando la guerra allí, pero Rochambeau le aconsejó que Cornwallis en Virginia era el mejor objetivo El 19 de agosto de 1781, Washington y Rochambeau comenzaron una marcha a Yorktown, Virginia, conocida ahora como la \"marcha célebre\" Washington estaba al mando de un ejército de 7.800 franceses, 3.100 milicianos y 8.000 tropas continentales. Sin experiencia en la guerra de asedio, a menudo aplazó al juicio de Rochambeau A pesar de esto, Rochambeau nunca desafió la autoridad de Washington como oficial al mando de la batalla.",
         "george_washington el clinton envió arnold británico brigada virginia diciembre soldado capturar portsmouth incursiones fuerza patriotas washington envió lafayette sur contrarrestar_esfuerzos arnold washington inicialmente_esperaba lucha nueva_york alejando fuerzas_británicas virginia terminando guerra rochambeau aconsejó cornwallis virginia objetivo el agosto washington_rochambeau comenzaron marcha yorktown_virginia conocida marcha célebre washington mando ejército francese milicianos tropa continentale experiencia guerra asedio aplazó juicio rochambeau_rochambeau desafió washington oficial_mando batalla"
        ],
        [
         "28436",
         "124978",
         "T_EN_0_42",
         "George Washington A finales de septiembre, las fuerzas patriota-francesas rodearon Yorktown, atrapando al ejército británico, mientras que la armada francesa salió victoriosa en la batalla del Chesapeake La ofensiva estadounidense final comenzó con un disparo de Washington El asedio terminó con una rendición británica el 19 de octubre de 1781; más de 7.000 soldados británicos se convirtieron en prisioneros de guerra Washington negoció los términos de la rendición durante dos días, y la ceremonia oficial de la firma tuvo lugar el 19 de octubre Aunque el tratado de paz no se negoció durante dos años más, Yorktown resultó ser la última batalla significativa de la Guerra Revolucionaria, con el Parlamento británico acordando poner fin a las hostilidades en marzo de 1782.",
         "george_washington finale septiembre fuerzas patriota francesas_rodearon yorktown atrapando_ejército británico mientra armada_francesa salió_victoriosa batalla_chesapeake la ofensiva estadounidense comenzó disparo washington el asedio terminó_rendición británica soldado_británicos convirtieron_prisioneros guerra washington negoció_términos rendición do ceremonia oficial firma octubre aunque tratado_paz negoció do años yorktown resultó batalla significativa guerra_revolucionaria parlamento_británico acordando hostilidades"
        ],
        [
         "28437",
         "124979",
         "T_EN_0_43",
         "George Washington Cuando las negociaciones de paz comenzaron en abril de 1782, tanto los británicos como los franceses comenzaron a evacuar gradualmente sus fuerzas. En marzo de 1783, Washington calmó con éxito la conspiración de Newburgh, un motín planeado por oficiales estadounidenses insatisfechos con la falta de pago Washington presentó una cuenta de 450.000 dólares en gastos que había adelantado al ejército La cuenta se saldó, aunque era vaga en cuanto a grandes sumas e incluía los gastos en que había incurrido su esposa mediante visitas a su sede.",
         "george_washington cuando negociaciones_paz comenzaron abril británicos franceses_comenzaron evacuar gradualmente fuerza marzo washington calmó éxito conspiración_newburgh motín planeado oficiale estadounidense falta pago washington presentó dólare gasto adelantado ejército la saldó vaga suma incluía gastos_incurrido esposa visita sede"
        ],
        [
         "28438",
         "124980",
         "T_EN_0_44",
         "George Washington Cuando se firmó el Tratado de París el 3 de septiembre de 1783, Gran Bretaña reconoció oficialmente la independencia estadounidense Washington disolvió su ejército, dando un discurso de despedida a sus soldados el 2 de noviembre Supervisó la evacuación de las fuerzas británicas en Nueva York y fue recibido por desfiles y celebraciones.",
         "george_washington cuando firmó_tratado parís septiembre gran_bretaña reconoció_oficialmente independencia estadounidense washington disolvió ejército dando_discurso despedida soldados noviembre supervisó_evacuación fuerzas_británicas nueva_york desfile celebracione"
        ],
        [
         "28439",
         "124981",
         "T_EN_0_45",
         "George Washington A principios de diciembre de 1783, Washington se despidió de sus oficiales en Fraunces Tavern y renunció como comandante en jefe poco después En una última aparición en uniforme, dio una declaración al Congreso: \"Considero un deber indispensable cerrar este último acto solemne de mi vida oficial, al encomiar los intereses de nuestro querido país a la protección de Dios Todopoderoso, y de aquellos que tienen la superintendencia de ellos, a su santo cumplimiento.\" La renuncia de Washington fue aclamada en casa y en el extranjero, \"extollada por los historiadores posteriores como un acontecimiento señal que marcó el rumbo político del país\" según el historiador Edward J. Larson El mismo mes, Washington fue nombrado presidente general de la Sociedad de los Cincinnati, una fraternidad hereditaria recién establecida de oficiales de la Guerra Revolucionaria.",
         "george_washington washington oficiale_fraunces tavern renunció comandante_jefe despué en aparición uniforme declaración congreso considero_deber indispensable cerrar acto solemne vida oficial encomiar interese querido país dios_todopoderoso superintendencia santo cumplimiento la renuncia washington aclamada casa extranjero extollada historiadores posteriores señal marcó rumbo político país historiador edward larson el washington nombrado presidente sociedad_cincinnati fraternidad hereditaria recién_establecida oficiale guerra_revolucionaria"
        ],
        [
         "28440",
         "124982",
         "T_EN_0_46",
         "George Washington Después de pasar solo diez días en Mount Vernon después de 8+1⁄2 años de guerra, Washington estaba ansioso por volver a casa. Llegó en Nochebuena; Profesor John E. Ferling escribió que estaba encantado de estar \"libre del bullicio de un campamento y de las ajetreadas escenas de la vida pública\" Recibió un flujo constante de visitantes presentando sus respetos en Mount Vernon.",
         "george_washington después_pasar diez mount_vernon años guerra washington ansioso volver_casa llegó nochebuena profesor john ferling escribió encantado libre bullicio campamento ajetreadas escenas_vida pública recibió flujo_constante visitantes presentando respeto mount_vernon"
        ],
        [
         "28441",
         "124983",
         "T_EN_0_47",
         "George Washington Washington reactivó sus intereses en los proyectos del Gran Pantano Dismal y del Canal Potomac, iniciados antes de la guerra, aunque ninguno le dio dividendos En 1784 realizó un viaje de 34 días, de 1.090 km (680-millas) para comprobar sus propiedades en el país de Ohio. Supervisó la finalización de las obras de remodelación en el Monte Vernon, que transformó su residencia en la mansión que sobrevive hasta el día de hoy, aunque su situación financiera no era fuerte Los acreedores le pagaron en moneda depreciada en tiempo de guerra, y debía cantidades significativas en impuestos y salarios Mount Vernon no había obtenido ningún beneficio durante su ausencia, y vio rendimientos persistentemente pobres debido a la pestilencia y el mal tiempo Su patrimonio registró su undécimo año consecutivo con un déficit en 1787.",
         "george_washington washington reactivó interese proyecto gran_pantano dismal canal potomac iniciado guerra dividendo viaje km_millas comprobar propiedades país_ohio supervisó finalización obras remodelación monte_vernon transformó residencia mansión sobrevive situación_financiera fuerte los acreedore pagaron moneda_depreciada guerra debía cantidades_significativas impuestos salario mount_vernon obtenido_beneficio ausencia vio rendimientos persistentemente pobre pestilencia su patrimonio registró undécimo año_consecutivo déficit"
        ],
        [
         "28442",
         "124984",
         "T_EN_0_48",
         "George Washington Para hacer su finca rentable de nuevo, Washington emprendió un nuevo plan de paisajismo y logró cultivar una gama de árboles de rápido crecimiento y arbustos nativos También comenzó a criar mulas después de haber sido dotado de un semental por el rey Carlos III de España en 1785; creía que revolucionarían la agricultura.",
         "george_washington para finca washington plan paisajismo logró cultivar gama árboles rápido_crecimiento arbustos_también comenzó criar mulas dotado semental rey_carlos iii_españa creía revolucionarían agricultura"
        ],
        [
         "28443",
         "124985",
         "T_EN_0_49",
         "George Washington Antes de regresar a la vida privada en junio de 1783, Washington pidió una unión fuerte Aunque le preocupaba que pudiera ser criticado por inmiscuirse en asuntos civiles, envió una carta circular a los estados, sosteniendo que los Artículos de la Confederación no eran más que \"una cuerda de arena\" Creía que la nación estaba al borde de la \"anarquía y la confusión\", era vulnerable a la intervención extranjera, y que una constitución nacional unificaría a los estados bajo un gobierno central fuerte.",
         "george_washington antes regresar vida_privada junio washington pidió unión fuerte aunque preocupaba_pudiera criticado inmiscuirse asuntos_civile envió_carta circular sosteniendo artículos_confederación arena creía nación borde anarquía confusión vulnerable intervención_extranjera constitución nacional unificaría gobierno_central fuerte"
        ],
        [
         "28444",
         "124986",
         "T_EN_0_5",
         "George Washington La familia se mudó a una plantación en Little Hunting Creek en 1735 antes de establecerse en Ferry Farm cerca de Fredericksburg, Virginia, en 1738 Cuando Augustine murió en 1743, Washington heredó Ferry Farm y diez esclavos; Lawrence heredó Little Hunting Creek y lo renombró Mount Vernon Debido a la muerte de su padre, Washington no tenía la educación formal que sus hermanos mayores habían recibido en Appleby Grammar School en Inglaterra; en cambio, asistió a la Escuela de la Iglesia Baja en Hartfield Aprendió matemáticas y topografía de la tierra, y se convirtió en un dibujante talentoso y mapeador de mapas Al principio de la edad adulta, estaba escribiendo con lo que su biógrafo Ron Chernow describió como \"fuerza considerable\" y \"precisión\" De adolescente, Washington compiló más de cien reglas para la interacción social estilo Las Reglas de la Civilidad, copiado de una traducción al inglés de una guía francesa.",
         "george_washington la mudó_plantación little_hunting creek establecerse ferry_farm fredericksburg_virginia cuando augustine murió washington_heredó ferry_farm diez lawrence heredó little_hunting creek_renombró mount_vernon debido muerte padre washington educación_formal hermano_mayore recibido appleby grammar_school inglaterra cambio escuela iglesia baja_hartfield aprendió_matemáticas topografía tierra convirtió dibujante talentoso mapeador mapas al_principio edad_adulta escribiendo biógrafo_ron chernow_describió fuerza considerable precisión de_adolescente washington compiló cien reglas interacción_social estilo las_reglas civilidad copiado traducción_inglés guía francesa"
        ],
        [
         "28445",
         "124987",
         "T_EN_0_50",
         "George Washington Cuando la rebelión de Shays estalló en Massachusetts en agosto de 1786, Washington estaba convencido de que se necesitaba una constitución nacional Algunos nacionalistas temían que la nueva república hubiera descendido a la anarquía, y se reunieron el 11 de septiembre de 1786 en Anápolis para pedir al Congreso que revisara los Artículos de la Confederación Congreso acordó una Convención Constitucional que se celebrará en Filadelfia en 1787, con cada estado para enviar delegados Washington fue elegido para dirigir la delegación de Virginia, pero se negó Tenía preocupaciones sobre la legalidad de la convención y consultó a James Madison, Henry Knox y otros Lo convencieron de que asistiera, ya que sentían que su presencia podría inducir a los Estados reacios a enviar delegados y allanar el camino para el proceso de ratificación, al tiempo que daban legitimidad a la convención.",
         "george_washington cuando rebelión_shays estalló massachusetts agosto washington convencido_necesitaba constitución nacional algunos nacionalista temían república descendido anarquía reunieron septiembre anápolis pedir congreso_revisara artículos_confederación congreso acordó convención_constitucional filadelfia enviar_delegado washington elegido dirigir_delegación virginia negó tenía preocupacione legalidad convención consultó james_madison henry_knox lo convencieron asistiera sentían presencia inducir estados reacio_enviar delegado allanar camino proceso_ratificación daban legitimidad convención"
        ],
        [
         "28446",
         "124988",
         "T_EN_0_51",
         "George Washington Washington llegó a Filadelfia el 9 de mayo de 1787, y la asamblea comenzó el 25 de mayo. Benjamin Franklin nominó a Washington para presidir la reunión, y fue elegido por unanimidad El delegado Edmund Randolph presentó el Plan Virginia de Madison; pidió una constitución completamente nueva y un gobierno nacional soberano, que Washington recomendó encarecidamente Sin embargo, los detalles en torno a la representación fueron particularmente polémicos, lo que dio lugar a la presentación de un plan de Nueva Jersey en competencia El 10 de julio, Washington escribió a Alexander Hamilton: \"Casi desespero ver un tema favorable a los procedimientos de nuestra convención y por lo tanto me arrepiento de haber tenido cualquier agencia en el negocio.\" Sin embargo, prestó su prestigio a la labor de los otros delegados, cabildeando a muchos para apoyar la ratificación de la Constitución La versión final adoptó el Compromiso de Connecticut entre los dos planes, y fue firmado por 39 de 55 delegados el 17 de septiembre de 1787.",
         "george_washington washington filadelfia mayo asamblea comenzó mayo benjamin_franklin nominó washington presidir_reunión elegido_unanimidad el delegado edmund_randolph presentó_plan virginia madison pidió constitución completamente gobierno nacional soberano washington recomendó encarecidamente sin detalle torno representación particularmente polémicos_plan nueva_jersey competencia el julio washington escribió alexander_hamilton casi desespero tema procedimientos convención cualqui agencia negocio prestó_prestigio labor delegado cabildeando apoyar ratificación_constitución la versión adoptó_compromiso connecticut plane firmado delegado septiembre"
        ],
        [
         "28447",
         "124989",
         "T_EN_0_52",
         "George Washington Justo antes de la primera elección presidencial de 1789, en 1788 Washington fue nombrado canciller del Colegio de William & Mary Continuó sirviendo a través de su presidencia hasta su muerte Los delegados a la convención para la primera elección presidencial anticiparon una presidencia de Washington y se lo dejaron a él para definir el cargo una vez elegido Cuando los electores estatales votaron el 4 de febrero de 1789, Washington fue elegido por unanimidad, único entre Estados Unidos Presidentes John Adams fue elegido vicepresidente A pesar de escribir que sentía \"sensaciones ansiosas y dolorosas\" por dejar Mount Vernon, Washington partió a Nueva York el 16 de abril.",
         "george_washington justo elección_presidencial washington nombrado_canciller colegio_william mary continuó_sirviendo presidencia muerte los delegado_convención elección_presidencial anticiparon presidencia washington dejaron definir cargo elegido cuando electores estatale votaron febrero washington elegido_unanimidad único estados_unidos presidente john_adams elegido_vicepresidente escribir sensacione ansiosas dolorosas dejar mount_vernon washington partió nueva_york abril"
        ],
        [
         "28448",
         "124990",
         "T_EN_0_53",
         "George Washington Washington fue inaugurado el 30 de abril de 1789, tomando el juramento de cargo en el Salón Federal de Nueva York Su entrenador fue dirigido por milicianos y una banda de marchas y seguido por estadistas y dignatarios extranjeros en un desfile inaugural, con una multitud de 10.000 Robert R Livingston administró el juramento, usando una Biblia proporcionada por los masones Washington leyó un discurso en la Cámara del Senado, preguntando \"ese Ser Todopoderoso .. consagrar las libertades y la felicidad del pueblo de los Estados Unidos\" Aunque deseaba servir sin salario, el Congreso insistió en que recibiera uno, proporcionando a Washington $25,000 anuales (en comparación con $5,000 anuales para el vicepresidente).",
         "george_washington washington inaugurado_tomando juramento_cargo salón_federal nueva_york su entrenador dirigido milicianos banda_marchas seguido estadista dignatarios_extranjeros desfile_inaugural multitud robert_r livingston_administró juramento usando biblia proporcionada masone washington leyó discurso cámara senado preguntando ser todopoderoso consagrar libertades felicidad pueblo estados_unidos aunque deseaba servir salario congreso insistió recibiera proporcionando washington anuale comparación anuale vicepresidente"
        ]
       ],
       "shape": {
        "columns": 4,
        "rows": 61317
       }
      },
      "text/html": [
       "<div>\n",
       "<style scoped>\n",
       "    .dataframe tbody tr th:only-of-type {\n",
       "        vertical-align: middle;\n",
       "    }\n",
       "\n",
       "    .dataframe tbody tr th {\n",
       "        vertical-align: top;\n",
       "    }\n",
       "\n",
       "    .dataframe thead th {\n",
       "        text-align: right;\n",
       "    }\n",
       "</style>\n",
       "<table border=\"1\" class=\"dataframe\">\n",
       "  <thead>\n",
       "    <tr style=\"text-align: right;\">\n",
       "      <th></th>\n",
       "      <th>index</th>\n",
       "      <th>id_preproc</th>\n",
       "      <th>raw_text</th>\n",
       "      <th>lemmas</th>\n",
       "    </tr>\n",
       "  </thead>\n",
       "  <tbody>\n",
       "    <tr>\n",
       "      <th>28399</th>\n",
       "      <td>124941</td>\n",
       "      <td>T_EN_0_0</td>\n",
       "      <td>George Washington George Washington (22 de feb...</td>\n",
       "      <td>george_washington george_washington febrero di...</td>\n",
       "    </tr>\n",
       "    <tr>\n",
       "      <th>28400</th>\n",
       "      <td>124942</td>\n",
       "      <td>T_EN_0_1</td>\n",
       "      <td>George Washington Nacido en la Colonia de Virg...</td>\n",
       "      <td>george_washington nacido colonia_virginia wash...</td>\n",
       "    </tr>\n",
       "    <tr>\n",
       "      <th>28401</th>\n",
       "      <td>124943</td>\n",
       "      <td>T_EN_0_10</td>\n",
       "      <td>George Washington El partido de Washington lle...</td>\n",
       "      <td>george_washington el partido washington río_oh...</td>\n",
       "    </tr>\n",
       "    <tr>\n",
       "      <th>28402</th>\n",
       "      <td>124944</td>\n",
       "      <td>T_EN_0_11</td>\n",
       "      <td>George Washington En febrero de 1754, Dinwiddi...</td>\n",
       "      <td>george_washington en febrero dinwiddie ascendi...</td>\n",
       "    </tr>\n",
       "    <tr>\n",
       "      <th>28403</th>\n",
       "      <td>124945</td>\n",
       "      <td>T_EN_0_12</td>\n",
       "      <td>George Washington El resto del Regimiento de V...</td>\n",
       "      <td>george_washington el resto regimiento virginia...</td>\n",
       "    </tr>\n",
       "    <tr>\n",
       "      <th>...</th>\n",
       "      <td>...</td>\n",
       "      <td>...</td>\n",
       "      <td>...</td>\n",
       "      <td>...</td>\n",
       "    </tr>\n",
       "    <tr>\n",
       "      <th>89711</th>\n",
       "      <td>187948</td>\n",
       "      <td>T_EN_9_95</td>\n",
       "      <td>Alexander Graham Bell Alexander Graham Bell oc...</td>\n",
       "      <td>alexander_graham bell alexander_graham bell oc...</td>\n",
       "    </tr>\n",
       "    <tr>\n",
       "      <th>89712</th>\n",
       "      <td>187949</td>\n",
       "      <td>T_EN_9_96</td>\n",
       "      <td>Alexander Graham Bell Alexander Graham Bell, q...</td>\n",
       "      <td>alexander_graham bell alexander_graham bell co...</td>\n",
       "    </tr>\n",
       "    <tr>\n",
       "      <th>89713</th>\n",
       "      <td>187950</td>\n",
       "      <td>T_EN_9_97</td>\n",
       "      <td>Alexander Graham Bell John Tench retrata a Bel...</td>\n",
       "      <td>alexander_graham bell john tench retrata bell ...</td>\n",
       "    </tr>\n",
       "    <tr>\n",
       "      <th>89714</th>\n",
       "      <td>187951</td>\n",
       "      <td>T_EN_9_98</td>\n",
       "      <td>Alexander Graham Bell Una señal suya, de Sarah...</td>\n",
       "      <td>alexander_graham bell una señal sarah marsh no...</td>\n",
       "    </tr>\n",
       "    <tr>\n",
       "      <th>89715</th>\n",
       "      <td>187952</td>\n",
       "      <td>T_EN_9_99</td>\n",
       "      <td>Alexander Graham Bell Walters, Eric El misteri...</td>\n",
       "      <td>alexander_graham bell walters eric el misterio...</td>\n",
       "    </tr>\n",
       "  </tbody>\n",
       "</table>\n",
       "<p>61317 rows × 4 columns</p>\n",
       "</div>"
      ],
      "text/plain": [
       "        index id_preproc                                           raw_text  \\\n",
       "28399  124941   T_EN_0_0  George Washington George Washington (22 de feb...   \n",
       "28400  124942   T_EN_0_1  George Washington Nacido en la Colonia de Virg...   \n",
       "28401  124943  T_EN_0_10  George Washington El partido de Washington lle...   \n",
       "28402  124944  T_EN_0_11  George Washington En febrero de 1754, Dinwiddi...   \n",
       "28403  124945  T_EN_0_12  George Washington El resto del Regimiento de V...   \n",
       "...       ...        ...                                                ...   \n",
       "89711  187948  T_EN_9_95  Alexander Graham Bell Alexander Graham Bell oc...   \n",
       "89712  187949  T_EN_9_96  Alexander Graham Bell Alexander Graham Bell, q...   \n",
       "89713  187950  T_EN_9_97  Alexander Graham Bell John Tench retrata a Bel...   \n",
       "89714  187951  T_EN_9_98  Alexander Graham Bell Una señal suya, de Sarah...   \n",
       "89715  187952  T_EN_9_99  Alexander Graham Bell Walters, Eric El misteri...   \n",
       "\n",
       "                                                  lemmas  \n",
       "28399  george_washington george_washington febrero di...  \n",
       "28400  george_washington nacido colonia_virginia wash...  \n",
       "28401  george_washington el partido washington río_oh...  \n",
       "28402  george_washington en febrero dinwiddie ascendi...  \n",
       "28403  george_washington el resto regimiento virginia...  \n",
       "...                                                  ...  \n",
       "89711  alexander_graham bell alexander_graham bell oc...  \n",
       "89712  alexander_graham bell alexander_graham bell co...  \n",
       "89713  alexander_graham bell john tench retrata bell ...  \n",
       "89714  alexander_graham bell una señal sarah marsh no...  \n",
       "89715  alexander_graham bell walters eric el misterio...  \n",
       "\n",
       "[61317 rows x 4 columns]"
      ]
     },
     "execution_count": 23,
     "metadata": {},
     "output_type": "execute_result"
    }
   ],
   "source": [
    "df_subset = df.iloc[idx:].copy()\n",
    "df_subset"
   ]
  },
  {
   "cell_type": "code",
   "execution_count": 14,
   "metadata": {},
   "outputs": [
    {
     "data": {
      "application/vnd.microsoft.datawrangler.viewer.v0+json": {
       "columns": [
        {
         "name": "index",
         "rawType": "int64",
         "type": "integer"
        },
        {
         "name": "id_preproc",
         "rawType": "object",
         "type": "string"
        },
        {
         "name": "raw_text",
         "rawType": "object",
         "type": "string"
        },
        {
         "name": "lemmas",
         "rawType": "object",
         "type": "string"
        },
        {
         "name": "lang",
         "rawType": "object",
         "type": "string"
        },
        {
         "name": "index",
         "rawType": "float64",
         "type": "float"
        },
        {
         "name": "doc_id",
         "rawType": "int64",
         "type": "integer"
        }
       ],
       "conversionMethod": "pd.DataFrame",
       "ref": "e1964cdb-6a35-4e44-a24b-ab28b5b11618",
       "rows": [
        [
         "0",
         "EN_0_0",
         "George Washington George Washington (February 22 1732 [O.S. February 11, 1731] – December 14, 1799) was a Founding Father and the first president of the United States, serving from 1789 to 1797. As commander of the Continental Army, Washington led Patriot forces to victory in the American Revolutionary War against the British Empire. He is commonly known as the Father of His Country for his role in bringing about American independence.",
         "george_washington george_washington february february december father president united_states serve commander continental_army washington lead patriot force victory american_revolutionary war british_empire father country role bring american independence",
         "EN",
         null,
         "0"
        ],
        [
         "1",
         "EN_0_1",
         "George Washington Born in the Colony of Virginia, Washington became the commander of the Virginia Regiment during the French and Indian War (1754–1763). He was later elected to the Virginia House of Burgesses, and opposed the perceived oppression of the American colonists by the British Crown. When the American Revolutionary War against the British began in 1775, Washington was appointed commander-in-chief of the Continental Army. He directed a poorly organized and equipped force against disciplined British troops. Washington and his army achieved an early victory at the Siege of Boston in March 1776 but were forced to retreat from New York City in November. Washington crossed the Delaware River and won the battles of Trenton in late 1776 and Princeton in early 1777, then lost the battles of Brandywine and Germantown later that year. He faced criticism of his command, low troop morale, and a lack of provisions for his forces as the war continued. Ultimately Washington led a combined French and American force to a decisive victory over the British at Yorktown in 1781. In the resulting Treaty of Paris in 1783, the British acknowledged the sovereign independence of the United States. Washington then served as president of the Constitutional Convention in 1787, which drafted the current Constitution of the United States.",
         "george_washington bear colony virginia washington commander virginia regiment french_indian war elect virginia house_burgesses oppose perceive_oppression american colonist british crown american_revolutionary war british washington appoint commander_chief continental_army direct organize equip force disciplined british troop washington army achieve victory siege_boston march force_retreat new_york city november washington cross_delaware river win battle_trenton late princeton lose battle_brandywine germantown criticism command troop_morale lack provision force war continue washington lead combined french american force decisive_victory british yorktown result treaty_paris british acknowledge sovereign independence united_states washington serve president constitutional_convention draft current constitution united_states",
         "EN",
         null,
         "1"
        ],
        [
         "2",
         "EN_0_2",
         "George Washington Washington was elected president unanimously by the Electoral College in 1788 and again in 1792. As the first U.S. president, he implemented a strong, well-financed national government while remaining impartial in the fierce rivalry that emerged within his cabinet between Thomas Jefferson and Alexander Hamilton. During the French Revolution, he proclaimed a policy of neutrality while supporting the Jay Treaty with Britain. Washington set enduring precedents for the office of president, including republicanism, a peaceful transfer of power, the use of the title \"Mr. President\", and the two-term tradition. His 1796 farewell address became a preeminent statement on republicanism: Washington wrote about the importance of national unity and the dangers that regionalism, partisanship, and foreign influence pose to it. As a planter of tobacco and wheat at Mount Vernon, Washington owned many slaves. He began opposing slavery near the end of his life, and provided in his will for the manumission of his slaves.",
         "george_washington washington elect president electoral_college president implement strong finance national government remain impartial fierce_rivalry emerge cabinet thomas_jefferson alexander_hamilton french_revolution proclaim policy_neutrality support jay_treaty britain washington set endure precedent office president include republicanism peaceful_transfer power title president term tradition farewell_address preeminent statement_republicanism washington write national unity danger regionalism partisanship_foreign influence pose technology planter_tobacco wheat mount_vernon washington slave oppose_slavery life provide manumission_slave",
         "EN",
         null,
         "2"
        ],
        [
         "3",
         "EN_0_3",
         "George Washington Washington's image is an icon of American culture and he has been extensively memorialized; his namesakes include the national capital and the State of Washington. In both popular and scholarly polls, he is consistently considered one of the greatest presidents in American history.",
         "george_washington washington image_icon american culture memorialize namesake include national capital state washington popular_scholarly poll president american history",
         "EN",
         null,
         "3"
        ],
        [
         "4",
         "EN_0_4",
         "George Washington George Washington was born on February 22, 1732, at Popes Creek in Westmoreland County, Virginia. He was the first of six children of Augustine and Mary Ball Washington. His father was a justice of the peace and a prominent public figure who had four additional children from his first marriage to Jane Butler. Washington was not close to his father and rarely mentioned him in later years; he had a fractious relationship with his mother. Among his siblings, he was particularly close to his older half-brother Lawrence.",
         "george_washington george_washington bear february popes_creek westmoreland_county virginia child augustine mary_ball washington father justice_peace prominent public figure health_organization additional child marriage jane_butler washington close father mention fractious_relationship mother_sibling close brother lawrence",
         "EN",
         null,
         "4"
        ],
        [
         "5",
         "EN_0_5",
         "George Washington The family moved to a plantation on Little Hunting Creek in 1735 before settling at Ferry Farm near Fredericksburg, Virginia, in 1738. When Augustine died in 1743, Washington inherited Ferry Farm and ten slaves; Lawrence inherited Little Hunting Creek and renamed it Mount Vernon. Because of his father's death, Washington did not have the formal education his elder half-brothers had received at Appleby Grammar School in England; he instead attended the Lower Church School in Hartfield. He learned mathematics and land surveying, and became a talented draftsman and mapmaker. By early adulthood, he was writing with what his biographer Ron Chernow described as \"considerable force\" and \"precision\". As a teenager, Washington compiled over a hundred rules for social interaction styled The Rules of Civility, copied from an English translation of a French guidebook.",
         "george_washington family plantation little_hunting creek settle ferry_farm fredericksburg_virginia augustine die washington inherit ferry_farm slave lawrence inherit_little hunting_creek rename technology mount_vernon father death washington formal_education eld_brother receive appleby_grammar school england attend lower church school hartfield learn_mathematic land_surveying talented draftsman mapmaker adulthood write biographer_ron chernow considerable force precision teenager washington compile rule social_interaction style rules civility_english translation french guidebook",
         "EN",
         null,
         "5"
        ],
        [
         "6",
         "EN_0_6",
         "George Washington Washington often visited Belvoir, the plantation of William Fairfax, Lawrence's father-in-law, and Mount Vernon. Fairfax became Washington's patron and surrogate father. In 1748, Washington spent a month with a team surveying Fairfax's Shenandoah Valley property. The following year, he received a surveyor's license from the College of William & Mary. Even though Washington had not served the customary apprenticeship, Thomas Fairfax (William's cousin) appointed him surveyor of Culpeper County, Virginia. Washington took his oath of office on July 20, 1749, and resigned in 1750. By 1752, he had bought almost 1,500 acres (600 ha) in the Shenandoah Valley and owned 2,315 acres (937 ha).",
         "george_washington washington visit belvoir plantation william fairfax lawrence father law mount_vernon fairfax washington patron surrogate_father washington spend_month team survey fairfax shenandoah_valley property receive surveyor_license college_william mary washington serve customary apprenticeship thomas_fairfax william cousin appoint surveyor culpeper_county virginia washington oath_office july resign acre shenandoah_valley acre",
         "EN",
         null,
         "6"
        ],
        [
         "7",
         "EN_0_7",
         "George Washington In 1751, Washington left mainland North America for the first and only time, when he accompanied Lawrence to Barbados, hoping the climate would cure his brother's tuberculosis. Washington contracted smallpox during the trip, which left his face slightly scarred. Lawrence died in 1752, and Washington leased Mount Vernon from his widow, Anne; he inherited it outright after her death in 1761.",
         "george_washington washington leave mainland north_america time accompany lawrence barbados hope climate cure brother tuberculosis washington contract_smallpox trip leave scarred lawrence die washington lease mount_vernon widow_anne inherit technology death",
         "EN",
         null,
         "7"
        ],
        [
         "8",
         "EN_0_8",
         "George Washington Lawrence Washington's service as adjutant general of the Virginia militia inspired George to seek a militia commission. Virginia's lieutenant governor, Robert Dinwiddie, appointed Washington as a major and commander of one of the four militia districts. The British and French were competing for control of the Ohio River Valley: the British were constructing forts along the river, and the French between the river and Lake Erie.",
         "george_washington lawrence_washington service adjutant virginia militia inspire george seek militia commission virginia lieutenant_governor robert_dinwiddie appoint washington major commander militia district british french compete control ohio_river valley british construct_fort river french river lake_erie",
         "EN",
         null,
         "8"
        ],
        [
         "9",
         "EN_0_9",
         "George Washington In October 1753, Dinwiddie appointed Washington as a special envoy to demand the French forces vacate land that was claimed by the British. Washington was also directed to make peace with the Iroquois Confederacy and to gather intelligence about the French forces. Washington met with Iroquois leader Tanacharison at Logstown. Washington said that at this meeting Tanacharison named him Conotocaurius. This name, meaning \"devourer of villages\", had previously been given to his great-grandfather John Washington in the late 17th century by the Susquehannock.",
         "george_washington october dinwiddie_appoint washington special_envoy demand french force vacate land claim british washington direct peace iroquois_confederacy gather_intelligence french force washington meet iroquois leader tanacharison logstown washington meeting tanacharison conotocaurius devourer village grandfather john washington late_century susquehannock",
         "EN",
         null,
         "9"
        ],
        [
         "10",
         "EN_0_10",
         "George Washington Washington's party reached the Ohio River in November 1753 and was intercepted by a French patrol. The party was escorted to Fort Le Boeuf, where Washington was received in a friendly manner. He delivered the British demand to vacate to the French commander Jacques Legardeur de Saint-Pierre, but the French refused to leave. Saint-Pierre gave Washington his official answer after a few days' delay, as well as food and winter clothing for his party's journey back to Virginia. Washington completed the precarious mission in difficult winter conditions, achieving a measure of distinction when his report was published in Virginia and London.",
         "george_washington washington party reach ohio_river november intercept french patrol party escort fort_le boeuf washington receive friendly_manner deliver british demand vacate french commander jacques_legardeur saint_pierre french refuse leave saint_pierre washington official answer day delay food winter_clothing party journey virginia washington complete precarious mission difficult winter condition achieve measure distinction report publish virginia london",
         "EN",
         null,
         "10"
        ],
        [
         "11",
         "EN_0_11",
         "George Washington In February 1754, Dinwiddie promoted Washington to lieutenant colonel and second-in-command of the 300-strong Virginia Regiment, with orders to confront the French at the Forks of the Ohio. Washington set out with half the regiment in April and was soon aware that a French force of 1,000 had begun construction of Fort Duquesne there. In May, having established a defensive position at Great Meadows, Washington learned that the French had made camp seven miles (11 km) away; he decided to take the offensive. The French detachment proved to be only about 50 men, so on May 28 Washington commanded an ambush. His small force of Virginians and Indian allies killed the French, including their commander Joseph Coulon de Jumonville, who had been carrying a diplomatic message for the British. The French later found their countrymen dead and scalped, blaming Washington, who had retreated to Fort Necessity.",
         "george_washington february dinwiddie promote washington lieutenant_colonel command strong virginia regiment_confront french forks_ohio washington set regiment april aware french force construction fort_duquesne establish defensive_position great_meadows washington learn french camp mile decide offensive french detachment prove washington command ambush force virginians indian_ally kill french include commander joseph_coulon jumonville health_organization carry diplomatic message british french countryman dead scalp blame washington health_organization retreat fort_necessity",
         "EN",
         null,
         "11"
        ],
        [
         "12",
         "EN_0_12",
         "George Washington The rest of the Virginia Regiment joined Washington the following month with news that he had been promoted to the rank of colonel and given command of the full regiment. They were reinforced by an independent company of a hundred South Carolinians led by Captain James Mackay; his royal commission outranked Washington's and a conflict of command ensued. On July 3, 900 French soldiers attacked Fort Necessity, and the ensuing battle ended in Washington's surrender. Washington did not speak French, but signed a surrender document in which he unwittingly took responsibility for \"assassinating\" Jumonville, later blaming the translator for not properly translating it. The Virginia Regiment was divided and Washington was offered a captaincy in one of the newly formed regiments. He refused, as it would have been a demotion—the British had ordered that \"colonials\" could not be ranked any higher than captain—and instead resigned his commission. The Jumonville affair became the incident which ignited the French and Indian War.",
         "george_washington rest virginia regiment washington follow month news promote rank_colonel command regiment reinforce independent company south_carolinians lead captain james_mackay royal commission outrank washington conflict command ensue july french soldier attack fort_necessity ensue battle washington surrender washington speak french sign surrender document responsibility assassinate jumonville blame translator translate technology virginia regiment divide washington offer captaincy form regiment refuse technology demotion british colonial rank_captain resign_commission jumonville_affair incident ignite french_indian war",
         "EN",
         null,
         "12"
        ],
        [
         "13",
         "EN_0_13",
         "George Washington In 1755, Washington volunteered as an aide to General Edward Braddock, who led a British expedition to expel the French from Fort Duquesne and the Ohio Country. On Washington's recommendation, Braddock split the army into one main column and a smaller \"flying column\". Washington was suffering from severe dysentery so did not initially travel with the expedition forces. When he rejoined Braddock at Monongahela, still very ill, the French and their Indian allies ambushed the divided army. Two-thirds of the British force became casualties in the ensuing Battle of the Monongahela, and Braddock was killed. Under the command of Lieutenant Colonel Thomas Gage, Washington rallied the survivors and formed a rear guard, allowing the remnants of the force to retreat. During the engagement, Washington had two horses shot out from under him, and his hat and coat were pierced by bullets. His conduct redeemed his reputation among critics of his command in the Battle of Fort Necessity, but he was not included by the succeeding commander (Colonel Thomas Dunbar) in planning subsequent operations.",
         "george_washington washington volunteer_aide general edward_braddock health_organization lead british expedition expel french fort_duquesne ohio_country washington recommendation braddock_split army main_column fly_column washington suffer_severe dysentery travel expedition force rejoin braddock_monongahela french_indian ally ambush divided army british force casualty ensue battle_monongahela braddock kill command_lieutenant colonel thomas_gage washington rally survivor form rear_guard remnant force_retreat engagement washington horse_shoot hat coat pierce_bullet conduct redeem reputation critic command battle fort_necessity include succeed commander colonel thomas_dunbar plan subsequent operation",
         "EN",
         null,
         "13"
        ],
        [
         "14",
         "EN_0_14",
         "George Washington The Virginia Regiment was reconstituted in August 1755, and Dinwiddie appointed Washington its commander, again with the rank of colonel. Washington clashed over seniority almost immediately, this time with Captain John Dagworthy, who commanded a detachment of Marylanders at the regiment's headquarters in Fort Cumberland. Washington, impatient for an offensive against Fort Duquesne, was convinced Braddock would have granted him a royal commission and pressed his case in February 1756 with Braddock's successor as Commander-in-Chief, William Shirley, and again in January 1757 with Shirley's successor, Lord Loudoun. Loudoun humiliated Washington, refused him a royal commission, and agreed only to relieve him of the responsibility of manning Fort Cumberland.",
         "george_washington virginia regiment reconstitute august dinwiddie_appoint washington commander rank_colonel washington clash seniority time captain john dagworthy health_organization command_detachment marylanders regiment headquarters fort_cumberland washington impatient offensive fort_duquesne convince braddock grant royal commission press february braddock successor commander_chief william_shirley january shirley successor lord_loudoun loudoun humiliate washington refuse royal commission agree relieve_responsibility fort_cumberland",
         "EN",
         null,
         "14"
        ],
        [
         "15",
         "EN_0_15",
         "George Washington In 1758, the Virginia Regiment was assigned to the British Forbes Expedition to capture Fort Duquesne. General John Forbes took Washington's advice on some aspects of the expedition but rejected his opinion on the best route to the fort. Forbes nevertheless made Washington a brevet brigadier general and gave him command of one of the three brigades that was assigned to assault the fort. The French had abandoned the fort and the valley before the assault, however, and Washington only saw a friendly fire incident which left 14 dead and 26 injured. Frustrated, he resigned his commission soon afterwards and returned to Mount Vernon.",
         "george_washington virginia regiment assign british forbes_expedition capture_fort duquesne general john forbes washington advice aspect expedition reject opinion route fort forbes washington brevet_brigadier command_brigade assign assault_fort french abandon_fort valley assault washington friendly_incident leave dead_injure frustrated resign_commission return mount_vernon",
         "EN",
         null,
         "15"
        ],
        [
         "16",
         "EN_0_16",
         "George Washington Under Washington, the Virginia Regiment had defended 300 miles (480 km) of frontier against twenty Indian attacks in ten months. He increased the professionalism of the regiment as it grew from 300 to 1,000 men. Though he failed to realize a royal commission, which made him hostile towards the British, he gained self-confidence, leadership skills, and knowledge of British military tactics. The destructive competition Washington witnessed among colonial politicians fostered his later support of a strong central government.",
         "george_washington washington virginia regiment defend mile frontier indian attack month increase professionalism regiment technology grow fail realize royal commission hostile british gain_confidence leadership_skill knowledge british military tactic destructive competition washington witness colonial politician foster support strong_central government",
         "EN",
         null,
         "16"
        ],
        [
         "17",
         "EN_0_17",
         "George Washington On January 6, 1759, Washington, at age 26, married Martha Dandridge Custis, the 27-year-old widow of wealthy plantation owner Daniel Parke Custis. Martha was intelligent, gracious, and experienced in managing a planter's estate, and the couple had a happy marriage. They lived at Mount Vernon, where Washington cultivated tobacco and wheat. The marriage gave Washington control over Martha's one-third dower interest in the 18,000-acre (7,300 ha) Custis estate, and he managed the remaining two-thirds for Martha's children. As a result, he became one of the wealthiest men in Virginia, which increased his social standing.",
         "george_washington january washington age marry martha_dandridge custis_widow wealthy plantation_owner daniel_parke custis martha intelligent gracious experience manage planter estate couple happy_marriage live mount_vernon washington cultivate_tobacco wheat marriage washington control martha dower acre custis_estate manage remain martha child result wealthy virginia increase social_standing",
         "EN",
         null,
         "17"
        ],
        [
         "18",
         "EN_0_18",
         "George Washington At Washington's urging, Governor Lord Botetourt fulfilled Dinwiddie's 1754 promise to grant land bounties to those who served with volunteer militias during the French and Indian War. In late 1770, Washington inspected the lands in the Ohio and Great Kanawha regions, and he engaged surveyor William Crawford to subdivide it. Crawford allotted 23,200 acres (9,400 ha) to Washington, who told the veterans that their land was unsuitable for farming and agreed to purchase 20,147 acres (8,153 ha), leaving some feeling that they had been duped. He also doubled the size of Mount Vernon to 6,500 acres (2,600 ha) and, by 1775, had more than doubled its slave population to over one hundred.",
         "george_washington washington urging_governor lord_botetourt fulfil dinwiddie promise grant land bounty health_organization serve volunteer militia french_indian war late washington inspect land ohio great_kanawha region engage surveyor william_crawford subdivide technology crawford allot acre washington health_organization veteran land unsuitable farming agree purchase_acre leave feeling dupe double_size mount_vernon acre double slave population",
         "EN",
         null,
         "18"
        ],
        [
         "19",
         "EN_0_19",
         "George Washington As a respected military hero and large landowner, Washington held local offices and was elected to the Virginia provincial legislature, representing Frederick County in the Virginia House of Burgesses for seven years beginning in 1758. Early in his legislative career, Washington rarely spoke at or even attended legislative sessions, but was more politically active starting in the 1760s, becoming a prominent critic of Britain's taxation and mercantilist policies towards the American colonies. Washington imported luxury goods from England, paying for them by exporting tobacco. His profligate spending combined with low tobacco prices left him £1,800 in debt by 1764. Washington's complete reliance on London tobacco buyer and merchant Robert Cary also threatened his economic security. Between 1764 and 1766, he sought to diversify his holdings: he changed Mount Vernon's primary cash crop from tobacco to wheat and expanded operations to include flour milling and hemp farming. Washington's stepdaughter Patsy suffered from epileptic attacks, and she died at Mount Vernon in 1773, allowing Washington to use part of the inheritance from her estate to settle his debts.",
         "george_washington respected military hero landowner washington hold local office elect virginia provincial_legislature represent frederick county_virginia house_burgesses legislative career washington speak attend legislative_session active starting prominent critic britain taxation mercantilist_policy american colony washington import luxury england pay export_tobacco profligate_spending combine tobacco_price leave debt washington complete reliance london tobacco buyer merchant robert_cary threaten economic security seek_diversify holding change mount_vernon primary cash_crop tobacco_wheat expand operation include flour hemp_farming washington stepdaughter patsy suffer epileptic attack die mount_vernon washington inheritance estate settle debt",
         "EN",
         null,
         "19"
        ],
        [
         "20",
         "EN_0_20",
         "George Washington Washington was opposed to the taxes which the British Parliament imposed on the Colonies without proper representation. He believed the Stamp Act 1765 was oppressive and celebrated its repeal the following year. In response to the Townshend Acts, he introduced a proposal in May 1769 which urged Virginians to boycott British goods; the Townshend Acts were mostly repealed in 1770. Washington and other colonists were also angered by the Royal Proclamation of 1763 (which banned American settlement west of the Allegheny Mountains) and British interference in American western land speculation (in which Washington was a participant).",
         "george_washington washington oppose taxis british parliament_impose colonies proper representation stamp_act oppressive celebrate repeal response_townshend introduce proposal urge virginians boycott_british townshend_repeal washington colonist anger royal_proclamation ban american settlement west allegheny_mountains british interference american western land_speculation washington participant",
         "EN",
         null,
         "20"
        ],
        [
         "21",
         "EN_0_21",
         "George Washington Parliament sought to punish Massachusetts colonists for their role in the Boston Tea Party in 1774 by passing the Coercive Acts, which Washington saw as \"an invasion of our rights and privileges\". That July, he and George Mason drafted a list of resolutions for the Fairfax County committee, including a call to end the Atlantic slave trade; the resolutions were adopted. In August, Washington attended the First Virginia Convention and was selected as a delegate to the First Continental Congress. As tensions rose in 1774, he helped train militias in Virginia and organized enforcement of the Continental Association boycott of British goods instituted by the Congress.",
         "george_washington parliament seek punish massachusetts colonist role boston_tea party pass_coercive washington invasion privilege july george_mason draft list resolution fairfax_county committee include atlantic_slave trade resolution adopt august washington attend virginia convention select_delegate continental_congress tension_rise train militia virginia organize enforcement continental_association boycott_british institute congress",
         "EN",
         null,
         "21"
        ],
        [
         "22",
         "EN_0_22",
         "George Washington The American Revolutionary War broke out on April 19, 1775. Washington hastily departed Mount Vernon on May 4 to join the Second Continental Congress in Philadelphia. On June 14, Congress created the Continental Army and John Adams nominated Washington as its commander-in-chief, mainly because of his military experience and the belief that a Virginian would better unite the colonies. He was unanimously elected by Congress the next day. Washington gave an acceptance speech on June 16, declining a salary, though he was later reimbursed expenses.",
         "george_washington american_revolutionary war break april washington depart mount_vernon second_continental congress philadelphia june congress create continental_army john_adams nominate washington commander_chief military experience belief virginian unite colony elect congress day washington acceptance_speech june decline salary reimburse_expense",
         "EN",
         null,
         "22"
        ],
        [
         "23",
         "EN_0_23",
         "George Washington Congress chose Washington's primary staff officers, including Artemas Ward, Horatio Gates, Charles Lee, Philip Schuyler, and Nathanael Greene. Henry Knox impressed Adams and Washington with his knowledge of ordnance and was promoted to colonel and chief of artillery. Similarly, Washington was impressed by Alexander Hamilton's intelligence and bravery; he would later promote Hamilton to colonel and appoint him his aide-de-camp.",
         "george_washington congress choose washington primary staff_officer include artemas_ward horatio_gates charles_lee philip_schuyler nathanael_greene henry_knox impress adams washington knowledge ordnance_promote colonel chief artillery washington impress alexander_hamilton intelligence_bravery promote hamilton colonel appoint_aide camp",
         "EN",
         null,
         "23"
        ],
        [
         "24",
         "EN_0_24",
         "George Washington Washington initially banned the enlistment of Black soldiers, both free and enslaved. The British saw an opportunity to divide the colonies: the colonial governor of Virginia issued a proclamation promising freedom to slaves if they joined the British forces. In response to this proclamation and the need for troops, Washington soon overturned his ban. By the end of the war, around one-tenth of the soldiers in the Continental Army were Black, with some obtaining freedom.",
         "george_washington washington ban enlistment black soldier enslave british opportunity divide colony colonial governor virginia issue_proclamation promise_freedom slave british force response proclamation troop washington overturn ban war tenth soldier continental_army black freedom",
         "EN",
         null,
         "24"
        ],
        [
         "25",
         "EN_0_25",
         "George Washington In April 1775, in response to the growing rebellious movement, British troops occupied Boston, led by General Thomas Gage, commander of British forces in America. Local militias surrounded the city and trapped the British troops, resulting in a standoff. As Washington headed for Boston, he was greeted by cheering crowds and political ceremony; he became a symbol of the Patriot cause. Upon Washington's arrival on July 2, he went to inspect the army, but found undisciplined militia. After consultation, he initiated Benjamin Franklin's suggested reforms, instituting military drills and imposing strict disciplinary measures. Washington promoted some of the soldiers who had performed well at Bunker Hill to officer rank, and removed officers who he saw as incompetent. In October, King George III declared that the colonies were in open rebellion and relieved Gage of command, replacing him with General William Howe.",
         "george_washington april response grow rebellious_movement british troop occupy boston lead general thomas_gage commander british force america local_militia surround city trap_british troop result_standoff washington head boston greet_cheer crowd political ceremony symbol patriot washington arrival july inspect army undisciplined militia consultation initiate benjamin_franklin reform institute military_drill impose strict_disciplinary measure washington promote soldier health_organization perform bunker_hill officer rank remove officer health_organization incompetent october king george_iii declare colony rebellion relieve gage command replace general william_howe",
         "EN",
         null,
         "25"
        ],
        [
         "26",
         "EN_0_26",
         "George Washington When the Charles River froze over, Washington was eager to cross and storm Boston, but Gates and others were opposed to having untrained militia attempt to assault well-garrisoned fortifications. Instead, Washington agreed to secure the Dorchester Heights above Boston to try to force the British out. On March 17, 8,906 British troops, 1,100 Loyalists, and 1,220 women and children began a chaotic naval evacuation. Washington entered the city with 500 men, giving them explicit orders not to plunder. He refrained from exerting military authority in Boston, leaving civilian matters in the hands of local authorities.",
         "george_washington charles river freeze washington eager cross storm boston gates oppose untrained_militia attempt assault garrison fortification washington agree secure dorchester_heights boston force british march british troop loyalist woman_child chaotic naval evacuation washington enter city explicit plunder refrain exert military authority boston leave civilian matter hand local authority",
         "EN",
         null,
         "26"
        ],
        [
         "27",
         "EN_0_27",
         "George Washington After the victory at Boston, Washington correctly guessed that the British would return to New York City and retaliate. He arrived there on April 13, 1776, and ordered the construction of fortifications. He also ordered his forces to treat civilians and their property with respect, to avoid the abuses Bostonians suffered at the hands of British troops. The British forces, including more than a hundred ships and thousands of troops, began arriving on Staten Island in July to lay siege to the city.",
         "george_washington victory boston washington guess british return new_york city retaliate arrive april construction_fortification force treat civilian property respect avoid abuse bostonians suffer hand british troop british force include ship troop arrive staten_island july lay_siege city",
         "EN",
         null,
         "27"
        ],
        [
         "28",
         "EN_0_28",
         "George Washington Howe's troop strength totaled 32,000 regulars and Hessian auxiliaries; Washington had 23,000 men, mostly untrained recruits and militia. In August, Howe landed 20,000 troops at Gravesend, Brooklyn, and approached Washington's fortifications. Overruling his generals, Washington chose to fight, based on inaccurate information that Howe's army had only around 8,000 soldiers. In the Battle of Long Island, Howe assaulted Washington's flank and inflicted 1,500 Patriot casualties. Washington retreated to Manhattan.",
         "george_washington howe troop strength total regular hessian_auxiliary washington untrained recruit militia august howe land troop gravesend_brooklyn approach washington fortification overrule washington choose fight base inaccurate howe army soldier battle_long island howe assault washington flank inflict_patriot casualty washington retreat manhattan",
         "EN",
         null,
         "28"
        ],
        [
         "29",
         "EN_0_29",
         "George Washington Howe sent a message to Washington to negotiate peace, addressing him as \"George Washington, Esq.\" Washington declined to accept the message, demanding to be addressed with diplomatic protocol—not as a rebel. Despite misgivings, Washington heeded the advice of General Greene to defend Fort Washington, but was ultimately forced to abandon it. Howe pursued and Washington retreated across the Hudson River to Fort Lee. In November, Howe captured Fort Washington. Loyalists in New York City considered Howe a liberator and spread a rumor that Washington had set fire to the city. Now reduced to 5,400 troops, Washington's army retreated through New Jersey.",
         "george_washington howe send_message washington negotiate_peace address george_washington esq washington decline accept message demand address diplomatic_protocol rebel misgiving washington heed_advice general greene defend fort washington force abandon technology howe pursue washington retreat hudson_river fort lee november howe capture_fort washington loyalist new_york city howe liberator spread_rumor washington set city reduce troop washington army retreat new_jersey",
         "EN",
         null,
         "29"
        ],
        [
         "30",
         "EN_0_30",
         "George Washington Washington crossed the Delaware River into Pennsylvania, where General John Sullivan joined him with 2,000 more troops. The future of the Continental Army was in doubt due to a lack of supplies, a harsh winter, expiring enlistments, and desertions. Howe posted a Hessian garrison at Trenton to hold western New Jersey and the east shore of the Delaware. At sunrise on December 26, 1776, Washington, aided by Colonel Knox and artillery, led his men in a successful surprise attack on the Hessians.",
         "george_washington washington cross_delaware river pennsylvania general john_sullivan troop future continental_army doubt lack supply harsh_winter expiring_enlistment desertion howe post hessian_garrison trenton hold western new_jersey east shore_delaware sunrise_december washington aid colonel knox_artillery lead successful_surprise attack hessians",
         "EN",
         null,
         "30"
        ],
        [
         "31",
         "EN_0_31",
         "George Washington Washington returned to New Jersey on January 3, 1777, launching an attack on the British regulars at Princeton, with 40 Americans killed or wounded and 273 British killed or captured. Howe retreated to New York City for the winter. Washington took up winter headquarters in Morristown, New Jersey. Strategically, Washington's victories at Trenton and Princeton were pivotal: they revived Patriot morale and quashed the British strategy of showing overwhelming force followed by offering generous terms, changing the course of the war.",
         "george_washington washington return new_jersey january launch_attack british regular princeton americans kill_wound british kill capture howe retreat new_york city winter washington winter headquarters_morristown new_jersey washington victory_trenton princeton pivotal revive patriot_morale quash british strategy overwhelming force follow offer_generous term change war",
         "EN",
         null,
         "31"
        ],
        [
         "32",
         "EN_0_32",
         "George Washington In July 1777, the British general John Burgoyne led his British troops south from Quebec in the Saratoga campaign; he recaptured Fort Ticonderoga, intending to divide New England. However, General Howe took his army from New York City south to Philadelphia rather than joining Burgoyne near Albany. Washington and Gilbert, Marquis de Lafayette rushed to Philadelphia to engage Howe. In the Battle of Brandywine on September 11, 1777, Howe outmaneuvered Washington and marched unopposed into the American capital at Philadelphia. A Patriot attack against the British at Germantown in October failed.",
         "george_washington july british john_burgoyne lead british troop quebec saratoga_campaign recapture_fort ticonderoga intend divide new_england general_howe army new_york city philadelphia burgoyne albany washington gilbert marquis_lafayette rush philadelphia engage howe battle_brandywine september howe_outmaneuver washington march_unopposed american capital philadelphia patriot attack british germantown_october fail",
         "EN",
         null,
         "32"
        ],
        [
         "33",
         "EN_0_33",
         "George Washington In Upstate New York, the Patriots were led by General Horatio Gates. Concerned about Burgoyne's movements southward, Washington sent reinforcements north with Generals Benedict Arnold and Benjamin Lincoln. On October 7, 1777, Burgoyne tried to take Bemis Heights but was isolated from support and forced to surrender. Gates' victory emboldened Washington's critics, who favored Gates as a military leader. According to the biographer John Alden, \"It was inevitable that the defeats of Washington's forces and the concurrent victory of the forces in upper New York should be compared.\" Admiration for Washington was waning.",
         "george_washington upstate_new york patriots lead general_horatio gates concerned burgoyne movement washington send_reinforcement benedict_arnold benjamin_lincoln october burgoyne bemis_heights isolate support force surrender gates victory_embolden washington critic health_organization favor gates military leader accord_biographer john_alden technology inevitable defeat washington force concurrent victory force upper new_york compare admiration washington wane",
         "EN",
         null,
         "33"
        ],
        [
         "34",
         "EN_0_34",
         "George Washington Washington and his army of 11,000 men went into winter quarters at Valley Forge north of Philadelphia in December 1777. There they lost between 2,000 and 3,000 men as a result of disease and lack of food, clothing, and shelter, reducing the army to below 9,000 men. By February, Washington was facing low troop morale and increased desertions. An internal revolt by his officers prompted some members of Congress to consider removing Washington from command. Washington's supporters resisted, and the matter was ultimately dropped.",
         "george_washington washington army winter_quarter valley_forge north philadelphia december lose result disease lack food_clothing shelter reduce army february washington troop_morale increased desertion internal_revolt officer prompt congress remove washington command washington supporter resist matter drop",
         "EN",
         null,
         "34"
        ],
        [
         "35",
         "EN_0_35",
         "George Washington Washington made repeated petitions to Congress for provisions and expressed the urgency of the situation to a congressional delegation. Congress agreed to strengthen the army's supply lines and reorganize the quartermaster and commissary departments, while Washington launched the Grand Forage of 1778 to collect food from the surrounding region. Meanwhile, Baron Friedrich Wilhelm von Steuben's incessant drilling transformed Washington's recruits into a disciplined fighting force. Washington appointed him Inspector General.",
         "george_washington washington repeat petition congress provision express urgency_situation congressional_delegation congress agree strengthen army supply reorganize quartermaster_commissary department washington launch grand forage collect food surround region baron_friedrich wilhelm_von steuben incessant drilling transform washington recruit disciplined fighting force washington appoint_inspector general",
         "EN",
         null,
         "35"
        ],
        [
         "36",
         "EN_0_36",
         "George Washington In early 1778, the French entered into a Treaty of Alliance with the Americans. In May, Howe resigned and was replaced by Sir Henry Clinton. The British evacuated Philadelphia for New York that June and Washington summoned a war council of American and French generals. He chose to order a limited strike on the retreating British. Generals Lee and Lafayette moved with 4,000 men, without Washington's knowledge, and bungled their first strike on June 28. Washington relieved Lee and achieved a draw after an expansive battle. The British continued their retreat to New York.",
         "george_washington french enter treaty_alliance americans howe_resign replace sir_henry clinton british_evacuate philadelphia new_york june washington summon war council american french choose limited strike retreat british generals lee lafayette washington knowledge bungle strike june washington relieve lee achieve draw expansive battle british continue retreat new_york",
         "EN",
         null,
         "36"
        ],
        [
         "37",
         "EN_0_37",
         "George Washington This battle \"marked the end of the war's campaigning in the northern and middle states. Washington would not fight the British in a major engagement again for more than three years\". British attention shifted to the Southern theatre; in late 1778, General Clinton captured Savannah, Georgia, a key port in the American South. Washington, meanwhile, ordered an expedition against the Iroquois, the Indigenous allies of the British, destroying their villages.",
         "george_washington battle mark war campaigning northern middle washington fight british major_engagement british attention_shift southern theatre late general clinton capture_savannah georgia key port american south washington expedition iroquois indigenous ally british destroy_village",
         "EN",
         null,
         "37"
        ],
        [
         "38",
         "EN_0_38",
         "George Washington Washington became America's first spymaster by designing an espionage system against the British. In 1778, Major Benjamin Tallmadge formed the Culper Ring at Washington's direction to covertly collect information about the British in New York. Intelligence from the Culper Ring saved French forces from a surprise British attack, which was itself based on intelligence from Washington's general turned British spy Benedict Arnold.",
         "george_washington washington america spymaster design espionage british major benjamin_tallmadge form culper_ring washington direction collect british new_york intelligence culper_ring save french force surprise british attack base intelligence washington british spy benedict_arnold",
         "EN",
         null,
         "38"
        ],
        [
         "39",
         "EN_0_39",
         "George Washington Washington had disregarded incidents of disloyalty by Arnold, who had distinguished himself in many campaigns, including the invasion of Quebec. In 1779, Arnold began supplying the British spymaster John André with sensitive information intended to allow the British to capture West Point, a key American defensive position on the Hudson River. On September 21, Arnold gave André plans to take over the garrison. André was captured by militia who discovered the plans, after which Arnold escaped to New York. On being told about Arnold's treason, Washington recalled the commanders positioned under Arnold at key points around the fort to prevent any complicity. He assumed personal command at West Point and reorganized its defenses.",
         "george_washington washington disregard incident disloyalty arnold health_organization distinguish campaign include invasion_quebec arnold supply british_spymaster john_andré sensitive intend british capture west_point key american defensive_position hudson_river september arnold_andré plan garrison andré_capture militia health_organization discover plan arnold escape new_york arnold_treason washington recall commander position arnold key fort prevent complicity assume personal command west_point reorganize defense",
         "EN",
         null,
         "39"
        ],
        [
         "40",
         "EN_0_40",
         "George Washington By June 1780, the British had occupied the South Carolina Piedmont and had firm control of the South. Washington was reinvigorated, however, when Lafayette returned from France with more ships, men, and supplies, and 5,000 veteran French troops led by Marshal Rochambeau arrived at Newport, Rhode Island in July.",
         "george_washington june british occupy south_carolina piedmont firm control south washington reinvigorate lafayette return france ship supply veteran french troop lead marshal rochambeau arrive newport_rhode island july",
         "EN",
         null,
         "40"
        ],
        [
         "41",
         "EN_0_41",
         "George Washington General Clinton sent Arnold, now a British brigadier general, to Virginia in December with 1,700 troops to capture Portsmouth and conduct raids on Patriot forces. Washington sent Lafayette south to counter Arnold's efforts. Washington initially hoped to bring the fight to New York, drawing the British forces away from Virginia and ending the war there, but Rochambeau advised him that Cornwallis in Virginia was the better target. On August 19, 1781, Washington and Rochambeau began a march to Yorktown, Virginia, known now as the \"celebrated march\". Washington was in command of an army of 7,800 Frenchmen, 3,100 militia, and 8,000 Continental troops. Inexperienced in siege warfare, he often deferred to the judgment of Rochambeau. Despite this, Rochambeau never challenged Washington's authority as the battle's commanding officer.",
         "george_washington general clinton send arnold british brigadier virginia december troop capture portsmouth conduct_raid patriot force washington send lafayette counter arnold effort washington hope bring fight new_york draw british force virginia war rochambeau advise cornwallis virginia target august washington_rochambeau march yorktown virginia celebrate march washington command army frenchmen militia continental troop inexperienced siege warfare defer judgment rochambeau_rochambeau challenge washington authority battle command officer",
         "EN",
         null,
         "41"
        ],
        [
         "42",
         "EN_0_42",
         "George Washington By late September, Patriot-French forces surrounded Yorktown, trapping the British Army, while the French navy emerged victorious at the Battle of the Chesapeake. The final American offensive began with a shot fired by Washington. The siege ended with a British surrender on October 19, 1781; over 7,000 British soldiers became prisoners of war. Washington negotiated the terms of surrender for two days, and the official signing ceremony took place on October 19. Although the peace treaty was not negotiated for two more years, Yorktown proved to be the last significant battle of the Revolutionary War, with the British Parliament agreeing to cease hostilities in March 1782.",
         "george_washington late september patriot french force surround yorktown trap_british army french navy emerge_victorious battle_chesapeake final american offensive shot washington siege british surrender october british soldier prisoner war washington negotiate term surrender day official signing_ceremony october peace_treaty negotiate yorktown prove battle revolutionary_war british parliament agree cease_hostility march",
         "EN",
         null,
         "42"
        ],
        [
         "43",
         "EN_0_43",
         "George Washington When peace negotiations began in April 1782, both the British and French began gradually evacuating their forces. In March 1783, Washington successfully calmed the Newburgh Conspiracy, a planned mutiny by American officers dissatisfied with a lack of pay. Washington submitted an account of $450,000 in expenses which he had advanced to the army. The account was settled, though it was vague about large sums and included expenses his wife had incurred through visits to his headquarters.",
         "george_washington peace_negotiation april british french evacuate force march washington calm newburgh_conspiracy plan mutiny american officer dissatisfied lack pay washington submit account expense advance army account settle technology vague sum include expense wife incur visit headquarter",
         "EN",
         null,
         "43"
        ],
        [
         "44",
         "EN_0_44",
         "George Washington When the Treaty of Paris was signed on September 3, 1783, Britain officially recognized American independence. Washington disbanded his army, giving a farewell address to his soldiers on November 2. He oversaw the evacuation of British forces in New York and was greeted by parades and celebrations.",
         "george_washington treaty_paris sign september britain recognize american independence washington disband army farewell_address soldier november oversee_evacuation british force new_york greet parade_celebration",
         "EN",
         null,
         "44"
        ],
        [
         "45",
         "EN_0_45",
         "George Washington In early December 1783, Washington bade farewell to his officers at Fraunces Tavern and resigned as commander-in-chief soon after. In a final appearance in uniform, he gave a statement to the Congress: \"I consider it an indispensable duty to close this last solemn act of my official life, by commending the interests of our dearest country to the protection of Almighty God, and those who have the superintendence of them, to his holy keeping.\" Washington's resignation was acclaimed at home and abroad, \"extolled by later historians as a signal event that set the country's political course\" according to the historian Edward J. Larson. The same month, Washington was appointed president-general of the Society of the Cincinnati, a newly established hereditary fraternity of Revolutionary War officers.",
         "george_washington december washington bade farewell officer_fraunces tavern resign commander_chief final appearance uniform statement congress technology indispensable duty close solemn official life commend country protection almighty_god health_organization superintendence holy keeping washington resignation acclaim extoll late historian signal event set country political accord_historian edward larson month washington appoint president society_cincinnati establish hereditary fraternity revolutionary_war officer",
         "EN",
         null,
         "45"
        ],
        [
         "46",
         "EN_0_46",
         "George Washington After spending just ten days at Mount Vernon out of 8+1⁄2 years of war, Washington was eager to return home. He arrived on Christmas Eve; Professor John E. Ferling wrote that he was delighted to be \"free of the bustle of a camp and the busy scenes of public life\". He received a constant stream of visitors paying their respects at Mount Vernon.",
         "george_washington spend day mount_vernon war washington eager return arrive christmas_eve professor john_ferling write delighted bustle camp busy scene public life receive constant_stream visitor pay respect mount_vernon",
         "EN",
         null,
         "46"
        ],
        [
         "47",
         "EN_0_47",
         "George Washington Washington reactivated his interests in the Great Dismal Swamp and Potomac Canal projects, begun before the war, though neither paid him any dividends. He undertook a 34-day, 680-mile (1,090 km) trip in 1784 to check on his land holdings in the Ohio Country. He oversaw the completion of remodeling work at Mount Vernon, which transformed his residence into the mansion that survives to this day—although his financial situation was not strong. Creditors paid him in depreciated wartime currency, and he owed significant amounts in taxes and wages. Mount Vernon had made no profit during his absence, and he saw persistently poor crop yields due to pestilence and bad weather. His estate recorded its eleventh year running at a deficit in 1787.",
         "george_washington washington reactivate great_dismal swamp potomac canal project war pay_dividend undertake day mile trip check land_holding ohio_country oversee_completion remodel mount_vernon transform residence_mansion survive day financial_situation strong creditor_pay depreciate wartime currency owe taxis wage mount_vernon profit absence poor crop_yield pestilence bad_weather estate record eleventh deficit",
         "EN",
         null,
         "47"
        ],
        [
         "48",
         "EN_0_48",
         "George Washington To make his estate profitable again, Washington undertook a new landscaping plan and succeeded in cultivating a range of fast-growing trees and native shrubs. He also began breeding mules after being gifted a stud by King Charles III of Spain in 1785; he believed that they would revolutionize agriculture.",
         "george_washington estate_profitable washington undertake landscaping plan succeed cultivate range grow tree native shrub breed_mule gift_stud king charles_iii spain revolutionize agriculture",
         "EN",
         null,
         "48"
        ],
        [
         "49",
         "EN_0_49",
         "George Washington Before returning to private life in June 1783, Washington called for a strong union. Though he was concerned that he might be criticized for meddling in civil matters, he sent a circular letter to the states, maintaining that the Articles of Confederation were no more than \"a rope of sand\". He believed the nation was on the verge of \"anarchy and confusion\", was vulnerable to foreign intervention, and that a national constitution would unify the states under a strong central government.",
         "george_washington return private life june washington strong union concerned criticize meddle civil matter send circular_letter maintain articles_confederation rope_sand nation verge anarchy confusion vulnerable foreign_intervention national constitution unify strong_central government",
         "EN",
         null,
         "49"
        ]
       ],
       "shape": {
        "columns": 6,
        "rows": 56870
       }
      },
      "text/html": [
       "<div>\n",
       "<style scoped>\n",
       "    .dataframe tbody tr th:only-of-type {\n",
       "        vertical-align: middle;\n",
       "    }\n",
       "\n",
       "    .dataframe tbody tr th {\n",
       "        vertical-align: top;\n",
       "    }\n",
       "\n",
       "    .dataframe thead th {\n",
       "        text-align: right;\n",
       "    }\n",
       "</style>\n",
       "<table border=\"1\" class=\"dataframe\">\n",
       "  <thead>\n",
       "    <tr style=\"text-align: right;\">\n",
       "      <th></th>\n",
       "      <th>id_preproc</th>\n",
       "      <th>raw_text</th>\n",
       "      <th>lemmas</th>\n",
       "      <th>lang</th>\n",
       "      <th>index</th>\n",
       "      <th>doc_id</th>\n",
       "    </tr>\n",
       "  </thead>\n",
       "  <tbody>\n",
       "    <tr>\n",
       "      <th>0</th>\n",
       "      <td>EN_0_0</td>\n",
       "      <td>George Washington George Washington (February ...</td>\n",
       "      <td>george_washington george_washington february f...</td>\n",
       "      <td>EN</td>\n",
       "      <td>NaN</td>\n",
       "      <td>0</td>\n",
       "    </tr>\n",
       "    <tr>\n",
       "      <th>1</th>\n",
       "      <td>EN_0_1</td>\n",
       "      <td>George Washington Born in the Colony of Virgin...</td>\n",
       "      <td>george_washington bear colony virginia washing...</td>\n",
       "      <td>EN</td>\n",
       "      <td>NaN</td>\n",
       "      <td>1</td>\n",
       "    </tr>\n",
       "    <tr>\n",
       "      <th>2</th>\n",
       "      <td>EN_0_2</td>\n",
       "      <td>George Washington Washington was elected presi...</td>\n",
       "      <td>george_washington washington elect president e...</td>\n",
       "      <td>EN</td>\n",
       "      <td>NaN</td>\n",
       "      <td>2</td>\n",
       "    </tr>\n",
       "    <tr>\n",
       "      <th>3</th>\n",
       "      <td>EN_0_3</td>\n",
       "      <td>George Washington Washington's image is an ico...</td>\n",
       "      <td>george_washington washington image_icon americ...</td>\n",
       "      <td>EN</td>\n",
       "      <td>NaN</td>\n",
       "      <td>3</td>\n",
       "    </tr>\n",
       "    <tr>\n",
       "      <th>4</th>\n",
       "      <td>EN_0_4</td>\n",
       "      <td>George Washington George Washington was born o...</td>\n",
       "      <td>george_washington george_washington bear febru...</td>\n",
       "      <td>EN</td>\n",
       "      <td>NaN</td>\n",
       "      <td>4</td>\n",
       "    </tr>\n",
       "    <tr>\n",
       "      <th>...</th>\n",
       "      <td>...</td>\n",
       "      <td>...</td>\n",
       "      <td>...</td>\n",
       "      <td>...</td>\n",
       "      <td>...</td>\n",
       "      <td>...</td>\n",
       "    </tr>\n",
       "    <tr>\n",
       "      <th>56865</th>\n",
       "      <td>ES_1999_38</td>\n",
       "      <td>Antecedentes históricos del Nuevo Testamento D...</td>\n",
       "      <td>antecedentes_históricos nuevo_testamento despu...</td>\n",
       "      <td>ES</td>\n",
       "      <td>93982.0</td>\n",
       "      <td>56865</td>\n",
       "    </tr>\n",
       "    <tr>\n",
       "      <th>56866</th>\n",
       "      <td>ES_1999_39</td>\n",
       "      <td>Antecedentes históricos del Nuevo Testamento E...</td>\n",
       "      <td>antecedentes_históricos nuevo_testamento en em...</td>\n",
       "      <td>ES</td>\n",
       "      <td>93983.0</td>\n",
       "      <td>56866</td>\n",
       "    </tr>\n",
       "    <tr>\n",
       "      <th>56867</th>\n",
       "      <td>ES_1999_40</td>\n",
       "      <td>Antecedentes históricos del Nuevo Testamento E...</td>\n",
       "      <td>antecedentes_históricos nuevo_testamento esta ...</td>\n",
       "      <td>ES</td>\n",
       "      <td>93984.0</td>\n",
       "      <td>56867</td>\n",
       "    </tr>\n",
       "    <tr>\n",
       "      <th>56868</th>\n",
       "      <td>ES_1999_41</td>\n",
       "      <td>Antecedentes históricos del Nuevo Testamento D...</td>\n",
       "      <td>antecedentes_históricos nuevo_testamento despu...</td>\n",
       "      <td>ES</td>\n",
       "      <td>93985.0</td>\n",
       "      <td>56868</td>\n",
       "    </tr>\n",
       "    <tr>\n",
       "      <th>56869</th>\n",
       "      <td>ES_1999_42</td>\n",
       "      <td>Antecedentes históricos del Nuevo Testamento E...</td>\n",
       "      <td>antecedentes_históricos nuevo_testamento el nu...</td>\n",
       "      <td>ES</td>\n",
       "      <td>93986.0</td>\n",
       "      <td>56869</td>\n",
       "    </tr>\n",
       "  </tbody>\n",
       "</table>\n",
       "<p>56870 rows × 6 columns</p>\n",
       "</div>"
      ],
      "text/plain": [
       "       id_preproc                                           raw_text  \\\n",
       "0          EN_0_0  George Washington George Washington (February ...   \n",
       "1          EN_0_1  George Washington Born in the Colony of Virgin...   \n",
       "2          EN_0_2  George Washington Washington was elected presi...   \n",
       "3          EN_0_3  George Washington Washington's image is an ico...   \n",
       "4          EN_0_4  George Washington George Washington was born o...   \n",
       "...           ...                                                ...   \n",
       "56865  ES_1999_38  Antecedentes históricos del Nuevo Testamento D...   \n",
       "56866  ES_1999_39  Antecedentes históricos del Nuevo Testamento E...   \n",
       "56867  ES_1999_40  Antecedentes históricos del Nuevo Testamento E...   \n",
       "56868  ES_1999_41  Antecedentes históricos del Nuevo Testamento D...   \n",
       "56869  ES_1999_42  Antecedentes históricos del Nuevo Testamento E...   \n",
       "\n",
       "                                                  lemmas lang    index  doc_id  \n",
       "0      george_washington george_washington february f...   EN      NaN       0  \n",
       "1      george_washington bear colony virginia washing...   EN      NaN       1  \n",
       "2      george_washington washington elect president e...   EN      NaN       2  \n",
       "3      george_washington washington image_icon americ...   EN      NaN       3  \n",
       "4      george_washington george_washington bear febru...   EN      NaN       4  \n",
       "...                                                  ...  ...      ...     ...  \n",
       "56865  antecedentes_históricos nuevo_testamento despu...   ES  93982.0   56865  \n",
       "56866  antecedentes_históricos nuevo_testamento en em...   ES  93983.0   56866  \n",
       "56867  antecedentes_históricos nuevo_testamento esta ...   ES  93984.0   56867  \n",
       "56868  antecedentes_históricos nuevo_testamento despu...   ES  93985.0   56868  \n",
       "56869  antecedentes_históricos nuevo_testamento el nu...   ES  93986.0   56869  \n",
       "\n",
       "[56870 rows x 6 columns]"
      ]
     },
     "execution_count": 14,
     "metadata": {},
     "output_type": "execute_result"
    }
   ],
   "source": [
    "df_poly = pd.read_parquet('/export/usuarios_ml4ds/ammesa/Data/3_joined_data/en_2025-02-25_segmented_dataset.parquet.gzip/polylingual_df')\n",
    "df_poly\n"
   ]
  },
  {
   "cell_type": "code",
   "execution_count": 30,
   "metadata": {},
   "outputs": [
    {
     "data": {
      "application/vnd.microsoft.datawrangler.viewer.v0+json": {
       "columns": [
        {
         "name": "index",
         "rawType": "int64",
         "type": "integer"
        },
        {
         "name": "id_preproc",
         "rawType": "object",
         "type": "string"
        },
        {
         "name": "raw_text",
         "rawType": "object",
         "type": "string"
        },
        {
         "name": "lemmas",
         "rawType": "object",
         "type": "string"
        },
        {
         "name": "lang",
         "rawType": "object",
         "type": "string"
        },
        {
         "name": "index",
         "rawType": "float64",
         "type": "float"
        },
        {
         "name": "doc_id",
         "rawType": "int64",
         "type": "integer"
        }
       ],
       "conversionMethod": "pd.DataFrame",
       "ref": "26244016-3cbc-43f0-9a9f-1574c71e2542",
       "rows": [
        [
         "23559",
         "EN_371_43",
         "Kingdom of Great Britain The Seven Years' War, which began in 1756, was the first war waged on a global scale and saw British involvement in Europe, India, North America, the Caribbean, the Philippines, and coastal Africa. The results were highly favourable for Britain, and a major disaster for France. Key decisions were largely in the hands of William Pitt the Elder. The war started poorly. Britain lost the island of Minorca in 1756, and suffered a series of defeats in North America. After years of setbacks and mediocre results, British luck turned in the \"miracle year\" (\"Annus Mirabilis\") of 1759. The British had entered the year anxious about a French invasion, but by the end of the year, they were victorious in all theatres. In the Americas, they captured Fort Ticonderoga (Carillon), drove the French out of the Ohio Country, captured Quebec City in Canada as a result of the decisive Battle of the Plains of Abraham, and captured the rich sugar island of Guadeloupe in the West Indies. In India, the John Company repulsed French forces besieging Madras.",
         "kingdom_great britain seven_years war war wage global scale british involvement europe india north_america caribbean philippines coastal africa result favourable britain major disaster france key decision hand william_pitt elder war start britain lose island minorca suffer series defeat north_america setback mediocre result british luck miracle annus mirabilis british enter anxious french invasion victorious theatre americas capture_fort ticonderoga carillon drive french ohio_country capture quebec_city canada result decisive_battle plains_abraham capture rich sugar island_guadeloupe west_indies india john company repulse french force besiege madras",
         "EN",
         null,
         "23559"
        ]
       ],
       "shape": {
        "columns": 6,
        "rows": 1
       }
      },
      "text/html": [
       "<div>\n",
       "<style scoped>\n",
       "    .dataframe tbody tr th:only-of-type {\n",
       "        vertical-align: middle;\n",
       "    }\n",
       "\n",
       "    .dataframe tbody tr th {\n",
       "        vertical-align: top;\n",
       "    }\n",
       "\n",
       "    .dataframe thead th {\n",
       "        text-align: right;\n",
       "    }\n",
       "</style>\n",
       "<table border=\"1\" class=\"dataframe\">\n",
       "  <thead>\n",
       "    <tr style=\"text-align: right;\">\n",
       "      <th></th>\n",
       "      <th>id_preproc</th>\n",
       "      <th>raw_text</th>\n",
       "      <th>lemmas</th>\n",
       "      <th>lang</th>\n",
       "      <th>index</th>\n",
       "      <th>doc_id</th>\n",
       "    </tr>\n",
       "  </thead>\n",
       "  <tbody>\n",
       "    <tr>\n",
       "      <th>23559</th>\n",
       "      <td>EN_371_43</td>\n",
       "      <td>Kingdom of Great Britain The Seven Years' War,...</td>\n",
       "      <td>kingdom_great britain seven_years war war wage...</td>\n",
       "      <td>EN</td>\n",
       "      <td>NaN</td>\n",
       "      <td>23559</td>\n",
       "    </tr>\n",
       "  </tbody>\n",
       "</table>\n",
       "</div>"
      ],
      "text/plain": [
       "      id_preproc                                           raw_text  \\\n",
       "23559  EN_371_43  Kingdom of Great Britain The Seven Years' War,...   \n",
       "\n",
       "                                                  lemmas lang  index  doc_id  \n",
       "23559  kingdom_great britain seven_years war war wage...   EN    NaN   23559  "
      ]
     },
     "execution_count": 30,
     "metadata": {},
     "output_type": "execute_result"
    }
   ],
   "source": [
    "df_poly[df_poly['id_preproc'] == 'EN_371_43']"
   ]
  },
  {
   "cell_type": "code",
   "execution_count": 31,
   "metadata": {},
   "outputs": [
    {
     "data": {
      "application/vnd.microsoft.datawrangler.viewer.v0+json": {
       "columns": [
        {
         "name": "index",
         "rawType": "int64",
         "type": "integer"
        },
        {
         "name": "id",
         "rawType": "int64",
         "type": "integer"
        },
        {
         "name": "doc_id",
         "rawType": "object",
         "type": "string"
        },
        {
         "name": "full_doc",
         "rawType": "object",
         "type": "string"
        },
        {
         "name": "passage",
         "rawType": "object",
         "type": "string"
        },
        {
         "name": "question",
         "rawType": "object",
         "type": "string"
        },
        {
         "name": "subqueries",
         "rawType": "object",
         "type": "string"
        },
        {
         "name": "relevant_docs",
         "rawType": "object",
         "type": "string"
        }
       ],
       "conversionMethod": "pd.DataFrame",
       "ref": "39828fae-2417-4f20-b7cf-cbebfa5cefbb",
       "rows": [
        [
         "0",
         "1",
         "EN_0_0",
         "George Washington George Washington (February 22 1732 [O.S. February 11, 1731] – December 14, 1799) was a Founding Father and the first president of the United States, serving from 1789 to 1797. As commander of the Continental Army, Washington led Patriot forces to victory in the American Revolutionary War against the British Empire. He is commonly known as the Father of His Country for his role in bringing about American independence.",
         "George Washington George Washington (February 22 1732 [O.S. February 11, 1731] – December 14, 1799) was a Founding Father and the first president of the United States, serving from 1789 to 1797. As commander of the Continental Army, Washington led Patriot forces to victory in the American Revolutionary War against the British Empire. He is commonly known as the Father of His Country for his role in bringing about American independence.",
         "Who was the first president of the United states?",
         "[\"'First president United States', 'Founding fathers of the United States'\"]",
         "[12829, 0]"
        ],
        [
         "1",
         "2",
         "EN_4_3",
         "Abraham Baldwin Three years later after theological study, he was licensed as a Congregationalist minister. He also served as a tutor at the college. He held that position until 1779. During the American Revolutionary War, he served as a chaplain in the Connecticut Contingent of the Continental Army. He did not see combat while with the Continental troops. Two years later at the conclusion of the war, Baldwin declined an offer from Yale's new president, Ezra Stiles, to become Professor of Divinity. Instead, he turned to the study of law and in 1783 was admitted to the Connecticut bar.",
         "Abraham Baldwin Three years later after theological study, he was licensed as a Congregationalist minister. He also served as a tutor at the college. He held that position until 1779. During the American Revolutionary War, he served as a chaplain in the Connecticut Contingent of the Continental Army. He did not see combat while with the Continental troops. Two years later at the conclusion of the war, Baldwin declined an offer from Yale's new president, Ezra Stiles, to become Professor of Divinity. Instead, he turned to the study of law and in 1783 was admitted to the Connecticut bar.",
         "How served Abrahm Baldwin in the American Revolutionary War?",
         "[\"'Abraham Baldwing role Revolutionary War', ' Positon Continental Army Abraham Baldwin'\"]",
         "[197, 200]"
        ],
        [
         "2",
         "3",
         "EN_28_14",
         "Andrew Jackson In 1802, he also became major general, or commander, of the Tennessee militia, a position that was determined by a vote of the militia's officers. The vote was tied between Jackson and Sevier, a popular Revolutionary War veteran and former governor, but the governor, Archibald Roane, broke the tie in Jackson's favor. Jackson later accused Sevier of fraud and bribery. Sevier responded by impugning Rachel's honor, resulting in a shootout on a public street. Soon afterwards, they met to duel, but parted without having fired at each other.",
         "Andrew Jackson In 1802, he also became major general, or commander, of the Tennessee militia, a position that was determined by a vote of the militia's officers. The vote was tied between Jackson and Sevier, a popular Revolutionary War veteran and former governor, but the governor, Archibald Roane, broke the tie in Jackson's favor. Jackson later accused Sevier of fraud and bribery. Sevier responded by impugning Rachel's honor, resulting in a shootout on a public street. Soon afterwards, they met to duel, but parted without having fired at each other.",
         "When did Andrew Jackson become majore general?",
         "[\"'Andrew Jackson major general', ' Positon Tenesee Militia Andrew Jackson'\"]",
         "[1996, 2008, 1982]"
        ],
        [
         "3",
         "4",
         "EN_28_14",
         "Andrew Jackson In 1802, he also became major general, or commander, of the Tennessee militia, a position that was determined by a vote of the militia's officers. The vote was tied between Jackson and Sevier, a popular Revolutionary War veteran and former governor, but the governor, Archibald Roane, broke the tie in Jackson's favor. Jackson later accused Sevier of fraud and bribery. Sevier responded by impugning Rachel's honor, resulting in a shootout on a public street. Soon afterwards, they met to duel, but parted without having fired at each other.",
         "Andrew Jackson In 1802, he also became major general, or commander, of the Tennessee militia, a position that was determined by a vote of the militia's officers. The vote was tied between Jackson and Sevier, a popular Revolutionary War veteran and former governor, but the governor, Archibald Roane, broke the tie in Jackson's favor. Jackson later accused Sevier of fraud and bribery. Sevier responded by impugning Rachel's honor, resulting in a shootout on a public street. Soon afterwards, they met to duel, but parted without having fired at each other.",
         "Who accused Sevier of fraud and bribery?",
         "[\"'Sevier fraud accusations', 'Sevier duel, fraud and bribery'\"]",
         "[1996]"
        ],
        [
         "4",
         "5",
         "EN_46_123",
         "'Atlantic slave trade The Spanish and Portuguese colonized South America and enslaved the Indigenous people. They later enslaved Africans brought from West and Central Africa in ships by way of the Atlantic slave trade. Brazil imported 4.8 million enslaved Africans. Africans who escaped slavery there formed quilombos, maroon communities with degrees of self-governance. Palamares, a quilombo community, lasted for 100 years while other communities were quickly removed by the Dutch and Portuguese. The Africans imported to Brazil were Yoruba, Fon, Bantu and others. Their religions from Africa developed into new world religions in Brazil called Candomblé, Umbanda, Xango, and Macumba.'",
         "'Atlantic slave trade The Spanish and Portuguese colonized South America and enslaved the Indigenous people. They later enslaved Africans brought from West and Central Africa in ships by way of the Atlantic slave trade. Brazil imported 4.8 million enslaved Africans. Africans who escaped slavery there formed quilombos, maroon communities with degrees of self-governance. Palamares, a quilombo community, lasted for 100 years while other communities were quickly removed by the Dutch and Portuguese. The Africans imported to Brazil were Yoruba, Fon, Bantu and others. Their religions from Africa developed into new world religions in Brazil called Candomblé, Umbanda, Xango, and Macumba.'",
         "Which quilombo comunity lasted for 100 years?",
         "[\"'Quilombo community last 100 years', 'Slave community 100 years Brazil'\"]",
         "[3196]"
        ],
        [
         "5",
         "6",
         "EN_118_33",
         "'Charles III of Spain The situation worsened when, in 1735, just a few days before the coronation of Charles, the Pope chose to accept the traditional offering of a Hackney horse from the Holy Roman Emperor rather than from Charles. The Hackney was a white mare and a sum of money which the King of Naples offered the Pope as feudal homage every 29 June, at the feast of Saints Peter and Paul. The reason for this choice was that Charles had not yet been recognized as ruler of the Kingdom of Naples by a peace treaty, and so the Emperor was considered still de jure King of Naples. Receiving the Hackney from the Holy Roman Empire was common while receiving it from a Bourbon was unusual. The Pope, therefore, considered the first option a less dramatic gesture, and in doing so provoked the wrath of the religious Spanish infante.'",
         "'Charles III of Spain The situation worsened when, in 1735, just a few days before the coronation of Charles, the Pope chose to accept the traditional offering of a Hackney horse from the Holy Roman Emperor rather than from Charles. The Hackney was a white mare and a sum of money which the King of Naples offered the Pope as feudal homage every 29 June, at the feast of Saints Peter and Paul. The reason for this choice was that Charles had not yet been recognized as ruler of the Kingdom of Naples by a peace treaty, and so the Emperor was considered still de jure King of Naples. Receiving the Hackney from the Holy Roman Empire was common while receiving it from a Bourbon was unusual. The Pope, therefore, considered the first option a less dramatic gesture, and in doing so provoked the wrath of the religious Spanish infante.'",
         "What animal the Pope accepted as a gift from the Holy Roman Emperor?",
         "[\"'Pope coronation, traditional offer animal Holy Roman Emperor', 'Feudal homage animal gifted to the Pope '\"]",
         "[3324]"
        ],
        [
         "6",
         "7",
         "EN_118_33",
         "'Charles III of Spain The situation worsened when, in 1735, just a few days before the coronation of Charles, the Pope chose to accept the traditional offering of a Hackney horse from the Holy Roman Emperor rather than from Charles. The Hackney was a white mare and a sum of money which the King of Naples offered the Pope as feudal homage every 29 June, at the feast of Saints Peter and Paul. The reason for this choice was that Charles had not yet been recognized as ruler of the Kingdom of Naples by a peace treaty, and so the Emperor was considered still de jure King of Naples. Receiving the Hackney from the Holy Roman Empire was common while receiving it from a Bourbon was unusual. The Pope, therefore, considered the first option a less dramatic gesture, and in doing so provoked the wrath of the religious Spanish infante.'",
         "'Charles III of Spain The situation worsened when, in 1735, just a few days before the coronation of Charles, the Pope chose to accept the traditional offering of a Hackney horse from the Holy Roman Emperor rather than from Charles. The Hackney was a white mare and a sum of money which the King of Naples offered the Pope as feudal homage every 29 June, at the feast of Saints Peter and Paul. The reason for this choice was that Charles had not yet been recognized as ruler of the Kingdom of Naples by a peace treaty, and so the Emperor was considered still de jure King of Naples. Receiving the Hackney from the Holy Roman Empire was common while receiving it from a Bourbon was unusual. The Pope, therefore, considered the first option a less dramatic gesture, and in doing so provoked the wrath of the religious Spanish infante.'",
         "How did the Pope provoke the Spanish infant?",
         "[\"'Charles III wrath Pope incident', 'Charles III gift Mare Pope Holy Roman Emperor','Uncommon gesture Pope gift Spanish infant'\"]",
         "[3324]"
        ],
        [
         "7",
         "8",
         "EN_66_19",
         "'Battle of Jumonville Glen When news of the two battles reached England in August, the government of the Duke of Newcastle, after several months of negotiations, sent an army expedition the following year to dislodge the French.  Major General Edward Braddock was chosen to lead the expedition. He was defeated at the Battle of the Monongahela, and the French remained in control of Fort Duquesne until 1758, when an expedition under General John Forbes finally succeeded in taking the fort.'",
         "'Battle of Jumonville Glen When news of the two battles reached England in August, the government of the Duke of Newcastle, after several months of negotiations, sent an army expedition the following year to dislodge the French.  Major General Edward Braddock was chosen to lead the expedition. He was defeated at the Battle of the Monongahela, and the French remained in control of Fort Duquesne until 1758, when an expedition under General John Forbes finally succeeded in taking the fort.'",
         "In which battle was Major General Edwar Braddock defeated?",
         "[\"'Edwar Braddock defeat battle', 'Last Battle Major General Edward Braddock'\"]",
         "[4328, 10422, 6121]"
        ],
        [
         "8",
         "9",
         "EN_66_19",
         "'Battle of Jumonville Glen When news of the two battles reached England in August, the government of the Duke of Newcastle, after several months of negotiations, sent an army expedition the following year to dislodge the French.  Major General Edward Braddock was chosen to lead the expedition. He was defeated at the Battle of the Monongahela, and the French remained in control of Fort Duquesne until 1758, when an expedition under General John Forbes finally succeeded in taking the fort.'",
         "'Battle of Jumonville Glen When news of the two battles reached England in August, the government of the Duke of Newcastle, after several months of negotiations, sent an army expedition the following year to dislodge the French.  Major General Edward Braddock was chosen to lead the expedition. He was defeated at the Battle of the Monongahela, and the French remained in control of Fort Duquesne until 1758, when an expedition under General John Forbes finally succeeded in taking the fort.'",
         "Until what year did the French control Fort Duquesne?",
         "[\"Fort Duquesne French control year'', 'Year French lost control Fort Duquense'\"]",
         "[4328, 12779, 12791]"
        ],
        [
         "9",
         "10",
         "EN_62_25",
         "Battle of Fort Necessity Word of the British military plans leaked to France well before Braddock's departure for North America, and King Louis XV dispatched a much larger body of troops to Canada in 1755.  Although they arrived too late to participate in Braddock's defeat, the French troop presence led to a string of French victories in the following years.  In a second British act of aggression, Admiral Edward Boscawen fired on the French ship Alcide in a naval action on June 8, 1755, capturing her and two troop ships carrying some of those troops.  Military matters escalated on both North American soil and sea until France and Britain declared war on each other in spring 1756, marking the formal start of the Seven Years' War.",
         "Battle of Fort Necessity Word of the British military plans leaked to France well before Braddock's departure for North America, and King Louis XV dispatched a much larger body of troops to Canada in 1755.  Although they arrived too late to participate in Braddock's defeat, the French troop presence led to a string of French victories in the following years.  In a second British act of aggression, Admiral Edward Boscawen fired on the French ship Alcide in a naval action on June 8, 1755, capturing her and two troop ships carrying some of those troops.  Military matters escalated on both North American soil and sea until France and Britain declared war on each other in spring 1756, marking the formal start of the Seven Years' War.",
         "What year did Britain and France declared war at the start of the Seven Years War?",
         "[\"Seven years war starting year'', 'War declaration France and Britain Seven year war'\"]",
         "[4207,23559,14530,14536]"
        ]
       ],
       "shape": {
        "columns": 7,
        "rows": 10
       }
      },
      "text/html": [
       "<div>\n",
       "<style scoped>\n",
       "    .dataframe tbody tr th:only-of-type {\n",
       "        vertical-align: middle;\n",
       "    }\n",
       "\n",
       "    .dataframe tbody tr th {\n",
       "        vertical-align: top;\n",
       "    }\n",
       "\n",
       "    .dataframe thead th {\n",
       "        text-align: right;\n",
       "    }\n",
       "</style>\n",
       "<table border=\"1\" class=\"dataframe\">\n",
       "  <thead>\n",
       "    <tr style=\"text-align: right;\">\n",
       "      <th></th>\n",
       "      <th>id</th>\n",
       "      <th>doc_id</th>\n",
       "      <th>full_doc</th>\n",
       "      <th>passage</th>\n",
       "      <th>question</th>\n",
       "      <th>subqueries</th>\n",
       "      <th>relevant_docs</th>\n",
       "    </tr>\n",
       "  </thead>\n",
       "  <tbody>\n",
       "    <tr>\n",
       "      <th>0</th>\n",
       "      <td>1</td>\n",
       "      <td>EN_0_0</td>\n",
       "      <td>George Washington George Washington (February ...</td>\n",
       "      <td>George Washington George Washington (February ...</td>\n",
       "      <td>Who was the first president of the United states?</td>\n",
       "      <td>[\"'First president United States', 'Founding f...</td>\n",
       "      <td>[12829, 0]</td>\n",
       "    </tr>\n",
       "    <tr>\n",
       "      <th>1</th>\n",
       "      <td>2</td>\n",
       "      <td>EN_4_3</td>\n",
       "      <td>Abraham Baldwin Three years later after theolo...</td>\n",
       "      <td>Abraham Baldwin Three years later after theolo...</td>\n",
       "      <td>How served Abrahm Baldwin in the American Revo...</td>\n",
       "      <td>[\"'Abraham Baldwing role Revolutionary War', '...</td>\n",
       "      <td>[197, 200]</td>\n",
       "    </tr>\n",
       "    <tr>\n",
       "      <th>2</th>\n",
       "      <td>3</td>\n",
       "      <td>EN_28_14</td>\n",
       "      <td>Andrew Jackson In 1802, he also became major g...</td>\n",
       "      <td>Andrew Jackson In 1802, he also became major g...</td>\n",
       "      <td>When did Andrew Jackson become majore general?</td>\n",
       "      <td>[\"'Andrew Jackson major general', ' Positon Te...</td>\n",
       "      <td>[1996, 2008, 1982]</td>\n",
       "    </tr>\n",
       "    <tr>\n",
       "      <th>3</th>\n",
       "      <td>4</td>\n",
       "      <td>EN_28_14</td>\n",
       "      <td>Andrew Jackson In 1802, he also became major g...</td>\n",
       "      <td>Andrew Jackson In 1802, he also became major g...</td>\n",
       "      <td>Who accused Sevier of fraud and bribery?</td>\n",
       "      <td>[\"'Sevier fraud accusations', 'Sevier duel, fr...</td>\n",
       "      <td>[1996]</td>\n",
       "    </tr>\n",
       "    <tr>\n",
       "      <th>4</th>\n",
       "      <td>5</td>\n",
       "      <td>EN_46_123</td>\n",
       "      <td>'Atlantic slave trade The Spanish and Portugue...</td>\n",
       "      <td>'Atlantic slave trade The Spanish and Portugue...</td>\n",
       "      <td>Which quilombo comunity lasted for 100 years?</td>\n",
       "      <td>[\"'Quilombo community last 100 years', 'Slave ...</td>\n",
       "      <td>[3196]</td>\n",
       "    </tr>\n",
       "    <tr>\n",
       "      <th>5</th>\n",
       "      <td>6</td>\n",
       "      <td>EN_118_33</td>\n",
       "      <td>'Charles III of Spain The situation worsened w...</td>\n",
       "      <td>'Charles III of Spain The situation worsened w...</td>\n",
       "      <td>What animal the Pope accepted as a gift from t...</td>\n",
       "      <td>[\"'Pope coronation, traditional offer animal H...</td>\n",
       "      <td>[3324]</td>\n",
       "    </tr>\n",
       "    <tr>\n",
       "      <th>6</th>\n",
       "      <td>7</td>\n",
       "      <td>EN_118_33</td>\n",
       "      <td>'Charles III of Spain The situation worsened w...</td>\n",
       "      <td>'Charles III of Spain The situation worsened w...</td>\n",
       "      <td>How did the Pope provoke the Spanish infant?</td>\n",
       "      <td>[\"'Charles III wrath Pope incident', 'Charles ...</td>\n",
       "      <td>[3324]</td>\n",
       "    </tr>\n",
       "    <tr>\n",
       "      <th>7</th>\n",
       "      <td>8</td>\n",
       "      <td>EN_66_19</td>\n",
       "      <td>'Battle of Jumonville Glen When news of the tw...</td>\n",
       "      <td>'Battle of Jumonville Glen When news of the tw...</td>\n",
       "      <td>In which battle was Major General Edwar Braddo...</td>\n",
       "      <td>[\"'Edwar Braddock defeat battle', 'Last Battle...</td>\n",
       "      <td>[4328, 10422, 6121]</td>\n",
       "    </tr>\n",
       "    <tr>\n",
       "      <th>8</th>\n",
       "      <td>9</td>\n",
       "      <td>EN_66_19</td>\n",
       "      <td>'Battle of Jumonville Glen When news of the tw...</td>\n",
       "      <td>'Battle of Jumonville Glen When news of the tw...</td>\n",
       "      <td>Until what year did the French control Fort Du...</td>\n",
       "      <td>[\"Fort Duquesne French control year'', 'Year F...</td>\n",
       "      <td>[4328, 12779, 12791]</td>\n",
       "    </tr>\n",
       "    <tr>\n",
       "      <th>9</th>\n",
       "      <td>10</td>\n",
       "      <td>EN_62_25</td>\n",
       "      <td>Battle of Fort Necessity Word of the British m...</td>\n",
       "      <td>Battle of Fort Necessity Word of the British m...</td>\n",
       "      <td>What year did Britain and France declared war ...</td>\n",
       "      <td>[\"Seven years war starting year'', 'War declar...</td>\n",
       "      <td>[4207,23559,14530,14536]</td>\n",
       "    </tr>\n",
       "  </tbody>\n",
       "</table>\n",
       "</div>"
      ],
      "text/plain": [
       "   id     doc_id                                           full_doc  \\\n",
       "0   1     EN_0_0  George Washington George Washington (February ...   \n",
       "1   2     EN_4_3  Abraham Baldwin Three years later after theolo...   \n",
       "2   3   EN_28_14  Andrew Jackson In 1802, he also became major g...   \n",
       "3   4   EN_28_14  Andrew Jackson In 1802, he also became major g...   \n",
       "4   5  EN_46_123  'Atlantic slave trade The Spanish and Portugue...   \n",
       "5   6  EN_118_33  'Charles III of Spain The situation worsened w...   \n",
       "6   7  EN_118_33  'Charles III of Spain The situation worsened w...   \n",
       "7   8   EN_66_19  'Battle of Jumonville Glen When news of the tw...   \n",
       "8   9   EN_66_19  'Battle of Jumonville Glen When news of the tw...   \n",
       "9  10   EN_62_25  Battle of Fort Necessity Word of the British m...   \n",
       "\n",
       "                                             passage  \\\n",
       "0  George Washington George Washington (February ...   \n",
       "1  Abraham Baldwin Three years later after theolo...   \n",
       "2  Andrew Jackson In 1802, he also became major g...   \n",
       "3  Andrew Jackson In 1802, he also became major g...   \n",
       "4  'Atlantic slave trade The Spanish and Portugue...   \n",
       "5  'Charles III of Spain The situation worsened w...   \n",
       "6  'Charles III of Spain The situation worsened w...   \n",
       "7  'Battle of Jumonville Glen When news of the tw...   \n",
       "8  'Battle of Jumonville Glen When news of the tw...   \n",
       "9  Battle of Fort Necessity Word of the British m...   \n",
       "\n",
       "                                            question  \\\n",
       "0  Who was the first president of the United states?   \n",
       "1  How served Abrahm Baldwin in the American Revo...   \n",
       "2     When did Andrew Jackson become majore general?   \n",
       "3           Who accused Sevier of fraud and bribery?   \n",
       "4      Which quilombo comunity lasted for 100 years?   \n",
       "5  What animal the Pope accepted as a gift from t...   \n",
       "6       How did the Pope provoke the Spanish infant?   \n",
       "7  In which battle was Major General Edwar Braddo...   \n",
       "8  Until what year did the French control Fort Du...   \n",
       "9  What year did Britain and France declared war ...   \n",
       "\n",
       "                                          subqueries             relevant_docs  \n",
       "0  [\"'First president United States', 'Founding f...                [12829, 0]  \n",
       "1  [\"'Abraham Baldwing role Revolutionary War', '...                [197, 200]  \n",
       "2  [\"'Andrew Jackson major general', ' Positon Te...        [1996, 2008, 1982]  \n",
       "3  [\"'Sevier fraud accusations', 'Sevier duel, fr...                    [1996]  \n",
       "4  [\"'Quilombo community last 100 years', 'Slave ...                    [3196]  \n",
       "5  [\"'Pope coronation, traditional offer animal H...                    [3324]  \n",
       "6  [\"'Charles III wrath Pope incident', 'Charles ...                    [3324]  \n",
       "7  [\"'Edwar Braddock defeat battle', 'Last Battle...       [4328, 10422, 6121]  \n",
       "8  [\"Fort Duquesne French control year'', 'Year F...      [4328, 12779, 12791]  \n",
       "9  [\"Seven years war starting year'', 'War declar...  [4207,23559,14530,14536]  "
      ]
     },
     "execution_count": 31,
     "metadata": {},
     "output_type": "execute_result"
    }
   ],
   "source": [
    "df_ques = pd.read_excel('/export/usuarios_ml4ds/ammesa/Data/question_bank/toy_questions/preguntas_alonso_v1.xlsx')\n",
    "df_ques"
   ]
  },
  {
   "cell_type": "code",
   "execution_count": 21,
   "metadata": {},
   "outputs": [],
   "source": [
    "filtered_df = df_poly[df_poly['raw_text'].str.contains('isbn', case=False, na=False)]"
   ]
  },
  {
   "cell_type": "code",
   "execution_count": 22,
   "metadata": {},
   "outputs": [
    {
     "data": {
      "application/vnd.microsoft.datawrangler.viewer.v0+json": {
       "columns": [
        {
         "name": "index",
         "rawType": "int64",
         "type": "integer"
        },
        {
         "name": "id_preproc",
         "rawType": "object",
         "type": "string"
        },
        {
         "name": "raw_text",
         "rawType": "object",
         "type": "string"
        },
        {
         "name": "lemmas",
         "rawType": "object",
         "type": "string"
        },
        {
         "name": "lang",
         "rawType": "object",
         "type": "string"
        },
        {
         "name": "doc_id",
         "rawType": "int64",
         "type": "integer"
        }
       ],
       "conversionMethod": "pd.DataFrame",
       "ref": "3a95277a-0945-44f7-bc34-4140e1345dc7",
       "rows": [
        [
         "195",
         "EN_3_48",
         "50 State quarters Yeoman, R.S. (2014). Bressett, Kenneth (ed.). A Guide Book of United States Coins 2015 (68th ed.). Atlanta, Georgia: Whitman Publishing. ISBN 978-079484215-4. OCLC 875521690. OL 28306197M.",
         "state quarter yeoman bressett kenneth guide book united_states coins atlanta_georgia whitman_publishing isbn_oclc",
         "EN",
         "195"
        ],
        [
         "536",
         "EN_7_100",
         "Albany, New York Burger, Joanna (2006). Whispers in the Pines: a Naturalist in the Northeast. Piscataway, New Jersey: Rutgers University Press. ISBN 0-8135-3794-0.(Full text via Google Books.)",
         "albany_new york burger joanna whisper pine naturalist northeast piscataway new_jersey rutgers_university press_isbn google_books",
         "EN",
         "536"
        ],
        [
         "539",
         "EN_7_103",
         "Albany, New York Grondahl, Paul (2007). Mayor Erastus Corning: Albany Icon, Albany Enigma. Albany: State University of New York Press. ISBN 978-0-7914-7294-1.",
         "albany_new york grondahl paul mayor erastus_corning albany icon albany enigma albany state university new_york press_isbn",
         "EN",
         "539"
        ],
        [
         "542",
         "EN_7_106",
         "Albany, New York McEneny, John (2006). Albany, Capital City on the Hudson: An Illustrated History. Sun Valley, California: American Historical Press. ISBN 1-892724-53-7.",
         "albany_new york_mceneny john albany capital city hudson illustrated_history sun valley california american historical press_isbn",
         "EN",
         "542"
        ],
        [
         "545",
         "EN_7_109",
         "Albany, New York Rittner, Don (2002). Then & Now: Albany. Charleston, South Carolina: Arcadia Publishing. ISBN 0-7385-1142-0.",
         "albany_new york_rittner don albany charleston_south carolina arcadia_publishing isbn",
         "EN",
         "545"
        ],
        [
         "546",
         "EN_7_110",
         "Albany, New York Rittner, Don (2009). Remembering Albany: Heritage on the Hudson. Charleston, South Carolina: History Press. ISBN 978-1-59629-770-8.",
         "albany_new york_rittner don remembering albany heritage hudson charleston_south carolina history press_isbn",
         "EN",
         "546"
        ],
        [
         "547",
         "EN_7_112",
         "Albany, New York Waite, Diana S. (1993). Albany Architecture: A Guide to the City. Albany: Mount Ida Press. ISBN 0-9625368-1-4.",
         "albany_new york waite diana albany architecture guide city albany mount ida press_isbn",
         "EN",
         "547"
        ],
        [
         "551",
         "EN_7_116",
         "Albany, New York Button, Daniel Evan (2003). Take City Hall!. Albany: Whitston Publishing Company. ISBN 978-0-87875-542-4.",
         "albany_new york button daniel evan city hall albany whitston publishing_company isbn",
         "EN",
         "551"
        ],
        [
         "552",
         "EN_7_117",
         "Albany, New York Gehring, Charles T. (2000). Fort Orange Records 1656–1678. Syracuse, New York: Syracuse University Press. ISBN 978-0-585-30922-4.",
         "albany_new york gehring charles fort_orange records syracuse new_york syracuse_university press_isbn",
         "EN",
         "552"
        ],
        [
         "553",
         "EN_7_118",
         "Albany, New York Kennedy, William (1983). O Albany! Improbable City of Political Wizards, Fearless Ethnics, Spectacular Aristocrats, Splendid Nobodies, and Underrated Scoundrels. Albany: Viking Press. ISBN 978-0-670-52087-9.",
         "albany_new york kennedy william albany improbable city political wizards fearless ethnics spectacular aristocrats splendid nobodies underrated scoundrels albany viking_press isbn",
         "EN",
         "553"
        ],
        [
         "554",
         "EN_7_119",
         "Albany, New York McEneny, John (1998). Albany: Capital City on the Hudson. Sun Valley, California: American Historical Press. ISBN 978-0-965-47549-5.",
         "albany_new york_mceneny john albany capital city hudson sun valley california american historical press_isbn",
         "EN",
         "554"
        ],
        [
         "556",
         "EN_7_121",
         "Albany, New York Rittner, Don (2000). Images of America: Albany. Charleston, South Carolina: Arcadia Publishing. ISBN 0-7385-0088-7.",
         "albany_new york_rittner don image america albany charleston_south carolina arcadia_publishing isbn",
         "EN",
         "556"
        ],
        [
         "557",
         "EN_7_122",
         "Albany, New York Roberts, Warren (2010). A Place in History: Albany in the Age of Revolution, 1775–1825. Albany: SUNY Press. ISBN 978-1-4384-3329-5.",
         "albany_new york roberts warren place history albany age revolution albany_suny press_isbn",
         "EN",
         "557"
        ],
        [
         "558",
         "EN_7_123",
         "Albany, New York Scheltema, Gajus; Westerhuijs, Heleen, eds. (2011). Exploring Historic Dutch New York. New York: Museum of the City of New York / Dover Publications. ISBN 978-0-486-48637-6.",
         "albany_new york scheltema_gajus westerhuijs_heleen explore historic dutch new_york new_york museum city new_york dover_publications isbn",
         "EN",
         "558"
        ],
        [
         "598",
         "EN_8_38",
         "Albert A. Michelson Livingston, D. M. (1973). The Master of Light: A Biography of Albert A. Michelson. University of Chicago Press. ISBN 978-0-226-48711-3.",
         "albert_michelson livingston master light biography albert_michelson university_chicago press_isbn",
         "EN",
         "598"
        ],
        [
         "704",
         "EN_9_99",
         "Alexander Graham Bell Walters, Eric. The Hydrofoil Mystery. Toronto, Ontario, Canada: Puffin Books, 1999. ISBN 0-14-130220-8.",
         "alexander_graham bell walters eric hydrofoil mystery toronto_ontario canada puffin books_isbn",
         "EN",
         "704"
        ],
        [
         "705",
         "EN_9_100",
         "Alexander Graham Bell Winzer, Margret A. The History Of Special Education: From Isolation To Integration. Washington, D.C.: Gallaudet University Press, 1993. ISBN 978-1-56368-018-2.",
         "alexander_graham bell winzer margret history special education isolation integration washington gallaudet_university press_isbn",
         "EN",
         "705"
        ],
        [
         "976",
         "EN_13_27",
         "Alien and Sedition Acts Martin, Susan F. (2010). A Nation of Immigrants. Cambridge University Press. doi:10.1017/CBO9780511777943. ISBN 978-0511777943. S2CID 7071386.",
         "alien_sedition martin susan nation immigrants cambridge_university press_isbn",
         "EN",
         "976"
        ],
        [
         "980",
         "EN_13_31",
         "Alien and Sedition Acts Bird, Wendell. Press and Speech Under Assault: The Early Supreme Court Justices, the Sedition Act of 1798, and the Campaign Against Dissent. New York: Oxford University Press, 2016. ISBN 0190461624",
         "alien_sedition bird wendell press speech assault supreme_court justices sedition_act campaign dissent new_york oxford_university press_isbn",
         "EN",
         "980"
        ],
        [
         "986",
         "EN_13_37",
         "Alien and Sedition Acts Rosenfeld, Richard N. (1997). American Aurora: A Democratic-Republican Returns: The Suppressed History of Our Nation's Beginnings and the Heroic Newspaper That Tried to Report It. New York: St. Martin's Press. ISBN 978-0312150525.",
         "alien_sedition acts rosenfeld richard american aurora democratic_republican return suppressed history nation beginnings heroic newspaper report technology new_york martin press_isbn",
         "EN",
         "986"
        ],
        [
         "988",
         "EN_13_39",
         "Alien and Sedition Acts Stone, Geoffrey R. (2004). Perilous Times: Free Speech in Wartime from The Sedition Act of 1798 to the War on Terrorism. W.W. Norton & Co. ISBN 978-0393058802.",
         "alien_sedition stone geoffrey perilous times_free speech wartime sedition_act war terrorism norton_isbn",
         "EN",
         "988"
        ],
        [
         "989",
         "EN_13_40",
         "Alien and Sedition Acts Taylor, Alan (2004). \"The Alien and Sedition Acts\". In Zelizer, Julian E. (ed.). The American Congress. Houghton Mifflin. pp. 63–76. ISBN 978-0618179060.",
         "alien_sedition taylor_alan alien_sedition zelizer_julian american congress houghton_mifflin isbn",
         "EN",
         "989"
        ],
        [
         "1024",
         "EN_14_31",
         "All men are created equal Armitage, David (2007). The Declaration of Independence: A Global History. Cambridge, MA: Harvard University Press. ISBN 978-0-674-02282-9.",
         "create_equal armitage david declaration_independence global history cambridge_ma harvard_university press_isbn",
         "EN",
         "1024"
        ],
        [
         "1025",
         "EN_14_32",
         "All men are created equal Gowlland-Debbas, Vera (1990). Collective Responses to Illegal Acts in International Law: United Nations action in the question of Southern Rhodesia (First ed.). Leiden and New York: Martinus Nijhoff Publishers. ISBN 0-7923-0811-5.",
         "create_equal gowlland debbas vera collective response illegal international law united_nations action question southern_rhodesia leiden new_york martinus_nijhoff publishers_isbn",
         "EN",
         "1025"
        ],
        [
         "1026",
         "EN_14_33",
         "All men are created equal Oberle, Lora Polack (2002). The Declaration of Independence. Capstone Publishers. ISBN 978-0-7368-1095-1.",
         "create_equal oberle lora polack declaration_independence capstone publishers_isbn",
         "EN",
         "1026"
        ],
        [
         "1115",
         "EN_17_26",
         "American Enlightenment Weinberger, Jerry Benjamin Franklin Unmasked: On the Unity of His Moral, Religious, and Political Thought (University Press of Kansas, 2008) ISBN 0-7006-1584-9",
         "american enlightenment weinberger_jerry benjamin_franklin unmasked_unity moral religious political_thought university_press kansas_isbn",
         "EN",
         "1115"
        ],
        [
         "1116",
         "EN_17_27",
         "American Enlightenment Allen, Brooke Moral Minority: Our Skeptical Founding Fathers (2007) Ivan R Dee, Inc, ISBN 1-56663-751-1",
         "american enlightenment allen_brooke moral minority_skeptical founding_fathers ivan_r dee_inc isbn",
         "EN",
         "1116"
        ],
        [
         "1117",
         "EN_17_28",
         "American Enlightenment Bailyn, Bernard The Ideological Origins of the American Revolution (1992) Belknap Press of Harvard University Press, ISBN 0-674-44302-0",
         "american enlightenment bailyn_bernard ideological_origins american_revolution belknap_press harvard_university press_isbn",
         "EN",
         "1117"
        ],
        [
         "1118",
         "EN_17_29",
         "American Enlightenment Bedini, Silvio A Jefferson and Science (2002) The University of North Carolina Press, ISBN 1-882886-19-4",
         "american enlightenment bedini_silvio jefferson science university north_carolina press_isbn",
         "EN",
         "1118"
        ],
        [
         "1119",
         "EN_17_30",
         "American Enlightenment Cohen, I. Bernard Science and the Founding Fathers: Science in the Political Thought of Jefferson, Franklin, Adams and Madison (1995) W.W. Norton & Co, ISBN 0-393-03501-8",
         "american enlightenment cohen_bernard science father science political_thought jefferson franklin adams madison_norton co_isbn",
         "EN",
         "1119"
        ],
        [
         "1120",
         "EN_17_31",
         "American Enlightenment Dray, Philip Stealing God's Thunder: Benjamin Franklin's Lightning Rod and the Invention of America (2005) Random House, ISBN 1-4000-6032-X",
         "american enlightenment dray_philip stealing_god thunder_benjamin franklin_lightning rod_invention america random_house isbn",
         "EN",
         "1120"
        ],
        [
         "1122",
         "EN_17_33",
         "American Enlightenment Ferguson, Robert A. The American Enlightenment, 1750–1820 (1997) Harvard University Press, ISBN 0-674-02322-6",
         "american enlightenment ferguson_robert american enlightenment harvard_university press_isbn",
         "EN",
         "1122"
        ],
        [
         "1123",
         "EN_17_34",
         "American Enlightenment Gay, Peter The Enlightenment: The Rise of Modern Paganism (1995) W.W. Norton & Company, ISBN 0-393-31302-6; The Enlightenment: The Science of Freedom (1996) W.W. Norton & Company, ISBN 0-393-31366-2",
         "american enlightenment gay peter enlightenment rise modern paganism norton_company isbn enlightenment science freedom norton_company isbn",
         "EN",
         "1123"
        ],
        [
         "1125",
         "EN_17_36",
         "American Enlightenment Israel, Jonathan A Revolution of the Mind – Radical Enlightenment and the Intellectual Origins of Modern Democracy (2009) Princeton University Press, ISBN 0-691-14200-9",
         "american enlightenment israel_jonathan revolution mind radical enlightenment_intellectual origins modern democracy princeton_university press_isbn",
         "EN",
         "1125"
        ],
        [
         "1126",
         "EN_17_37",
         "American Enlightenment Jayne, Allen Jefferson's Declaration of Independence: Origins, Philosophy and Theology (2000) The University Press of Kentucky, ISBN 0-8131-9003-7; [traces TJ's sources and emphasizes his incorporation of Deist theology into the Declaration.]",
         "american enlightenment jayne_allen jefferson declaration_independence origins_philosophy theology university_press kentucky isbn trace_tj source emphasize_incorporation deist_theology declaration",
         "EN",
         "1126"
        ],
        [
         "1128",
         "EN_17_39",
         "American Enlightenment May, Henry F. The Enlightenment in America (1978) Oxford University Press, US, ISBN 0-19-502367-6; the standard survey",
         "american enlightenment henry enlightenment america oxford_university press ultrasound isbn standard survey",
         "EN",
         "1128"
        ],
        [
         "1130",
         "EN_17_41",
         "American Enlightenment McDonald, Forrest Novus Ordo Seclorum: Intellectual Origins of the Constitution (1986) University Press of Kansas, ISBN 0-7006-0311-5",
         "american enlightenment mcdonald_forrest novus_ordo seclorum_intellectual origins constitution university_press kansas_isbn",
         "EN",
         "1130"
        ],
        [
         "1132",
         "EN_17_43",
         "American Enlightenment Nelson, Craig Thomas Paine: Enlightenment, Revolution, and the Birth of Modern Nations (2007) Penguin, ISBN 0-14-311238-4",
         "american enlightenment nelson_craig thomas_paine enlightenment revolution birth modern nations_penguin isbn",
         "EN",
         "1132"
        ],
        [
         "1134",
         "EN_17_45",
         "American Enlightenment Richard, C.J. Founders and the Classics: Greece, Rome and the American Enlightenment (1995) Harvard University Press, ISBN 0-674-31426-3",
         "american enlightenment richard founder_classics greece_rome american enlightenment harvard_university press_isbn",
         "EN",
         "1134"
        ],
        [
         "1135",
         "EN_17_46",
         "American Enlightenment Sanford, Charles B. The Religious Life of Thomas Jefferson (1987) University of Virginia Press, ISBN 0-8139-1131-1",
         "american enlightenment sanford_charles religious life thomas_jefferson university virginia press_isbn",
         "EN",
         "1135"
        ],
        [
         "1136",
         "EN_17_47",
         "American Enlightenment Sheridan, Eugene R. Jefferson and Religion, preface by Martin Marty, (2001) University of North Carolina Press, ISBN 1-882886-08-9",
         "american enlightenment sheridan_eugene jefferson religion preface_martin marty_university north_carolina press_isbn",
         "EN",
         "1136"
        ],
        [
         "1137",
         "EN_17_48",
         "American Enlightenment Staloff, Darren Hamilton, Adams, Jefferson: The Politics of Enlightenment and the American Founding. (2005) Hill & Wang, ISBN 0-8090-7784-1",
         "american enlightenment staloff_darren hamilton adams jefferson politic enlightenment american founding hill_wang isbn",
         "EN",
         "1137"
        ],
        [
         "1138",
         "EN_17_49",
         "American Enlightenment Winterer, Caroline American Enlightenments: Pursuing Happiness in the Age of Reason (2016) Yale University Press, ISBN 0-300-19257-6",
         "american enlightenment_winterer caroline american enlightenments pursue_happiness age reason yale_university press_isbn",
         "EN",
         "1138"
        ],
        [
         "1144",
         "EN_17_55",
         "American Enlightenment Paine, Thomas. Thomas Paine: Collected Writings. Ed. Eric Foner. Library of America, 1995. ISBN 1-883011-03-5.",
         "american enlightenment paine thomas thomas_paine collected_writings ed eric_foner library america isbn",
         "EN",
         "1144"
        ],
        [
         "1726",
         "EN_24_139",
         "Culture of the United States Alexander, Charles C. (1980). Here the Country Lies: Nationalism and the Arts in Twentieth-Century America. Bloomington: Indiana University Press. ISBN 9780253155443.",
         "culture united_states alexander charles country lie nationalism arts twentieth_century america bloomington_indiana university_press isbn",
         "EN",
         "1726"
        ],
        [
         "1730",
         "EN_24_143",
         "Culture of the United States Crunden, Robert Morse (1996). A Brief History of American Culture. M.E. Sharpe. p. 363. ISBN 9781563248658.",
         "culture united_states crunden robert morse history american culture sharpe_isbn",
         "EN",
         "1730"
        ],
        [
         "1733",
         "EN_24_146",
         "Culture of the United States Marcus, Greil (2007). The Shape of Things to Come: Prophecy and the American Voice. Macmillan. ISBN 978-0-312-42642-2.",
         "culture united_states marcus greil shape things prophecy american voice macmillan_isbn",
         "EN",
         "1733"
        ],
        [
         "1734",
         "EN_24_147",
         "Culture of the United States Shell, Ellen Ruppel (2009). Cheap: The High Cost of Discount Culture. New York: Penguin Press. ISBN 978-1-59420-215-5.",
         "culture united_states ellen ruppel cheap cost discount culture new_york penguin_press isbn",
         "EN",
         "1734"
        ],
        [
         "1735",
         "EN_24_148",
         "Culture of the United States Swirski, Peter (2010). Ars Americana Ars Politica: Partisan Expression in Contemporary American Literature and Culture. Montreal, London: McGill-Queen's University Press. ISBN 978-0-7735-3766-8.",
         "culture united_states swirski peter ars americana ars politica partisan expression contemporary american literature culture montreal london mcgill_queen university_press isbn",
         "EN",
         "1735"
        ],
        [
         "1893",
         "EN_26_6",
         "Andrea Wulf This Other Eden: Seven Great Gardens and 300 Years of English History, Little, Brown, 2005, ISBN 9780316725804",
         "andrea_wulf eden great gardens english history little_brown isbn",
         "EN",
         "1893"
        ]
       ],
       "shape": {
        "columns": 5,
        "rows": 5349
       }
      },
      "text/html": [
       "<div>\n",
       "<style scoped>\n",
       "    .dataframe tbody tr th:only-of-type {\n",
       "        vertical-align: middle;\n",
       "    }\n",
       "\n",
       "    .dataframe tbody tr th {\n",
       "        vertical-align: top;\n",
       "    }\n",
       "\n",
       "    .dataframe thead th {\n",
       "        text-align: right;\n",
       "    }\n",
       "</style>\n",
       "<table border=\"1\" class=\"dataframe\">\n",
       "  <thead>\n",
       "    <tr style=\"text-align: right;\">\n",
       "      <th></th>\n",
       "      <th>id_preproc</th>\n",
       "      <th>raw_text</th>\n",
       "      <th>lemmas</th>\n",
       "      <th>lang</th>\n",
       "      <th>doc_id</th>\n",
       "    </tr>\n",
       "  </thead>\n",
       "  <tbody>\n",
       "    <tr>\n",
       "      <th>195</th>\n",
       "      <td>EN_3_48</td>\n",
       "      <td>50 State quarters Yeoman, R.S. (2014). Bresset...</td>\n",
       "      <td>state quarter yeoman bressett kenneth guide bo...</td>\n",
       "      <td>EN</td>\n",
       "      <td>195</td>\n",
       "    </tr>\n",
       "    <tr>\n",
       "      <th>536</th>\n",
       "      <td>EN_7_100</td>\n",
       "      <td>Albany, New York Burger, Joanna (2006). Whispe...</td>\n",
       "      <td>albany_new york burger joanna whisper pine nat...</td>\n",
       "      <td>EN</td>\n",
       "      <td>536</td>\n",
       "    </tr>\n",
       "    <tr>\n",
       "      <th>539</th>\n",
       "      <td>EN_7_103</td>\n",
       "      <td>Albany, New York Grondahl, Paul (2007). Mayor ...</td>\n",
       "      <td>albany_new york grondahl paul mayor erastus_co...</td>\n",
       "      <td>EN</td>\n",
       "      <td>539</td>\n",
       "    </tr>\n",
       "    <tr>\n",
       "      <th>542</th>\n",
       "      <td>EN_7_106</td>\n",
       "      <td>Albany, New York McEneny, John (2006). Albany,...</td>\n",
       "      <td>albany_new york_mceneny john albany capital ci...</td>\n",
       "      <td>EN</td>\n",
       "      <td>542</td>\n",
       "    </tr>\n",
       "    <tr>\n",
       "      <th>545</th>\n",
       "      <td>EN_7_109</td>\n",
       "      <td>Albany, New York Rittner, Don (2002). Then &amp; N...</td>\n",
       "      <td>albany_new york_rittner don albany charleston_...</td>\n",
       "      <td>EN</td>\n",
       "      <td>545</td>\n",
       "    </tr>\n",
       "    <tr>\n",
       "      <th>...</th>\n",
       "      <td>...</td>\n",
       "      <td>...</td>\n",
       "      <td>...</td>\n",
       "      <td>...</td>\n",
       "      <td>...</td>\n",
       "    </tr>\n",
       "    <tr>\n",
       "      <th>179236</th>\n",
       "      <td>T_EN_999_62</td>\n",
       "      <td>Historical background of the New Testament Ehr...</td>\n",
       "      <td>historical_background new_testament ehrman_bar...</td>\n",
       "      <td>ES</td>\n",
       "      <td>179236</td>\n",
       "    </tr>\n",
       "    <tr>\n",
       "      <th>179237</th>\n",
       "      <td>T_EN_999_63</td>\n",
       "      <td>Historical background of the New Testament Fre...</td>\n",
       "      <td>historical_background new_testament fredriksen...</td>\n",
       "      <td>ES</td>\n",
       "      <td>179237</td>\n",
       "    </tr>\n",
       "    <tr>\n",
       "      <th>179238</th>\n",
       "      <td>T_EN_999_64</td>\n",
       "      <td>Historical background of the New Testament Neu...</td>\n",
       "      <td>historical_background new_testament neusner ja...</td>\n",
       "      <td>ES</td>\n",
       "      <td>179238</td>\n",
       "    </tr>\n",
       "    <tr>\n",
       "      <th>179330</th>\n",
       "      <td>T_EN_9_100</td>\n",
       "      <td>Alexander Graham Bell Winzer, Margret A La his...</td>\n",
       "      <td>alexander_graham bell winzer margret la educac...</td>\n",
       "      <td>ES</td>\n",
       "      <td>179330</td>\n",
       "    </tr>\n",
       "    <tr>\n",
       "      <th>179431</th>\n",
       "      <td>T_EN_9_99</td>\n",
       "      <td>Alexander Graham Bell Walters, Eric El misteri...</td>\n",
       "      <td>alexander_graham bell walters eric el misterio...</td>\n",
       "      <td>ES</td>\n",
       "      <td>179431</td>\n",
       "    </tr>\n",
       "  </tbody>\n",
       "</table>\n",
       "<p>5349 rows × 5 columns</p>\n",
       "</div>"
      ],
      "text/plain": [
       "         id_preproc                                           raw_text  \\\n",
       "195         EN_3_48  50 State quarters Yeoman, R.S. (2014). Bresset...   \n",
       "536        EN_7_100  Albany, New York Burger, Joanna (2006). Whispe...   \n",
       "539        EN_7_103  Albany, New York Grondahl, Paul (2007). Mayor ...   \n",
       "542        EN_7_106  Albany, New York McEneny, John (2006). Albany,...   \n",
       "545        EN_7_109  Albany, New York Rittner, Don (2002). Then & N...   \n",
       "...             ...                                                ...   \n",
       "179236  T_EN_999_62  Historical background of the New Testament Ehr...   \n",
       "179237  T_EN_999_63  Historical background of the New Testament Fre...   \n",
       "179238  T_EN_999_64  Historical background of the New Testament Neu...   \n",
       "179330   T_EN_9_100  Alexander Graham Bell Winzer, Margret A La his...   \n",
       "179431    T_EN_9_99  Alexander Graham Bell Walters, Eric El misteri...   \n",
       "\n",
       "                                                   lemmas lang  doc_id  \n",
       "195     state quarter yeoman bressett kenneth guide bo...   EN     195  \n",
       "536     albany_new york burger joanna whisper pine nat...   EN     536  \n",
       "539     albany_new york grondahl paul mayor erastus_co...   EN     539  \n",
       "542     albany_new york_mceneny john albany capital ci...   EN     542  \n",
       "545     albany_new york_rittner don albany charleston_...   EN     545  \n",
       "...                                                   ...  ...     ...  \n",
       "179236  historical_background new_testament ehrman_bar...   ES  179236  \n",
       "179237  historical_background new_testament fredriksen...   ES  179237  \n",
       "179238  historical_background new_testament neusner ja...   ES  179238  \n",
       "179330  alexander_graham bell winzer margret la educac...   ES  179330  \n",
       "179431  alexander_graham bell walters eric el misterio...   ES  179431  \n",
       "\n",
       "[5349 rows x 5 columns]"
      ]
     },
     "execution_count": 22,
     "metadata": {},
     "output_type": "execute_result"
    }
   ],
   "source": [
    "filtered_df"
   ]
  },
  {
   "cell_type": "code",
   "execution_count": null,
   "metadata": {},
   "outputs": [],
   "source": []
  }
 ],
 "metadata": {
  "kernelspec": {
   "display_name": ".venv_idx",
   "language": "python",
   "name": "python3"
  },
  "language_info": {
   "codemirror_mode": {
    "name": "ipython",
    "version": 3
   },
   "file_extension": ".py",
   "mimetype": "text/x-python",
   "name": "python",
   "nbconvert_exporter": "python",
   "pygments_lexer": "ipython3",
   "version": "3.12.3"
  }
 },
 "nbformat": 4,
 "nbformat_minor": 2
}
