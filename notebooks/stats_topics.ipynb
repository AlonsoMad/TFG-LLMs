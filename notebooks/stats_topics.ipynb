{
 "cells": [
  {
   "cell_type": "code",
   "execution_count": 1,
   "id": "37e32f89",
   "metadata": {},
   "outputs": [],
   "source": [
    "import pandas as pd\n",
    "import os\n",
    "import sys\n",
    "import logging\n",
    "import pathlib\n",
    "import random\n",
    "from itertools import product\n",
    "from scipy import sparse\n",
    "from typing import List, Optional, Union\n",
    "\n",
    "import gensim.downloader as api\n",
    "import numpy as np"
   ]
  },
  {
   "cell_type": "code",
   "execution_count": 6,
   "id": "79dc75a5",
   "metadata": {},
   "outputs": [],
   "source": [
    "zs_top_path = '/export/usuarios_ml4ds/ammesa/ZS_results/en_2025-06-04_segmented_dataset.parquet.gzip/n_topics_9/ZS_output'\n",
    "m_trans_path = '/export/usuarios_ml4ds/ammesa/mallet_folder/en_2025-06-04_segm_trans/n_topics_50/mallet_output'\n",
    "m_match_path = '/export/usuarios_ml4ds/ammesa/mallet_folder/en_2025_06_05_matched/n_topics_50/mallet_output'"
   ]
  },
  {
   "cell_type": "code",
   "execution_count": 7,
   "id": "a9bdbd22",
   "metadata": {},
   "outputs": [
    {
     "data": {
      "text/plain": [
       "(9246, 9)"
      ]
     },
     "execution_count": 7,
     "metadata": {},
     "output_type": "execute_result"
    }
   ],
   "source": [
    "thetas_ZS = np.load(os.path.join(zs_top_path, 'thetas.npy'))\n",
    "thetas_ZS.shape"
   ]
  },
  {
   "cell_type": "code",
   "execution_count": 4,
   "id": "b7dec79a",
   "metadata": {},
   "outputs": [
    {
     "data": {
      "text/plain": [
       "array([[0.3861579 , 0.00502193, 0.00573582, ..., 0.00462588, 0.01017264,\n",
       "        0.4985272 ],\n",
       "       [0.17009972, 0.07433351, 0.08401922, ..., 0.04901459, 0.10454641,\n",
       "        0.17097816],\n",
       "       [0.14164312, 0.10651322, 0.04721594, ..., 0.06317656, 0.1355847 ,\n",
       "        0.15852809],\n",
       "       ...,\n",
       "       [0.02423584, 0.2329495 , 0.38484237, ..., 0.08882716, 0.07800911,\n",
       "        0.04830971],\n",
       "       [0.02935929, 0.14023179, 0.12160654, ..., 0.18201917, 0.0926519 ,\n",
       "        0.02351013],\n",
       "       [0.02680672, 0.17012973, 0.18815319, ..., 0.28651634, 0.02834655,\n",
       "        0.05666547]], dtype=float32)"
      ]
     },
     "execution_count": 4,
     "metadata": {},
     "output_type": "execute_result"
    }
   ],
   "source": [
    "thetas_ZS"
   ]
  },
  {
   "cell_type": "code",
   "execution_count": 5,
   "id": "d76123a0",
   "metadata": {},
   "outputs": [
    {
     "data": {
      "text/plain": [
       "(7387, 50)"
      ]
     },
     "execution_count": 5,
     "metadata": {},
     "output_type": "execute_result"
    }
   ],
   "source": [
    "thetas_match = sparse.load_npz(os.path.join(m_match_path, 'thetas_EN.npz')).toarray()\n",
    "thetas_match.shape"
   ]
  },
  {
   "cell_type": "code",
   "execution_count": null,
   "id": "9de4d1f7",
   "metadata": {},
   "outputs": [],
   "source": []
  }
 ],
 "metadata": {
  "kernelspec": {
   "display_name": ".venv_idx",
   "language": "python",
   "name": "python3"
  },
  "language_info": {
   "codemirror_mode": {
    "name": "ipython",
    "version": 3
   },
   "file_extension": ".py",
   "mimetype": "text/x-python",
   "name": "python",
   "nbconvert_exporter": "python",
   "pygments_lexer": "ipython3",
   "version": "3.12.3"
  }
 },
 "nbformat": 4,
 "nbformat_minor": 5
}
